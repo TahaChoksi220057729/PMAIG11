{
 "cells": [
  {
   "cell_type": "markdown",
   "id": "c175d4d6132787b7",
   "metadata": {},
   "source": [
    "### Download dataset from Kaggle, fashion_mnist\n",
    "\n",
    "todo: explain why we choose to use fashion_mnist"
   ]
  },
  {
   "cell_type": "code",
   "execution_count": 19,
   "id": "initial_id",
   "metadata": {
    "ExecuteTime": {
     "start_time": "2024-11-30T12:42:44.925963Z"
    },
    "jupyter": {
     "is_executing": true
    }
   },
   "outputs": [
    {
     "name": "stdout",
     "output_type": "stream",
     "text": [
      "(60000, 785)\n",
      "(10000, 785)\n"
     ]
    }
   ],
   "source": [
    "import pandas as pd\n",
    "import matplotlib.pyplot as plt\n",
    "import numpy as np\n",
    "\n",
    "training_set = pd.read_csv('Dataset/fashion_data/fashion-mnist_train.csv')\n",
    "test_set = pd.read_csv('Dataset/fashion_data/fashion-mnist_test.csv')\n",
    "\n",
    "print(training_set.shape)\n",
    "print(test_set.shape)"
   ]
  },
  {
   "cell_type": "markdown",
   "id": "99bd1df81b11ee9",
   "metadata": {},
   "source": [
    "perform data cleaning"
   ]
  },
  {
   "cell_type": "code",
   "execution_count": 20,
   "id": "e0306a4ea9e7d442",
   "metadata": {
    "ExecuteTime": {
     "end_time": "2024-11-30T12:41:50.930074Z",
     "start_time": "2024-11-30T12:41:50.927427Z"
    }
   },
   "outputs": [
    {
     "name": "stdout",
     "output_type": "stream",
     "text": [
      "(60000, 784)\n",
      "(60000,)\n",
      "(10000, 784)\n",
      "(10000,)\n"
     ]
    }
   ],
   "source": [
    "# X is pixels, y is labels\n",
    "y_train = training_set.iloc[:, 0].to_numpy()\n",
    "X_train = training_set.iloc[:, 1:].to_numpy()\n",
    "y_test = test_set.iloc[:, 0].to_numpy()\n",
    "X_test = test_set.iloc[:, 1:].to_numpy()\n",
    "\n",
    "\n",
    "print(X_train.shape)\n",
    "print(y_train.shape)\n",
    "print(X_test.shape)\n",
    "print(y_test.shape)"
   ]
  },
  {
   "cell_type": "code",
   "execution_count": 21,
   "id": "c3ad543f1f410c0f",
   "metadata": {
    "ExecuteTime": {
     "end_time": "2024-11-30T12:41:51.037761Z",
     "start_time": "2024-11-30T12:41:50.946646Z"
    }
   },
   "outputs": [
    {
     "data": {
      "image/png": "[encoded data removed]",
      "text/plain": [
       "<Figure size 640x480 with 1 Axes>"
      ]
     },
     "metadata": {},
     "output_type": "display_data"
    }
   ],
   "source": [
    "#visualising one image\n",
    "\n",
    "# choosing the first image\n",
    "image_array = X_train[0]\n",
    "label = y_train[0]\n",
    "\n",
    "# reshape 784 to 28x28\n",
    "image_array = image_array.reshape(28, 28)\n",
    "\n",
    "# plotting the image\n",
    "plt.imshow(image_array, cmap='gray')\n",
    "plt.title(f\"Label: {label}\")\n",
    "plt.axis('off')\n",
    "plt.show()\n"
   ]
  },
  {
   "cell_type": "code",
   "execution_count": 22,
   "id": "e19cba663018fe9a",
   "metadata": {
    "ExecuteTime": {
     "end_time": "2024-11-30T12:41:51.157317Z",
     "start_time": "2024-11-30T12:41:51.049636Z"
    }
   },
   "outputs": [
    {
     "name": "stdout",
     "output_type": "stream",
     "text": [
      "(60000, 784)\n",
      "[[0. 0. 0. ... 0. 0. 0.]\n",
      " [0. 0. 0. ... 0. 0. 0.]\n",
      " [0. 0. 0. ... 0. 0. 0.]\n",
      " [0. 0. 0. ... 0. 0. 0.]\n",
      " [0. 0. 0. ... 0. 0. 0.]]\n",
      "[[0.         0.         0.         ... 0.         0.         0.        ]\n",
      " [0.         0.         0.         ... 0.         0.         0.        ]\n",
      " [0.         0.         0.         ... 0.         0.         0.        ]\n",
      " [0.         0.         0.         ... 0.21960784 0.         0.        ]\n",
      " [0.         0.         0.         ... 0.         0.         0.        ]]\n"
     ]
    }
   ],
   "source": [
    "# rescaling the pixel values down to values between 0 - 1 for efficiency of neural network\n",
    "\n",
    "X_train = X_train / 255.0\n",
    "X_test = X_test / 255.0\n",
    "\n",
    "print(X_train.shape)\n",
    "print(X_train[:5])\n",
    "print(X_test[:5])"
   ]
  },
  {
   "cell_type": "code",
   "execution_count": 23,
   "id": "97de46df7fa7c311",
   "metadata": {
    "ExecuteTime": {
     "end_time": "2024-11-30T12:41:51.174416Z",
     "start_time": "2024-11-30T12:41:51.169309Z"
    }
   },
   "outputs": [
    {
     "name": "stdout",
     "output_type": "stream",
     "text": [
      "(60000, 10)\n",
      "       0      1      2      3      4      5      6      7      8      9\n",
      "0  False  False   True  False  False  False  False  False  False  False\n",
      "1  False  False  False  False  False  False  False  False  False   True\n",
      "2  False  False  False  False  False  False   True  False  False  False\n",
      "3   True  False  False  False  False  False  False  False  False  False\n",
      "4  False  False  False   True  False  False  False  False  False  False\n"
     ]
    }
   ],
   "source": [
    "# one hot encoding for labels\n",
    "\n",
    "y_train = pd.get_dummies(y_train)\n",
    "y_test = pd.get_dummies(y_test)\n",
    "\n",
    "print(y_train.shape)\n",
    "print(y_train[:5])\n"
   ]
  },
  {
   "cell_type": "code",
   "execution_count": 24,
   "id": "c71c15c75dd284c0",
   "metadata": {
    "ExecuteTime": {
     "end_time": "2024-11-30T12:41:51.189152Z",
     "start_time": "2024-11-30T12:41:51.187186Z"
    }
   },
   "outputs": [],
   "source": [
    "# for reproducibility\n",
    "np.random.seed(42)\n",
    "\n",
    "# architecture of the neural network\n",
    "input_nodes = X_train.shape[1]     \n",
    "hidden_nodes = 128             \n",
    "output_nodes = 10"
   ]
  },
  {
   "cell_type": "code",
   "execution_count": 25,
   "id": "c611da5a67745c68",
   "metadata": {
    "ExecuteTime": {
     "end_time": "2024-11-30T12:41:51.218206Z",
     "start_time": "2024-11-30T12:41:51.214374Z"
    }
   },
   "outputs": [
    {
     "name": "stdout",
     "output_type": "stream",
     "text": [
      "(784, 10) (10, 1) (10, 10) (10, 1)\n"
     ]
    }
   ],
   "source": [
    "def init_param():\n",
    "    W1 = np.random.rand(10, 784) - 0.5\n",
    "    b1 = np.random.rand(10, 1) - 0.5\n",
    "    W2 = np.random.rand(10, 10) - 0.5\n",
    "    b2 = np.random.rand(10, 1) - 0.5\n",
    "\n",
    "    print(w1.shape, b1.shape, w2.shape, b2.shape)\n",
    "    \n",
    "    return w1, b1, w2, b2\n",
    "\n",
    "w1, b1, w2, b2 = init_param()"
   ]
  },
  {
   "cell_type": "code",
   "execution_count": 26,
   "id": "2246ea3f1eb50fb8",
   "metadata": {
    "ExecuteTime": {
     "end_time": "2024-11-30T12:41:51.285282Z",
     "start_time": "2024-11-30T12:41:51.282756Z"
    }
   },
   "outputs": [],
   "source": [
    "# activation functions and its derivatives\n",
    "def ReLU(x):\n",
    "    t= x * (x > 0)\n",
    "    return t\n",
    "\n",
    "def ReLU_derivative(x):\n",
    "    return (x >= 0) * 1\n",
    "\n",
    "def sigmoid(x):\n",
    "    s=1/(1+np.exp(-x))\n",
    "    return s\n",
    "\n",
    "def sigmoid_derivative(x):\n",
    "    s=1/(1+np.exp(-x))\n",
    "    ds=s*(1-s)  \n",
    "    return ds\n",
    "    \n",
    "def softmax(x):\n",
    "    np.exp(x)/sum(np.exp(x))"
   ]
  },
  {
   "cell_type": "code",
   "execution_count": 27,
   "id": "d9d714fff9ba3bf1",
   "metadata": {
    "ExecuteTime": {
     "end_time": "2024-11-30T12:41:36.200266Z",
     "start_time": "2024-11-30T12:41:36.195449Z"
    }
   },
   "outputs": [],
   "source": [
    "def forward_prop(X, w1, b1, w2, b2):\n",
    "    print(X.T.shape)\n",
    "\n",
    "    print(\"w\")\n",
    "\n",
    "    print(w1.shape)\n",
    "    z1 = np.dot(X.T, w1) + b1\n",
    "    a1 = relu(z1)\n",
    "    z2 = np.dot(a1, w2) + b2\n",
    "    a2 = softmax(z2)\n",
    "    return z1, a1, z2, a2\n",
    "\n",
    "def neg_log_likelihood(y, y_hat):\n",
    "    return -1/len(y) * np.sum(np.sum(y * np.log(y_hat)))"
   ]
  },
  {
   "cell_type": "code",
   "execution_count": 28,
   "id": "143b8ab7-156f-4a18-9009-7100e7a0335a",
   "metadata": {},
   "outputs": [],
   "source": [
    "def back_prop(z1, a1, z2, a2, w2, X_train, y_train):\n",
    "    \n",
    "    dz2 = a2 - y_train\n",
    "    \n",
    "    dw2 = 1 / m * np.dot(dz2, a1.T)\n",
    "    \n",
    "    db2 = 1 / m * np.sum(dz2, 2)\n",
    "\n",
    "    dz1 = np.dot(w2.T, dz2) * relu_derivative(z1)\n",
    "    \n",
    "\n",
    "    dw1 = 1 / m * np.dot(dz2, X_train.T)\n",
    "    \n",
    "    db1 = 1 / m * np.sum(dz1, 2)\n",
    "    \n",
    "\n",
    "    return dw1, db1, dw2, db2\n"
   ]
  },
  {
   "cell_type": "code",
   "execution_count": 29,
   "id": "6bf90759-a691-4257-8465-89b0ffba9902",
   "metadata": {},
   "outputs": [],
   "source": [
    "def update_param(W1, b1, W2, b2, dW1, db1, dW2, db2, alpha):\n",
    "    W1 = W1 - alpha * dW1\n",
    "    b1 = b1 - alpha * db1    \n",
    "    W2 = W2 - alpha * dW2  \n",
    "    b2 = b2 - alpha * db2    \n",
    "    return W1, b1, W2, b2\n",
    "\n",
    "def get_predictions(A2):\n",
    "    return np.argmax(A2, 0)\n",
    "\n",
    "def get_accuracy(predictions, Y):\n",
    "    print(predictions, Y)\n",
    "    return np.sum(predictions == Y) / Y.size\n",
    "\n",
    "def gradient_descent(X, Y, alpha, iterations):\n",
    "    \n",
    "    W1, b1, W2, b2 = init_param()\n",
    "    \n",
    "    for i in range(iterations):\n",
    "        Z1, A1, Z2, A2 = forward_prop(W1, b1, W2, b2, X)\n",
    "        dW1, db1, dW2, db2 = backward_prop(Z1, A1, Z2, A2, W1, W2, X, Y)\n",
    "        W1, b1, W2, b2 = update_param(W1, b1, W2, b2, dW1, db1, dW2, db2, alpha)\n",
    "        if i % 10 == 0:\n",
    "            print(\"Iteration: \", i)\n",
    "            predictions = get_predictions(A2)\n",
    "            print(get_accuracy(predictions, Y))\n",
    "            \n",
    "    return W1, b1, W2, b2"
   ]
  },
  {
   "cell_type": "code",
   "execution_count": 30,
   "id": "63de6a03-a077-49eb-9806-264321f67892",
   "metadata": {
    "scrolled": true
   },
   "outputs": [
    {
     "name": "stdout",
     "output_type": "stream",
     "text": [
      "(784, 10) (10, 1) (10, 10) (10, 1)\n",
      "(10, 784)\n",
      "w\n",
      "(10, 1)\n"
     ]
    },
    {
     "ename": "ValueError",
     "evalue": "shapes (10,784) and (10,1) not aligned: 784 (dim 1) != 10 (dim 0)",
     "output_type": "error",
     "traceback": [
      "\u001b[0;31m---------------------------------------------------------------------------\u001b[0m",
      "\u001b[0;31mValueError\u001b[0m                                Traceback (most recent call last)",
      "Cell \u001b[0;32mIn[30], line 1\u001b[0m\n\u001b[0;32m----> 1\u001b[0m W1, b1, W2, b2 \u001b[38;5;241m=\u001b[39m gradient_descent(X_train, y_train, \u001b[38;5;241m0.10\u001b[39m, \u001b[38;5;241m500\u001b[39m)\n",
      "Cell \u001b[0;32mIn[29], line 20\u001b[0m, in \u001b[0;36mgradient_descent\u001b[0;34m(X, Y, alpha, iterations)\u001b[0m\n\u001b[1;32m     17\u001b[0m W1, b1, W2, b2 \u001b[38;5;241m=\u001b[39m init_param()\n\u001b[1;32m     19\u001b[0m \u001b[38;5;28;01mfor\u001b[39;00m i \u001b[38;5;129;01min\u001b[39;00m \u001b[38;5;28mrange\u001b[39m(iterations):\n\u001b[0;32m---> 20\u001b[0m     Z1, A1, Z2, A2 \u001b[38;5;241m=\u001b[39m forward_prop(W1, b1, W2, b2, X)\n\u001b[1;32m     21\u001b[0m     dW1, db1, dW2, db2 \u001b[38;5;241m=\u001b[39m backward_prop(Z1, A1, Z2, A2, W1, W2, X, Y)\n\u001b[1;32m     22\u001b[0m     W1, b1, W2, b2 \u001b[38;5;241m=\u001b[39m update_param(W1, b1, W2, b2, dW1, db1, dW2, db2, alpha)\n",
      "Cell \u001b[0;32mIn[27], line 7\u001b[0m, in \u001b[0;36mforward_prop\u001b[0;34m(X, w1, b1, w2, b2)\u001b[0m\n\u001b[1;32m      4\u001b[0m \u001b[38;5;28mprint\u001b[39m(\u001b[38;5;124m\"\u001b[39m\u001b[38;5;124mw\u001b[39m\u001b[38;5;124m\"\u001b[39m)\n\u001b[1;32m      6\u001b[0m \u001b[38;5;28mprint\u001b[39m(w1\u001b[38;5;241m.\u001b[39mshape)\n\u001b[0;32m----> 7\u001b[0m z1 \u001b[38;5;241m=\u001b[39m np\u001b[38;5;241m.\u001b[39mdot(X\u001b[38;5;241m.\u001b[39mT, w1) \u001b[38;5;241m+\u001b[39m b1\n\u001b[1;32m      8\u001b[0m a1 \u001b[38;5;241m=\u001b[39m relu(z1)\n\u001b[1;32m      9\u001b[0m z2 \u001b[38;5;241m=\u001b[39m np\u001b[38;5;241m.\u001b[39mdot(a1, w2) \u001b[38;5;241m+\u001b[39m b2\n",
      "\u001b[0;31mValueError\u001b[0m: shapes (10,784) and (10,1) not aligned: 784 (dim 1) != 10 (dim 0)"
     ]
    }
   ],
   "source": [
    "W1, b1, W2, b2 = gradient_descent(X_train, y_train, 0.10, 500)"
   ]
  },
  {
   "cell_type": "code",
   "execution_count": null,
   "id": "0e3a3c96-fa60-46c6-8e3c-6fdba4ed6b64",
   "metadata": {},
   "outputs": [],
   "source": []
  }
 ],
 "metadata": {
  "kernelspec": {
   "display_name": "Python 3 (ipykernel)",
   "language": "python",
   "name": "python3"
  },
  "language_info": {
   "codemirror_mode": {
    "name": "ipython",
    "version": 3
   },
   "file_extension": ".py",
   "mimetype": "text/x-python",
   "name": "python",
   "nbconvert_exporter": "python",
   "pygments_lexer": "ipython3",
   "version": "3.12.7"
  }
 },
 "nbformat": 4,
 "nbformat_minor": 5
}
