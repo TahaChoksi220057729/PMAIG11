{
 "cells": [
  {
   "metadata": {},
   "cell_type": "markdown",
   "source": "## Task 2",
   "id": "31761c6b44403184"
  },
  {
   "metadata": {},
   "cell_type": "markdown",
   "source": "### Import modules and path",
   "id": "35d1e7e653f73e70"
  },
  {
   "cell_type": "code",
   "id": "initial_id",
   "metadata": {
    "collapsed": true,
    "ExecuteTime": {
     "end_time": "2024-12-29T08:55:20.443783Z",
     "start_time": "2024-12-29T08:55:18.761154Z"
    }
   },
   "source": [
    "import matplotlib.pyplot as plt\n",
    "import os\n",
    "import numpy as np\n",
    "\n",
    "import torch\n",
    "from torch import nn\n",
    "from torch.utils.data import DataLoader, random_split\n",
    "from torchvision import datasets, transforms\n",
    "import torch.nn.functional as F\n",
    "\n",
    "base_path = \"./../Dataset/cifake\"\n",
    "train_path = os.path.join(base_path, \"train\")"
   ],
   "outputs": [],
   "execution_count": 1
  },
  {
   "metadata": {},
   "cell_type": "markdown",
   "source": [
    "### Loading datasets using ImageFolder and DataLoaders\n",
    "\n",
    "transform: convert pixel values to tensors and normalising it to range [0, 1].\n",
    "There are 100,000 images for training (50k per class), we extract 20% of these as validation class."
   ],
   "id": "5be31ddd2f4a1ecb"
  },
  {
   "metadata": {
    "ExecuteTime": {
     "end_time": "2024-12-29T08:55:22.006072Z",
     "start_time": "2024-12-29T08:55:21.977909Z"
    }
   },
   "cell_type": "code",
   "source": [
    "device = torch.device(\"mps\") if torch.backends.mps.is_available() else torch.device(\"cpu\") #if you're using mac\n",
    "# device = torch.device(\"cuda\" if torch.cuda.is_available() else \"cpu\") #if not mac"
   ],
   "id": "e1fedc9faa6841a0",
   "outputs": [],
   "execution_count": 2
  },
  {
   "metadata": {
    "ExecuteTime": {
     "end_time": "2024-12-29T09:43:28.102282Z",
     "start_time": "2024-12-29T09:43:27.677145Z"
    }
   },
   "cell_type": "code",
   "source": [
    "# convert to tensors and normalise pixel values to [0, 1]\n",
    "transform = transforms.Compose([\n",
    "    transforms.RandomHorizontalFlip(p=0.5),\n",
    "    transforms.RandomRotation(degrees=10),\n",
    "    transforms.RandomCrop(size=32, padding=4),\n",
    "    transforms.ToTensor(),\n",
    "    transforms.Normalize(mean=[0.0, 0.0, 0.0], std=[1.0, 1.0, 1.0])\n",
    "])\n",
    "\n",
    "train_dataset = datasets.ImageFolder(root=train_path, transform=transform)"
   ],
   "id": "5544d1c8e74bb37b",
   "outputs": [],
   "execution_count": 33
  },
  {
   "metadata": {},
   "cell_type": "markdown",
   "source": "Splitting validation set",
   "id": "63b80cef33d471a5"
  },
  {
   "metadata": {
    "ExecuteTime": {
     "end_time": "2024-12-29T09:43:29.245641Z",
     "start_time": "2024-12-29T09:43:29.239587Z"
    }
   },
   "cell_type": "code",
   "source": [
    "val_ratio = 0.2\n",
    "val_size = int(val_ratio * len(train_dataset))\n",
    "train_size = len(train_dataset) - val_size\n",
    "train_dataset, val_dataset = random_split(train_dataset, [train_size, val_size])\n",
    "print(f\"Validation Dataset Shape: {val_dataset.__len__()}\")\n",
    "print(f\"Training Dataset Shape: {train_dataset.__len__()}\")"
   ],
   "id": "f610a7b53c52fd38",
   "outputs": [
    {
     "name": "stdout",
     "output_type": "stream",
     "text": [
      "Validation Dataset Shape: 20000\n",
      "Training Dataset Shape: 80000\n"
     ]
    }
   ],
   "execution_count": 34
  },
  {
   "metadata": {
    "ExecuteTime": {
     "end_time": "2024-12-29T09:43:45.964119Z",
     "start_time": "2024-12-29T09:43:30.367508Z"
    }
   },
   "cell_type": "code",
   "source": [
    "batch_size = 32\n",
    "\n",
    "train_loader = DataLoader(train_dataset, batch_size=batch_size, shuffle=True, num_workers=4)\n",
    "val_loader = DataLoader(val_dataset, batch_size=batch_size, shuffle=True, num_workers=4)\n",
    "\n",
    "images, labels = next(iter(train_loader))\n",
    "print(f\"Batch image shape: {images.shape}\")  # (batch, channel, height, width)\n",
    "print(f\"Batch label shape: {labels.shape}\")  # (batch,)\n",
    "print(f\"Labels: {labels}\")"
   ],
   "id": "7890ec6711427dc5",
   "outputs": [
    {
     "name": "stdout",
     "output_type": "stream",
     "text": [
      "Batch image shape: torch.Size([32, 3, 32, 32])\n",
      "Batch label shape: torch.Size([32])\n",
      "Labels: tensor([1, 1, 1, 0, 0, 1, 0, 0, 1, 1, 1, 0, 0, 0, 1, 0, 0, 0, 1, 0, 0, 1, 1, 0,\n",
      "        1, 0, 1, 1, 0, 0, 0, 0])\n"
     ]
    }
   ],
   "execution_count": 35
  },
  {
   "metadata": {},
   "cell_type": "markdown",
   "source": [
    "### Real CIFAR-10 vs. Computer Generated CIFAR-10\n",
    "Top row shows the real images whilst bottom row shows the fake images"
   ],
   "id": "ccf3342315193a9e"
  },
  {
   "metadata": {
    "ExecuteTime": {
     "end_time": "2024-12-29T09:43:51.459860Z",
     "start_time": "2024-12-29T09:43:51.450948Z"
    }
   },
   "cell_type": "code",
   "source": [
    "def show_real_vs_fake_images(data_loader, class_names):\n",
    "    real_images = []\n",
    "    fake_images = []\n",
    "\n",
    "    for features, labels in data_loader:\n",
    "        features, labels = features.to(device), labels.to(device)\n",
    "        for i in range(len(labels)):\n",
    "            if len(real_images) < 2 and labels[i].item() == 1:  # real images\n",
    "                real_images.append(features[i])\n",
    "            elif len(fake_images) < 2 and labels[i].item() == 0:  # fake images\n",
    "                fake_images.append(features[i])\n",
    "            if len(real_images) == 2 and len(fake_images) == 2:\n",
    "                break\n",
    "        if len(real_images) == 2 and len(fake_images) == 2:\n",
    "            break\n",
    "\n",
    "    fig, axes = plt.subplots(2, 2, figsize=(12, 6))\n",
    "    fig.suptitle(\"Top Row: Real CIFAR-10 | Bottom Row: AI-Generated\", fontsize=14)\n",
    "\n",
    "    for i, img in enumerate(real_images):\n",
    "        img = img.permute(1, 2, 0)  # convert (C, H, W) to (H, W, C)\n",
    "        img = img.cpu().numpy()\n",
    "        axes[0, i].imshow(img)\n",
    "        axes[0, i].set_title(f\"Label: {class_names[1]}\")\n",
    "        axes[0, i].axis(\"off\")\n",
    "\n",
    "    for i, img in enumerate(fake_images):\n",
    "        img = img.permute(1, 2, 0)\n",
    "        img = img.cpu().numpy()\n",
    "        axes[1, i].imshow(img)\n",
    "        axes[1, i].set_title(f\"Label: {class_names[0]}\")\n",
    "        axes[1, i].axis(\"off\")\n",
    "\n",
    "    plt.tight_layout(rect=[0, 0, 1, 0.95])\n",
    "    plt.show()"
   ],
   "id": "ca4341fb9a2b79ae",
   "outputs": [],
   "execution_count": 36
  },
  {
   "metadata": {
    "ExecuteTime": {
     "end_time": "2024-12-29T09:44:08.091361Z",
     "start_time": "2024-12-29T09:43:52.586957Z"
    }
   },
   "cell_type": "code",
   "source": [
    "class_names = [\"FAKE (0)\", \"REAL (1)\"]\n",
    "show_real_vs_fake_images(train_loader, class_names)"
   ],
   "id": "9804c2dabd8cb770",
   "outputs": [
    {
     "data": {
      "text/plain": [
       "<Figure size 1200x600 with 4 Axes>"
      ],
      "image/png": "[encoded data removed]"
     },
     "metadata": {},
     "output_type": "display_data"
    }
   ],
   "execution_count": 37
  },
  {
   "metadata": {},
   "cell_type": "markdown",
   "source": [
    "### Creating our CNN model\n",
    "\n",
    "We're creating a model... \n",
    "\n",
    "For the last layer, we don't have to pass the output of fc2 into Sigmoid because the BCEWithLogitsLoss automatically passes incoming values through Sigmoid before calculating loss."
   ],
   "id": "642645709df7be86"
  },
  {
   "metadata": {
    "ExecuteTime": {
     "end_time": "2024-12-29T09:12:35.618975Z",
     "start_time": "2024-12-29T09:12:35.614646Z"
    }
   },
   "cell_type": "code",
   "source": [
    "class CNNModel(nn.Module):\n",
    "    def __init__(self):\n",
    "        super().__init__()\n",
    "\n",
    "        self.conv1 = nn.Conv2d(in_channels=3, out_channels=15, kernel_size=3, stride=1,\n",
    "                               padding=1)  # Input: (3, 32, 32) Output: (15, 32, 32)\n",
    "        self.conv2 = nn.Conv2d(in_channels=15, out_channels=8, kernel_size=3, stride=1,\n",
    "                               padding=1)  # Input: (32, 32, 32) Output: (8, 32, 32)\n",
    "\n",
    "        self.pool = nn.MaxPool2d(kernel_size=2, stride=2)  # dimension / 2\n",
    "\n",
    "        self.fc1 = nn.Linear(in_features=8 * 8 * 8, out_features=128)  # flatten output from pool\n",
    "        self.fc2 = nn.Linear(in_features=128, out_features=1)\n",
    "\n",
    "        self.dropout = nn.Dropout(p=0.3)\n",
    "\n",
    "    def forward(self, x):\n",
    "        x = self.pool(F.relu(self.conv1(x)))  # Output: (15, 16, 16)\n",
    "        x = self.pool(F.relu(self.conv2(x)))  # Output: (8, 8, 8)\n",
    "\n",
    "        x = x.view(-1, 8 * 8 * 8)  # flatten to (batch_size, 8 * 8 * 8)\n",
    "\n",
    "        x = self.fc1(x)\n",
    "        x = F.relu(x)\n",
    "        x = self.dropout(x)\n",
    "        x = self.fc2(x) # no need for activation, BCELossWithLogits combines sigmoid\n",
    "\n",
    "        return x"
   ],
   "id": "26aca836eda216d",
   "outputs": [],
   "execution_count": 23
  },
  {
   "metadata": {
    "ExecuteTime": {
     "end_time": "2024-12-29T09:12:35.646819Z",
     "start_time": "2024-12-29T09:12:35.634549Z"
    }
   },
   "cell_type": "code",
   "source": [
    "from torchsummary import summary\n",
    "\n",
    "model = CNNModel()\n",
    "summary(model, input_size=(3, 32, 32))"
   ],
   "id": "b1fcc7e77f0c3c00",
   "outputs": [
    {
     "name": "stdout",
     "output_type": "stream",
     "text": [
      "----------------------------------------------------------------\n",
      "        Layer (type)               Output Shape         Param #\n",
      "================================================================\n",
      "            Conv2d-1           [-1, 15, 32, 32]             420\n",
      "         MaxPool2d-2           [-1, 15, 16, 16]               0\n",
      "            Conv2d-3            [-1, 8, 16, 16]           1,088\n",
      "         MaxPool2d-4              [-1, 8, 8, 8]               0\n",
      "            Linear-5                  [-1, 128]          65,664\n",
      "           Dropout-6                  [-1, 128]               0\n",
      "            Linear-7                    [-1, 1]             129\n",
      "================================================================\n",
      "Total params: 67,301\n",
      "Trainable params: 67,301\n",
      "Non-trainable params: 0\n",
      "----------------------------------------------------------------\n",
      "Input size (MB): 0.01\n",
      "Forward/backward pass size (MB): 0.17\n",
      "Params size (MB): 0.26\n",
      "Estimated Total Size (MB): 0.44\n",
      "----------------------------------------------------------------\n"
     ]
    }
   ],
   "execution_count": 24
  },
  {
   "metadata": {},
   "cell_type": "markdown",
   "source": [
    "### Hyperparameters\n",
    "\n",
    "Set epochs, learning rate scheduler, L1 & L2 regulariser and optimiser."
   ],
   "id": "c42d4b9b5e10b5d6"
  },
  {
   "metadata": {
    "ExecuteTime": {
     "end_time": "2024-12-29T09:12:45.302428Z",
     "start_time": "2024-12-29T09:12:45.294067Z"
    }
   },
   "cell_type": "code",
   "source": [
    "model.to(device)\n",
    "epochs = 20\n",
    "lambda_L1 = 0\n",
    "lambda_L2 = 1e-3\n",
    "loss_fn = nn.BCEWithLogitsLoss()\n",
    "optimizer = torch.optim.Adam(model.parameters(), lr=1e-3)\n",
    "scheduler = torch.optim.lr_scheduler.StepLR(optimizer, step_size=5, gamma=0.5) #learning rate"
   ],
   "id": "f45a5c08311cd8b5",
   "outputs": [],
   "execution_count": 25
  },
  {
   "metadata": {},
   "cell_type": "markdown",
   "source": [
    "### A full process of training one single batch.\n",
    "First we set model to train mode, this will enable dropout. Move data to device to speed up training. After getting the output from forwarding through model, calculate L1 or L2 regularization before calculating loss for single batch.\n",
    "\n",
    "Compute gradients and update the weights for each parameters. Clear gradients, then return the scalar value of loss.  "
   ],
   "id": "5cb20adb99064259"
  },
  {
   "metadata": {
    "ExecuteTime": {
     "end_time": "2024-12-29T09:12:49.946999Z",
     "start_time": "2024-12-29T09:12:49.940584Z"
    }
   },
   "cell_type": "code",
   "source": [
    "def batch_train(inputs, labels):\n",
    "    model.train()\n",
    "    inputs, labels = inputs.to(device), labels.to(device)\n",
    "\n",
    "    # Forward pass, receive raw outputs\n",
    "    outputs = model(inputs)\n",
    "\n",
    "    # Required by the loss function, turn shape from [batch_size] to [batch_size, 1]\n",
    "    labels = labels.unsqueeze(1).float()\n",
    "\n",
    "    # L1 penalty\n",
    "    l1_regularization = 0\n",
    "    if lambda_L1 > 0.0:\n",
    "        for param in model.parameters():\n",
    "            l1_regularization += torch.norm(param,1)\n",
    "        \n",
    "    # L2 euclidean penalty\n",
    "    l2_regularization = 0\n",
    "    if lambda_L2 > 0.0:\n",
    "        for param in model.parameters():\n",
    "            l2_regularization += torch.norm(param,2)\n",
    "    \n",
    "    batch_loss = loss_fn(outputs, labels) + lambda_L1 * l1_regularization + lambda_L2 * l2_regularization\n",
    "\n",
    "    # computes the gradients of the loss using backpropagation\n",
    "    batch_loss.backward()\n",
    "    # updates the model parameters\n",
    "    optimizer.step()\n",
    "    # avoid gradient accumulation across batches\n",
    "    optimizer.zero_grad()\n",
    "    \n",
    "    return batch_loss.item()"
   ],
   "id": "f3ec7992a85db4f9",
   "outputs": [],
   "execution_count": 26
  },
  {
   "metadata": {},
   "cell_type": "markdown",
   "source": [
    "### Implements Early Stopping\n",
    "Stops training if val_loss is not improving or val_loss is no longer smaller than training_loss"
   ],
   "id": "916ba9fd69f8802b"
  },
  {
   "metadata": {
    "ExecuteTime": {
     "end_time": "2024-12-29T09:12:56.084455Z",
     "start_time": "2024-12-29T09:12:56.078232Z"
    }
   },
   "cell_type": "code",
   "source": [
    "class EarlyStopping:\n",
    "    def __init__(self, patience=5, delta=0.02):\n",
    "        self.patience = patience\n",
    "        self.delta = delta\n",
    "        self.counter = 0\n",
    "        self.early_stop = False\n",
    "        self.best_loss = None\n",
    "\n",
    "    def __call__(self, val_loss, training_loss):\n",
    "        if val_loss > training_loss:\n",
    "            self.early_stop = True\n",
    "            print(f\"Val_loss no longer higher than training loss\")\n",
    "        elif self.best_loss is None:\n",
    "            self.best_loss = val_loss\n",
    "        elif val_loss > self.best_loss - self.delta:\n",
    "            self.counter += 1\n",
    "            if self.counter >= self.patience:\n",
    "                self.early_stop = True\n",
    "                print(\"Val_loss no longer improving\")\n",
    "        else:\n",
    "            self.best_loss = val_loss\n",
    "            self.counter = 0"
   ],
   "id": "7330066d640c736f",
   "outputs": [],
   "execution_count": 27
  },
  {
   "metadata": {},
   "cell_type": "markdown",
   "source": "calculates validation loss for a batch",
   "id": "5daefb7a4afc413b"
  },
  {
   "metadata": {
    "ExecuteTime": {
     "end_time": "2024-12-29T09:13:23.046410Z",
     "start_time": "2024-12-29T09:13:23.035776Z"
    }
   },
   "cell_type": "code",
   "source": [
    "@torch.no_grad()\n",
    "def batch_val(inputs, labels):\n",
    "    model.eval()\n",
    "    inputs, labels = inputs.to(device), labels.to(device)\n",
    "    \n",
    "    outputs = model(inputs)\n",
    "    labels = labels.unsqueeze(1).float()\n",
    "    val_loss = loss_fn(outputs, labels)\n",
    "    return val_loss.item()"
   ],
   "id": "3f58b3e26c523553",
   "outputs": [],
   "execution_count": 28
  },
  {
   "metadata": {},
   "cell_type": "markdown",
   "source": [
    "### Train model\n",
    "Looping through train_loader and val_loader and calculate loss"
   ],
   "id": "a1f66a8f9cab8bc0"
  },
  {
   "metadata": {
    "ExecuteTime": {
     "end_time": "2024-12-29T09:13:24.548670Z",
     "start_time": "2024-12-29T09:13:24.542001Z"
    }
   },
   "cell_type": "code",
   "source": [
    "def train_model():\n",
    "    early_stopping = EarlyStopping(patience=5, delta=0.02)\n",
    "    final_epoch = 0\n",
    "    \n",
    "    loss_hist = []\n",
    "    val_loss_hist = []\n",
    "\n",
    "    for epoch in range(epochs):\n",
    "        batch_losses = []\n",
    "        batch_val_losses = []\n",
    "        \n",
    "        for i, data in enumerate(iter(train_loader)):\n",
    "            inputs, labels = data\n",
    "            batch_loss = batch_train(inputs, labels)\n",
    "            batch_losses.append(batch_loss) # track loss for every batch\n",
    "            \n",
    "        for i, data in enumerate(iter(val_loader)):\n",
    "            inputs, labels = data\n",
    "            val_loss = batch_val(inputs, labels)\n",
    "            batch_val_losses.append(val_loss)\n",
    "\n",
    "        one_epoch_loss = np.array(batch_losses).mean() # calculate loss for one epoch\n",
    "        one_epoch_val_loss = np.array(batch_val_losses).mean()\n",
    "        early_stopping(one_epoch_val_loss, one_epoch_loss)\n",
    "        \n",
    "        loss_hist.append(one_epoch_loss) # track loss for every epoch\n",
    "        val_loss_hist.append(one_epoch_val_loss)\n",
    "        final_epoch = epoch\n",
    "        \n",
    "        if early_stopping.early_stop:\n",
    "            print(f\"Early stopping at epoch {epoch}, training loss: {one_epoch_loss:.4f}, validation loss: {one_epoch_val_loss:.4f}\")\n",
    "            break\n",
    "\n",
    "        scheduler.step()\n",
    "        if (epoch + 1) % 5 == 0:\n",
    "            print(f\"Epoch {epoch + 1}/{epochs}, training loss: {one_epoch_loss:.4f}, validation loss: {one_epoch_val_loss:.4f}\")\n",
    "\n",
    "    return loss_hist, val_loss_hist, final_epoch"
   ],
   "id": "2bb2d792b9399d18",
   "outputs": [],
   "execution_count": 29
  },
  {
   "metadata": {
    "ExecuteTime": {
     "end_time": "2024-12-29T09:56:54.305377Z",
     "start_time": "2024-12-29T09:44:38.829324Z"
    }
   },
   "cell_type": "code",
   "source": "loss_history, val_loss_history, final_epoch = train_model()",
   "id": "f6ae832c2e506d45",
   "outputs": [
    {
     "name": "stdout",
     "output_type": "stream",
     "text": [
      "Epoch 5/20, training loss: 0.2667, validation loss: 0.2174\n",
      "Val_loss no longer improving\n",
      "Early stopping at epoch 8, training loss: 0.2494, validation loss: 0.2170\n"
     ]
    }
   ],
   "execution_count": 38
  },
  {
   "metadata": {},
   "cell_type": "markdown",
   "source": "### Saving model",
   "id": "c96cc236da1d3463"
  },
  {
   "metadata": {
    "ExecuteTime": {
     "end_time": "2024-12-29T09:57:10.323620Z",
     "start_time": "2024-12-29T09:57:10.321538Z"
    }
   },
   "cell_type": "code",
   "source": "# torch.save(model.to('cpu').state_dict(), 'latest_model.pth')",
   "id": "40f8aa369e1bb2e3",
   "outputs": [],
   "execution_count": 39
  },
  {
   "metadata": {},
   "cell_type": "markdown",
   "source": "### Plotting training loss and validation loss",
   "id": "8dabb8f90781c90c"
  },
  {
   "metadata": {
    "ExecuteTime": {
     "end_time": "2024-12-29T09:57:11.369574Z",
     "start_time": "2024-12-29T09:57:11.287900Z"
    }
   },
   "cell_type": "code",
   "source": [
    "y_arr = np.arange(final_epoch + 1)\n",
    "plt.plot(y_arr, loss_history, 'g', label='Training loss')\n",
    "plt.plot(y_arr, val_loss_history, 'r', label='Validation loss')\n",
    "plt.xlabel(\"Epoch\")\n",
    "plt.ylabel(\"Loss\")\n",
    "plt.title(\"Training and Validation Loss\")\n",
    "plt.legend()\n",
    "plt.show()"
   ],
   "id": "debe06d83c86886e",
   "outputs": [
    {
     "data": {
      "text/plain": [
       "<Figure size 640x480 with 1 Axes>"
      ],
      "image/png": "[encoded data removed]"
     },
     "metadata": {},
     "output_type": "display_data"
    }
   ],
   "execution_count": 40
  },
  {
   "metadata": {},
   "cell_type": "code",
   "outputs": [],
   "execution_count": null,
   "source": "",
   "id": "b3c98cc254a68367"
  }
 ],
 "metadata": {
  "kernelspec": {
   "display_name": "Python 3",
   "language": "python",
   "name": "python3"
  },
  "language_info": {
   "codemirror_mode": {
    "name": "ipython",
    "version": 2
   },
   "file_extension": ".py",
   "mimetype": "text/x-python",
   "name": "python",
   "nbconvert_exporter": "python",
   "pygments_lexer": "ipython2",
   "version": "2.7.6"
  }
 },
 "nbformat": 4,
 "nbformat_minor": 5
}
