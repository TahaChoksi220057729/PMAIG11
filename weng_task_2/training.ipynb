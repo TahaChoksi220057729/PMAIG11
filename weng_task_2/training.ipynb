{
 "cells": [
  {
   "metadata": {},
   "cell_type": "markdown",
   "source": "Import modules",
   "id": "35d1e7e653f73e70"
  },
  {
   "cell_type": "code",
   "id": "initial_id",
   "metadata": {
    "collapsed": true,
    "ExecuteTime": {
     "end_time": "2024-12-25T12:38:39.662074Z",
     "start_time": "2024-12-25T12:38:39.656729Z"
    }
   },
   "source": [
    "import matplotlib.pyplot as plt\n",
    "import os\n",
    "import numpy as np\n",
    "\n",
    "import torch\n",
    "from torch import nn\n",
    "from torch.utils.data import DataLoader, random_split\n",
    "from torchvision import datasets, transforms\n",
    "import torch.nn.functional as F\n",
    "\n",
    "base_path = \"./../Dataset/cifake\"\n",
    "train_path = os.path.join(base_path, \"train\")\n",
    "test_path = os.path.join(base_path, \"test\")\n"
   ],
   "outputs": [],
   "execution_count": 106
  },
  {
   "metadata": {},
   "cell_type": "markdown",
   "source": "Loading datasets using ImageFolder and DataLoaders",
   "id": "5be31ddd2f4a1ecb"
  },
  {
   "metadata": {
    "ExecuteTime": {
     "end_time": "2024-12-25T12:38:40.175559Z",
     "start_time": "2024-12-25T12:38:39.690425Z"
    }
   },
   "cell_type": "code",
   "source": [
    "# convert to tensors and normalise pixel values to [-1, 1]\n",
    "transform = transforms.Compose([\n",
    "    transforms.ToTensor(),\n",
    "    transforms.Normalize(mean=[0.5, 0.5, 0.5], std=[0.5, 0.5, 0.5])\n",
    "])\n",
    "\n",
    "train_dataset = datasets.ImageFolder(root=train_path, transform=transform)\n",
    "test_dataset = datasets.ImageFolder(root=test_path, transform=transform)"
   ],
   "id": "5544d1c8e74bb37b",
   "outputs": [],
   "execution_count": 107
  },
  {
   "metadata": {
    "ExecuteTime": {
     "end_time": "2024-12-25T12:38:40.232894Z",
     "start_time": "2024-12-25T12:38:40.208359Z"
    }
   },
   "cell_type": "code",
   "source": [
    "val_ratio = 0.2\n",
    "val_size = int(val_ratio * len(train_dataset))\n",
    "train_size = len(train_dataset) - val_size\n",
    "train_dataset, val_dataset = random_split(train_dataset, [train_size, val_size])\n",
    "print(f\"Validation Dataset Shape: {val_dataset.__len__()}\")\n",
    "print(f\"Training Dataset Shape: {train_dataset.__len__()}\")"
   ],
   "id": "f610a7b53c52fd38",
   "outputs": [
    {
     "name": "stdout",
     "output_type": "stream",
     "text": [
      "Validation Dataset Shape: 20000\n",
      "Training Dataset Shape: 80000\n"
     ]
    }
   ],
   "execution_count": 108
  },
  {
   "metadata": {
    "ExecuteTime": {
     "end_time": "2024-12-25T12:39:06.500301Z",
     "start_time": "2024-12-25T12:38:40.271569Z"
    }
   },
   "cell_type": "code",
   "source": [
    "batch_size = 32\n",
    "\n",
    "train_loader = DataLoader(train_dataset, batch_size=batch_size, shuffle=True, num_workers=4)\n",
    "val_loader = DataLoader(val_dataset, batch_size=batch_size, shuffle=True, num_workers=4)\n",
    "test_loader = DataLoader(test_dataset, batch_size=batch_size, shuffle=False, num_workers=4)\n",
    "\n",
    "images, labels = next(iter(train_loader))\n",
    "print(f\"Batch image shape: {images.shape}\")  # (batch, channel, height, width)\n",
    "print(f\"Batch label shape: {labels.shape}\")  # (batch,)\n",
    "print(f\"Labels: {labels}\")"
   ],
   "id": "7890ec6711427dc5",
   "outputs": [
    {
     "name": "stdout",
     "output_type": "stream",
     "text": [
      "Batch image shape: torch.Size([32, 3, 32, 32])\n",
      "Batch label shape: torch.Size([32])\n",
      "Labels: tensor([0, 1, 0, 1, 1, 1, 0, 0, 0, 1, 0, 0, 0, 1, 1, 1, 0, 1, 1, 0, 0, 0, 1, 1,\n",
      "        1, 1, 1, 0, 1, 0, 1, 1])\n"
     ]
    }
   ],
   "execution_count": 109
  },
  {
   "metadata": {},
   "cell_type": "markdown",
   "source": "showing image samples",
   "id": "ccf3342315193a9e"
  },
  {
   "metadata": {
    "ExecuteTime": {
     "end_time": "2024-12-25T12:39:06.575297Z",
     "start_time": "2024-12-25T12:39:06.570709Z"
    }
   },
   "cell_type": "code",
   "source": [
    "def show_real_vs_fake_images(data_loader, class_names):\n",
    "    \"\"\"\n",
    "    Displays 2 real CIFAR-10 images (label 1) and 2 AI-generated images (label 0) side by side.\n",
    "\n",
    "    Args:\n",
    "        data_loader: DataLoader object containing the images and labels.\n",
    "        class_names: List of class names corresponding to the dataset.\n",
    "    \"\"\"\n",
    "    real_images = []\n",
    "    fake_images = []\n",
    "\n",
    "    for features, labels in data_loader:\n",
    "        for i in range(len(labels)):\n",
    "            if len(real_images) < 2 and labels[i].item() == 1:  # real images\n",
    "                real_images.append(features[i])\n",
    "            elif len(fake_images) < 2 and labels[i].item() == 0:  # fake images\n",
    "                fake_images.append(features[i])\n",
    "            if len(real_images) == 2 and len(fake_images) == 2:\n",
    "                break\n",
    "        if len(real_images) == 4 and len(fake_images) == 4:\n",
    "            break\n",
    "\n",
    "    fig, axes = plt.subplots(2, 2, figsize=(12, 6))\n",
    "    fig.suptitle(\"Top Row: Real CIFAR-10 | Bottom Row: AI-Generated\", fontsize=14)\n",
    "\n",
    "    for i, img in enumerate(real_images):\n",
    "        img = img.permute(1, 2, 0)  # convert (C, H, W) to (H, W, C)\n",
    "        img = img / 2 + 0.5  # pixel values from [-1, 1] to [0, 1]\n",
    "        axes[0, i].imshow(img)\n",
    "        axes[0, i].set_title(f\"Label: {class_names[1]}\")\n",
    "        axes[0, i].axis(\"off\")\n",
    "\n",
    "    for i, img in enumerate(fake_images):\n",
    "        img = img.permute(1, 2, 0)\n",
    "        img = img / 2 + 0.5  \n",
    "        axes[1, i].imshow(img)\n",
    "        axes[1, i].set_title(f\"Label: {class_names[0]}\")\n",
    "        axes[1, i].axis(\"off\")\n",
    "\n",
    "    plt.tight_layout(rect=[0, 0, 1, 0.95])\n",
    "    plt.show()"
   ],
   "id": "ca4341fb9a2b79ae",
   "outputs": [],
   "execution_count": 110
  },
  {
   "metadata": {
    "ExecuteTime": {
     "end_time": "2024-12-25T12:39:06.622647Z",
     "start_time": "2024-12-25T12:39:06.620857Z"
    }
   },
   "cell_type": "code",
   "source": [
    "# class_names = [\"FAKE (0)\", \"REAL (1)\"]\n",
    "# show_real_vs_fake_images(train_loader, class_names)"
   ],
   "id": "9804c2dabd8cb770",
   "outputs": [],
   "execution_count": 111
  },
  {
   "metadata": {},
   "cell_type": "markdown",
   "source": "Creating model",
   "id": "642645709df7be86"
  },
  {
   "metadata": {
    "ExecuteTime": {
     "end_time": "2024-12-25T12:39:06.628979Z",
     "start_time": "2024-12-25T12:39:06.626981Z"
    }
   },
   "cell_type": "code",
   "source": [
    "# class CNNModel(nn.Module):\n",
    "#     def __init__(self):\n",
    "#         super().__init__()\n",
    "# \n",
    "#         self.conv1 = nn.Conv2d(in_channels=3, out_channels=32, kernel_size=3, stride=1,\n",
    "#                                padding=1)  # Input: (3, 32, 32) Output: (32, 32, 32)\n",
    "#         self.conv2 = nn.Conv2d(in_channels=32, out_channels=64, kernel_size=3, stride=1,\n",
    "#                                padding=1)  # Input: (32, 32, 32) Output: (64, 32, 32)\n",
    "#         self.conv3 = nn.Conv2d(in_channels=64, out_channels=128, kernel_size=3, stride=1,\n",
    "#                                padding=1)  # Input: (64, 32, 32) Output: (128, 32, 32)\n",
    "# \n",
    "#         self.pool = nn.MaxPool2d(kernel_size=2, stride=2)  # dimension / 2\n",
    "# \n",
    "#         self.fc1 = nn.Linear(in_features=128 * 8 * 8, out_features=512)  # flatten output from pool\n",
    "#         self.fc2 = nn.Linear(in_features=512, out_features=1)\n",
    "# \n",
    "#         self.dropout = nn.Dropout(p=0.2)\n",
    "# \n",
    "#     def forward(self, x):\n",
    "#         x = F.relu(self.conv1(x))  # Output: (32, 32, 32)\n",
    "#         x = self.pool(F.relu(self.conv2(x)))  # Output: (64, 16, 16)\n",
    "#         x = self.pool(F.relu(self.conv3(x)))  # Output: (128, 8, 8)\n",
    "# \n",
    "#         x = x.view(-1, 128 * 8 * 8)  # flatten to (batch_size, 128 * 8 * 8)\n",
    "# \n",
    "#         x = F.relu(self.fc1(x))\n",
    "#         x = self.dropout(x) \n",
    "#         x = self.fc2(x)  # no need for activation, BCELossWithLogits combines sigmoid\n",
    "# \n",
    "#         return x"
   ],
   "id": "d2bd763fe7e1ab53",
   "outputs": [],
   "execution_count": 112
  },
  {
   "metadata": {
    "ExecuteTime": {
     "end_time": "2024-12-25T12:39:06.643656Z",
     "start_time": "2024-12-25T12:39:06.639632Z"
    }
   },
   "cell_type": "code",
   "source": [
    "class CNNModel(nn.Module):\n",
    "    def __init__(self):\n",
    "        super().__init__()\n",
    "\n",
    "        self.conv1 = nn.Conv2d(in_channels=3, out_channels=32, kernel_size=3, stride=1,\n",
    "                               padding=1)  # Input: (3, 32, 32) Output: (32, 32, 32)\n",
    "        self.conv2 = nn.Conv2d(in_channels=32, out_channels=64, kernel_size=3, stride=1,\n",
    "                               padding=1)  # Input: (32, 32, 32) Output: (64, 32, 32)\n",
    "        self.conv3 = nn.Conv2d(in_channels=64, out_channels=128, kernel_size=3, stride=1,\n",
    "                               padding=1)  # Input: (64, 32, 32) Output: (128, 32, 32)\n",
    "\n",
    "        self.pool = nn.MaxPool2d(kernel_size=2, stride=2)  # dimension / 2\n",
    "\n",
    "        self.fc1 = nn.Linear(in_features=128 * 4 * 4, out_features=512)  # flatten output from pool\n",
    "        self.fc2 = nn.Linear(in_features=512, out_features=120)\n",
    "        self.fc3 = nn.Linear(in_features=120, out_features=1)\n",
    "\n",
    "        self.dropout = nn.Dropout(p=0.5)\n",
    "\n",
    "    def forward(self, x):\n",
    "        x = self.pool(F.relu(self.conv1(x)))  # Output: (32, 16, 16)\n",
    "        x = self.pool(F.relu(self.conv2(x)))  # Output: (64, 8, 8)\n",
    "        x = self.pool(F.relu(self.conv3(x)))  # Output: (128, 4, 4)\n",
    "\n",
    "        x = x.view(-1, 128 * 4 * 4)  # flatten to (batch_size, 128 * 8 * 8)\n",
    "\n",
    "        x = F.relu(self.fc1(x))\n",
    "        x = F.relu(self.fc2(x))  # no need for activation, BCELossWithLogits combines sigmoid\n",
    "        x = self.fc3(x)\n",
    "\n",
    "        return x"
   ],
   "id": "bcd225d13a036e95",
   "outputs": [],
   "execution_count": 113
  },
  {
   "metadata": {
    "ExecuteTime": {
     "end_time": "2024-12-25T12:39:06.666007Z",
     "start_time": "2024-12-25T12:39:06.653008Z"
    }
   },
   "cell_type": "code",
   "source": [
    "from torchsummary import summary\n",
    "\n",
    "model = CNNModel()\n",
    "summary(model, input_size=(3, 32, 32))"
   ],
   "id": "b1fcc7e77f0c3c00",
   "outputs": [
    {
     "name": "stdout",
     "output_type": "stream",
     "text": [
      "----------------------------------------------------------------\n",
      "        Layer (type)               Output Shape         Param #\n",
      "================================================================\n",
      "            Conv2d-1           [-1, 32, 32, 32]             896\n",
      "         MaxPool2d-2           [-1, 32, 16, 16]               0\n",
      "            Conv2d-3           [-1, 64, 16, 16]          18,496\n",
      "         MaxPool2d-4             [-1, 64, 8, 8]               0\n",
      "            Conv2d-5            [-1, 128, 8, 8]          73,856\n",
      "         MaxPool2d-6            [-1, 128, 4, 4]               0\n",
      "            Linear-7                  [-1, 512]       1,049,088\n",
      "            Linear-8                  [-1, 120]          61,560\n",
      "            Linear-9                    [-1, 1]             121\n",
      "================================================================\n",
      "Total params: 1,204,017\n",
      "Trainable params: 1,204,017\n",
      "Non-trainable params: 0\n",
      "----------------------------------------------------------------\n",
      "Input size (MB): 0.01\n",
      "Forward/backward pass size (MB): 0.55\n",
      "Params size (MB): 4.59\n",
      "Estimated Total Size (MB): 5.16\n",
      "----------------------------------------------------------------\n"
     ]
    }
   ],
   "execution_count": 114
  },
  {
   "metadata": {},
   "cell_type": "markdown",
   "source": "Hyperparameters",
   "id": "c42d4b9b5e10b5d6"
  },
  {
   "metadata": {
    "ExecuteTime": {
     "end_time": "2024-12-25T12:39:06.961185Z",
     "start_time": "2024-12-25T12:39:06.676652Z"
    }
   },
   "cell_type": "code",
   "source": [
    "device = torch.device(\"mps\") if torch.backends.mps.is_available() else torch.device(\"cpu\")\n",
    "model.to(device)\n",
    "epochs = 20\n",
    "lambda_L1 = 0\n",
    "lambda_L2 = 0\n",
    "loss_fn = nn.BCEWithLogitsLoss()\n",
    "optimizer = torch.optim.Adam(model.parameters(), lr=1e-3)\n",
    "scheduler = torch.optim.lr_scheduler.StepLR(optimizer, step_size=5, gamma=0.5)"
   ],
   "id": "f45a5c08311cd8b5",
   "outputs": [],
   "execution_count": 115
  },
  {
   "metadata": {
    "ExecuteTime": {
     "end_time": "2024-12-25T12:40:02.592853Z",
     "start_time": "2024-12-25T12:40:02.589709Z"
    }
   },
   "cell_type": "code",
   "source": [
    "def batch_train(inputs, labels):\n",
    "    model.train()\n",
    "    inputs, labels = inputs.to(device), labels.to(device)\n",
    "\n",
    "    # Forward pass\n",
    "    outputs = model(inputs)\n",
    "\n",
    "    labels = labels.unsqueeze(1).float()\n",
    "\n",
    "    # L1 penalty\n",
    "    l1_regularization = 0\n",
    "    if lambda_L1 > 0.0:\n",
    "        for param in model.parameters():\n",
    "            l1_regularization += torch.norm(param,1)\n",
    "        \n",
    "    l2_regularization = 0\n",
    "    if lambda_L2 > 0.0:\n",
    "        for param in model.parameters():\n",
    "            l2_regularization += torch.norm(param,2)\n",
    "    \n",
    "    batch_loss = loss_fn(outputs, labels) + lambda_L1 * l1_regularization + lambda_L2 * l2_regularization\n",
    "\n",
    "    # Backward pass\n",
    "    batch_loss.backward()\n",
    "    optimizer.step()\n",
    "    optimizer.zero_grad()\n",
    "    \n",
    "    return batch_loss.item()"
   ],
   "id": "f3ec7992a85db4f9",
   "outputs": [],
   "execution_count": 120
  },
  {
   "metadata": {
    "ExecuteTime": {
     "end_time": "2024-12-25T12:40:02.609326Z",
     "start_time": "2024-12-25T12:40:02.606530Z"
    }
   },
   "cell_type": "code",
   "source": [
    "@torch.no_grad()\n",
    "def batch_val(inputs, labels):\n",
    "    model.eval()\n",
    "    inputs, labels = inputs.to(device), labels.to(device)\n",
    "    \n",
    "    outputs = model(inputs)\n",
    "    labels = labels.unsqueeze(1).float()\n",
    "    val_loss = loss_fn(outputs, labels)\n",
    "    return val_loss.item()"
   ],
   "id": "3f58b3e26c523553",
   "outputs": [],
   "execution_count": 121
  },
  {
   "metadata": {
    "ExecuteTime": {
     "end_time": "2024-12-25T12:40:02.623061Z",
     "start_time": "2024-12-25T12:40:02.620082Z"
    }
   },
   "cell_type": "code",
   "source": [
    "def train_model():\n",
    "    loss_hist = []\n",
    "    val_loss_hist = []\n",
    "\n",
    "    for epoch in range(epochs):\n",
    "        batch_losses = []\n",
    "        batch_val_losses = []\n",
    "        \n",
    "        for i, data in enumerate(iter(train_loader)):\n",
    "            inputs, labels = data\n",
    "            batch_loss = batch_train(inputs, labels)\n",
    "            batch_losses.append(batch_loss) # track loss for every batch\n",
    "            \n",
    "        for i, data in enumerate(iter(val_loader)):\n",
    "            inputs, labels = data\n",
    "            val_loss = batch_val(inputs, labels)\n",
    "            batch_val_losses.append(val_loss)\n",
    "\n",
    "        one_epoch_loss = np.array(batch_losses).mean() # calculate loss for one epoch\n",
    "        one_epoch_val_loss = np.array(batch_val_losses).mean()\n",
    "        loss_hist.append(one_epoch_loss) # track loss for every epoch\n",
    "        val_loss_hist.append(one_epoch_val_loss)\n",
    "\n",
    "        scheduler.step()\n",
    "        if epoch % 10 == 0:\n",
    "            print(f\"Epoch {epoch}/{epochs}, training loss: {one_epoch_loss:.4f}, validation loss: {one_epoch_val_loss:.4f}\")\n",
    "\n",
    "    return loss_hist, val_loss_hist"
   ],
   "id": "2bb2d792b9399d18",
   "outputs": [],
   "execution_count": 122
  },
  {
   "metadata": {
    "jupyter": {
     "is_executing": true
    },
    "ExecuteTime": {
     "start_time": "2024-12-25T12:40:02.633027Z"
    }
   },
   "cell_type": "code",
   "source": "loss_history, val_loss_history = train_model()",
   "id": "f6ae832c2e506d45",
   "outputs": [],
   "execution_count": null
  },
  {
   "metadata": {},
   "cell_type": "markdown",
   "source": "Saving model",
   "id": "c96cc236da1d3463"
  },
  {
   "metadata": {
    "ExecuteTime": {
     "end_time": "2024-12-25T12:39:23.340558Z",
     "start_time": "2024-12-25T05:08:25.401133Z"
    }
   },
   "cell_type": "code",
   "source": "torch.save(model.to('cpu').state_dict(), 'mymodel_task2_scheduler.pth')",
   "id": "40f8aa369e1bb2e3",
   "outputs": [],
   "execution_count": 90
  },
  {
   "metadata": {},
   "cell_type": "markdown",
   "source": "Plotting loss",
   "id": "8dabb8f90781c90c"
  },
  {
   "metadata": {
    "ExecuteTime": {
     "end_time": "2024-12-25T12:39:23.340800Z",
     "start_time": "2024-12-25T05:08:25.457919Z"
    }
   },
   "cell_type": "code",
   "source": [
    "y_arr = np.arange(epochs)+1\n",
    "plt.plot(y_arr, loss_history, 'g', label='Training loss')\n",
    "plt.plot(y_arr, val_loss_history, 'r', label='Validation loss')\n",
    "plt.xlabel(\"Epoch\")\n",
    "plt.ylabel(\"Loss\")\n",
    "plt.title(\"Training and Validation Loss\")\n",
    "plt.legend()\n",
    "plt.show()"
   ],
   "id": "debe06d83c86886e",
   "outputs": [
    {
     "data": {
      "text/plain": [
       "<Figure size 640x480 with 1 Axes>"
      ],
      "image/png": "[encoded data removed]"
     },
     "metadata": {},
     "output_type": "display_data"
    }
   ],
   "execution_count": 91
  }
 ],
 "metadata": {
  "kernelspec": {
   "display_name": "Python 3",
   "language": "python",
   "name": "python3"
  },
  "language_info": {
   "codemirror_mode": {
    "name": "ipython",
    "version": 2
   },
   "file_extension": ".py",
   "mimetype": "text/x-python",
   "name": "python",
   "nbconvert_exporter": "python",
   "pygments_lexer": "ipython2",
   "version": "2.7.6"
  }
 },
 "nbformat": 4,
 "nbformat_minor": 5
}
