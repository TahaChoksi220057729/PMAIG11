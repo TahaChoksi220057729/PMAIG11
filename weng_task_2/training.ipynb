{
 "cells": [
  {
   "metadata": {},
   "cell_type": "markdown",
   "source": "Import modules",
   "id": "35d1e7e653f73e70"
  },
  {
   "cell_type": "code",
   "id": "initial_id",
   "metadata": {
    "collapsed": true,
    "ExecuteTime": {
     "end_time": "2024-12-24T12:34:41.124416Z",
     "start_time": "2024-12-24T12:34:41.121998Z"
    }
   },
   "source": [
    "import matplotlib.pyplot as plt\n",
    "import os\n",
    "import numpy as np\n",
    "\n",
    "import torch\n",
    "from torch import nn\n",
    "from torch.utils.data import DataLoader\n",
    "from torchvision import datasets, transforms\n",
    "import torch.nn.functional as F\n",
    "\n",
    "base_path = \"Dataset/cifake\"\n",
    "train_path = os.path.join(base_path, \"train\")\n",
    "test_path = os.path.join(base_path, \"test\")\n"
   ],
   "outputs": [],
   "execution_count": 17
  },
  {
   "metadata": {},
   "cell_type": "markdown",
   "source": "Loading datasets using ImageFolder and DataLoaders",
   "id": "5be31ddd2f4a1ecb"
  },
  {
   "metadata": {
    "ExecuteTime": {
     "end_time": "2024-12-24T12:35:07.558760Z",
     "start_time": "2024-12-24T12:34:41.148225Z"
    }
   },
   "cell_type": "code",
   "source": [
    "# convert to tensors and normalise pixel values to [-1, 1]\n",
    "transform = transforms.Compose([\n",
    "    transforms.ToTensor(),\n",
    "    transforms.Normalize(mean=[0.5, 0.5, 0.5], std=[0.5, 0.5, 0.5])\n",
    "])\n",
    "\n",
    "train_dataset = datasets.ImageFolder(root=train_path, transform=transform)\n",
    "test_dataset = datasets.ImageFolder(root=test_path, transform=transform)\n",
    "\n",
    "image, label = train_dataset[0] \n",
    "print(f\"Dataset Shape: {train_dataset.__len__()}\")\n",
    "print(f\"Image shape: {image.shape}\")\n",
    "print(f\"Label: {label}\")\n",
    "\n",
    "train_loader = DataLoader(train_dataset, batch_size=64, shuffle=True, num_workers=4)\n",
    "test_loader = DataLoader(test_dataset, batch_size=64, shuffle=False, num_workers=4)\n",
    "\n",
    "images, labels = next(iter(train_loader))\n",
    "print(f\"Batch image shape: {images.shape}\")  # (batch, channel, height, width)\n",
    "print(f\"Batch label shape: {labels.shape}\")  # (batch,)\n",
    "print(f\"Labels: {labels}\")\n",
    "\n",
    "print(f\"Class-to-Label Mapping: {train_dataset.class_to_idx}\")"
   ],
   "id": "5544d1c8e74bb37b",
   "outputs": [
    {
     "name": "stdout",
     "output_type": "stream",
     "text": [
      "Dataset Shape: 100000\n",
      "Image shape: torch.Size([3, 32, 32])\n",
      "Label: 0\n",
      "Batch image shape: torch.Size([64, 3, 32, 32])\n",
      "Batch label shape: torch.Size([64])\n",
      "Labels: tensor([1, 1, 0, 1, 0, 1, 0, 0, 0, 0, 0, 0, 1, 0, 1, 0, 1, 0, 0, 1, 1, 1, 1, 0,\n",
      "        0, 0, 0, 0, 0, 1, 1, 1, 0, 0, 1, 1, 0, 1, 1, 0, 0, 0, 0, 1, 1, 1, 1, 1,\n",
      "        1, 0, 0, 1, 0, 0, 1, 1, 0, 0, 1, 0, 0, 1, 0, 0])\n",
      "Class-to-Label Mapping: {'FAKE': 0, 'REAL': 1}\n"
     ]
    }
   ],
   "execution_count": 18
  },
  {
   "metadata": {},
   "cell_type": "markdown",
   "source": "showing image samples",
   "id": "ccf3342315193a9e"
  },
  {
   "metadata": {
    "ExecuteTime": {
     "end_time": "2024-12-24T12:35:07.584622Z",
     "start_time": "2024-12-24T12:35:07.579035Z"
    }
   },
   "cell_type": "code",
   "source": [
    "def show_real_vs_fake_images(data_loader, class_names):\n",
    "    \"\"\"\n",
    "    Displays 2 real CIFAR-10 images (label 1) and 2 AI-generated images (label 0) side by side.\n",
    "\n",
    "    Args:\n",
    "        data_loader: DataLoader object containing the images and labels.\n",
    "        class_names: List of class names corresponding to the dataset.\n",
    "    \"\"\"\n",
    "    real_images = []\n",
    "    fake_images = []\n",
    "\n",
    "    for features, labels in data_loader:\n",
    "        for i in range(len(labels)):\n",
    "            if len(real_images) < 2 and labels[i].item() == 1:  # real images\n",
    "                real_images.append(features[i])\n",
    "            elif len(fake_images) < 2 and labels[i].item() == 0:  # fake images\n",
    "                fake_images.append(features[i])\n",
    "            if len(real_images) == 2 and len(fake_images) == 2:\n",
    "                break\n",
    "        if len(real_images) == 4 and len(fake_images) == 4:\n",
    "            break\n",
    "\n",
    "    fig, axes = plt.subplots(2, 2, figsize=(12, 6))\n",
    "    fig.suptitle(\"Top Row: Real CIFAR-10 | Bottom Row: AI-Generated\", fontsize=14)\n",
    "\n",
    "    for i, img in enumerate(real_images):\n",
    "        img = img.permute(1, 2, 0)  # convert (C, H, W) to (H, W, C)\n",
    "        img = img / 2 + 0.5  # pixel values from [-1, 1] to [0, 1]\n",
    "        axes[0, i].imshow(img)\n",
    "        axes[0, i].set_title(f\"Label: {class_names[1]}\")\n",
    "        axes[0, i].axis(\"off\")\n",
    "\n",
    "    for i, img in enumerate(fake_images):\n",
    "        img = img.permute(1, 2, 0)\n",
    "        img = img / 2 + 0.5  \n",
    "        axes[1, i].imshow(img)\n",
    "        axes[1, i].set_title(f\"Label: {class_names[0]}\")\n",
    "        axes[1, i].axis(\"off\")\n",
    "\n",
    "    plt.tight_layout(rect=[0, 0, 1, 0.95])\n",
    "    plt.show()"
   ],
   "id": "ca4341fb9a2b79ae",
   "outputs": [],
   "execution_count": 19
  },
  {
   "metadata": {
    "ExecuteTime": {
     "end_time": "2024-12-24T12:35:07.604890Z",
     "start_time": "2024-12-24T12:35:07.603014Z"
    }
   },
   "cell_type": "code",
   "source": [
    "# class_names = [\"FAKE (0)\", \"REAL (1)\"]\n",
    "# show_real_vs_fake_images(train_loader, class_names)"
   ],
   "id": "9804c2dabd8cb770",
   "outputs": [],
   "execution_count": 20
  },
  {
   "metadata": {},
   "cell_type": "markdown",
   "source": "Creating model",
   "id": "642645709df7be86"
  },
  {
   "metadata": {
    "ExecuteTime": {
     "end_time": "2024-12-24T12:35:07.622817Z",
     "start_time": "2024-12-24T12:35:07.619038Z"
    }
   },
   "cell_type": "code",
   "source": [
    "class CNNModel(nn.Module):\n",
    "    def __init__(self):\n",
    "        super().__init__()\n",
    "\n",
    "        self.conv1 = nn.Conv2d(in_channels=3, out_channels=32, kernel_size=3, stride=1,\n",
    "                               padding=1)  # Input: (3, 32, 32) Output: (32, 32, 32)\n",
    "        self.conv2 = nn.Conv2d(in_channels=32, out_channels=64, kernel_size=3, stride=1,\n",
    "                               padding=1)  # Input: (32, 32, 32) Output: (64, 32, 32)\n",
    "        self.conv3 = nn.Conv2d(in_channels=64, out_channels=128, kernel_size=3, stride=1,\n",
    "                               padding=1)  # Input: (64, 32, 32) Output: (128, 32, 32)\n",
    "\n",
    "        self.pool = nn.MaxPool2d(kernel_size=2, stride=2)  # dimension / 2\n",
    "\n",
    "        self.fc1 = nn.Linear(in_features=128 * 8 * 8, out_features=512)  # flatten output from pool\n",
    "        self.fc2 = nn.Linear(in_features=512, out_features=1)\n",
    "\n",
    "        self.dropout = nn.Dropout(p=0.5)\n",
    "\n",
    "    def forward(self, x):\n",
    "        x = F.relu(self.conv1(x))  # Output: (32, 32, 32)\n",
    "        x = self.pool(F.relu(self.conv2(x)))  # Output: (64, 16, 16)\n",
    "        x = self.pool(F.relu(self.conv3(x)))  # Output: (128, 8, 8)\n",
    "\n",
    "        x = x.view(-1, 128 * 8 * 8)  # flatten to (batch_size, 128 * 8 * 8)\n",
    "\n",
    "        x = F.relu(self.fc1(x))\n",
    "        x = self.dropout(x) \n",
    "        x = self.fc2(x)  # no need for activation, BCELossWithLogits combines sigmoid\n",
    "\n",
    "        return x"
   ],
   "id": "d2bd763fe7e1ab53",
   "outputs": [],
   "execution_count": 21
  },
  {
   "metadata": {
    "ExecuteTime": {
     "end_time": "2024-12-24T12:35:07.657449Z",
     "start_time": "2024-12-24T12:35:07.638424Z"
    }
   },
   "cell_type": "code",
   "source": [
    "model = CNNModel()\n",
    "\n",
    "print(model)"
   ],
   "id": "b1fcc7e77f0c3c00",
   "outputs": [
    {
     "name": "stdout",
     "output_type": "stream",
     "text": [
      "CNNModel(\n",
      "  (conv1): Conv2d(3, 32, kernel_size=(3, 3), stride=(1, 1), padding=(1, 1))\n",
      "  (conv2): Conv2d(32, 64, kernel_size=(3, 3), stride=(1, 1), padding=(1, 1))\n",
      "  (conv3): Conv2d(64, 128, kernel_size=(3, 3), stride=(1, 1), padding=(1, 1))\n",
      "  (pool): MaxPool2d(kernel_size=2, stride=2, padding=0, dilation=1, ceil_mode=False)\n",
      "  (fc1): Linear(in_features=8192, out_features=512, bias=True)\n",
      "  (fc2): Linear(in_features=512, out_features=1, bias=True)\n",
      "  (dropout): Dropout(p=0.5, inplace=False)\n",
      ")\n"
     ]
    }
   ],
   "execution_count": 22
  },
  {
   "metadata": {},
   "cell_type": "markdown",
   "source": "Hyperparameters",
   "id": "c42d4b9b5e10b5d6"
  },
  {
   "metadata": {
    "ExecuteTime": {
     "end_time": "2024-12-24T12:35:07.735945Z",
     "start_time": "2024-12-24T12:35:07.728635Z"
    }
   },
   "cell_type": "code",
   "source": [
    "device = torch.device(\"mps\") if torch.backends.mps.is_available() else torch.device(\"cpu\")\n",
    "epochs = 20\n",
    "lambda_L1 = 1e-4\n",
    "loss_fn = nn.BCEWithLogitsLoss()\n",
    "optimizer = torch.optim.Adam(model.parameters(), lr=0.001)"
   ],
   "id": "f45a5c08311cd8b5",
   "outputs": [],
   "execution_count": 23
  },
  {
   "metadata": {
    "ExecuteTime": {
     "end_time": "2024-12-24T12:35:07.758235Z",
     "start_time": "2024-12-24T12:35:07.754698Z"
    }
   },
   "cell_type": "code",
   "source": [
    "def train_model(model, device, train_loader, optimizer, loss_fn, epochs, lambda_L1=0.0):\n",
    "    loss_hist = []\n",
    "    \n",
    "    model.to(device)\n",
    "    \n",
    "    for epoch in range(epochs):\n",
    "        model.train()\n",
    "        # epoch_loss = 0.0\n",
    "        batch_losses = []\n",
    "\n",
    "        # for i, data in enumerate(train_loader, 0):\n",
    "        for i, data in enumerate(iter(train_loader)):\n",
    "            inputs, labels = data\n",
    "            inputs, labels = inputs.to(device), labels.to(device)\n",
    "\n",
    "\n",
    "            # Forward pass\n",
    "            outputs = model(inputs)\n",
    "\n",
    "            labels = labels.unsqueeze(1).float()\n",
    "\n",
    "            # compute loss\n",
    "            batch_loss = loss_fn(outputs, labels)\n",
    "\n",
    "            # L1 penalty\n",
    "            if lambda_L1 > 0.0:\n",
    "                L1_loss = sum(p.abs().sum() for p in model.parameters())\n",
    "                batch_loss = batch_loss + lambda_L1 * L1_loss\n",
    "\n",
    "            # Backward pass\n",
    "            batch_loss.backward()\n",
    "            optimizer.step()\n",
    "            optimizer.zero_grad()\n",
    "\n",
    "            # epoch_loss += batch_loss.item() * inputs.size(0)\n",
    "            batch_losses.append(batch_loss.item()) # track loss for every batch\n",
    "\n",
    "        one_epoch_loss = np.array(batch_losses).mean() # calculate loss for one epoch\n",
    "        loss_hist.append(one_epoch_loss) # track loss for every epoch\n",
    "\n",
    "        if epoch % 10 == 0 or epoch == epochs - 1:\n",
    "            print(f\"Epoch {epoch}/{epochs}, Loss: {one_epoch_loss:.4f}\")\n",
    "\n",
    "    return loss_hist"
   ],
   "id": "2bb2d792b9399d18",
   "outputs": [],
   "execution_count": 24
  },
  {
   "metadata": {
    "ExecuteTime": {
     "end_time": "2024-12-24T12:53:45.041276Z",
     "start_time": "2024-12-24T12:35:07.769363Z"
    }
   },
   "cell_type": "code",
   "source": "loss_history = train_model(model, device, train_loader, optimizer, loss_fn, epochs, lambda_L1)",
   "id": "f6ae832c2e506d45",
   "outputs": [
    {
     "name": "stdout",
     "output_type": "stream",
     "text": [
      "Epoch 0/20, Loss: 0.5047\n",
      "Epoch 10/20, Loss: 0.2827\n",
      "Epoch 19/20, Loss: 0.2667\n"
     ]
    }
   ],
   "execution_count": 25
  },
  {
   "metadata": {},
   "cell_type": "markdown",
   "source": "Plotting loss",
   "id": "8dabb8f90781c90c"
  },
  {
   "metadata": {
    "ExecuteTime": {
     "end_time": "2024-12-24T12:53:45.197654Z",
     "start_time": "2024-12-24T12:53:45.079762Z"
    }
   },
   "cell_type": "code",
   "source": [
    "plt.plot(range(len(loss_history)), loss_history)\n",
    "plt.xlabel(\"Epoch\")\n",
    "plt.ylabel(\"Loss\")\n",
    "plt.title(\"Training Loss\")\n",
    "plt.show()"
   ],
   "id": "debe06d83c86886e",
   "outputs": [
    {
     "data": {
      "text/plain": [
       "<Figure size 640x480 with 1 Axes>"
      ],
      "image/png": "[encoded data removed]"
     },
     "metadata": {},
     "output_type": "display_data"
    }
   ],
   "execution_count": 26
  },
  {
   "metadata": {},
   "cell_type": "markdown",
   "source": "Saving model",
   "id": "c96cc236da1d3463"
  },
  {
   "metadata": {
    "ExecuteTime": {
     "end_time": "2024-12-24T13:25:59.513656Z",
     "start_time": "2024-12-24T13:25:59.199791Z"
    }
   },
   "cell_type": "code",
   "source": "torch.save(model.to('cpu').state_dict(), 'mymodel_task2.pth')",
   "id": "40f8aa369e1bb2e3",
   "outputs": [],
   "execution_count": 41
  },
  {
   "metadata": {},
   "cell_type": "markdown",
   "source": "Evaluating the model",
   "id": "846c4837bdc119d1"
  },
  {
   "metadata": {
    "ExecuteTime": {
     "end_time": "2024-12-24T13:25:59.187183Z",
     "start_time": "2024-12-24T13:25:59.181872Z"
    }
   },
   "cell_type": "code",
   "outputs": [],
   "execution_count": 40,
   "source": [
    "from torch.nn.functional import sigmoid\n",
    "\n",
    "def accuracy(test_loader, model, device):\n",
    "    model.to(device)\n",
    "\n",
    "    model.eval()\n",
    "    correct_list = []\n",
    "    \n",
    "    total_correct = 0\n",
    "    total_samples = 0\n",
    "\n",
    "    with torch.no_grad():\n",
    "        for i, data in enumerate(iter(test_loader)):\n",
    "            inputs, labels = data\n",
    "            inputs, labels = inputs.to(device), labels.to(device)\n",
    "\n",
    "            outputs = model(inputs).squeeze(1)\n",
    "            probs = sigmoid(outputs) # apply sigmoid to convert outputs to range [0, 1]\n",
    "\n",
    "            preds = (probs >= 0.5).long()\n",
    "            correct = preds == labels\n",
    "            correct_list.append(correct)\n",
    "            \n",
    "            total_correct += (preds == labels).sum().item() # extracts the total correct value as a scalar value of a python number \n",
    "            total_samples += labels.size(0)\n",
    "\n",
    "    acc = total_correct / total_samples\n",
    "    print(f\"Test Error: \\n Accuracy: {100 * acc:>0.1f}%\")\n",
    "    return acc"
   ],
   "id": "c00022503fd1fa97"
  },
  {
   "metadata": {
    "ExecuteTime": {
     "end_time": "2024-12-24T13:25:59.544038Z",
     "start_time": "2024-12-24T13:25:59.526376Z"
    }
   },
   "cell_type": "code",
   "source": "trained_model = CNNModel()",
   "id": "ed620cf00691481c",
   "outputs": [],
   "execution_count": 42
  },
  {
   "metadata": {
    "ExecuteTime": {
     "end_time": "2024-12-24T13:25:59.571745Z",
     "start_time": "2024-12-24T13:25:59.556623Z"
    }
   },
   "cell_type": "code",
   "source": "trained_model.load_state_dict(torch.load('mymodel_task2.pth'))",
   "id": "1f882109186ecb62",
   "outputs": [
    {
     "name": "stderr",
     "output_type": "stream",
     "text": [
      "/var/folders/qp/bxzl_3617sn9cpjhhk8myhbc0000gn/T/ipykernel_93244/3149183522.py:1: FutureWarning: You are using `torch.load` with `weights_only=False` (the current default value), which uses the default pickle module implicitly. It is possible to construct malicious pickle data which will execute arbitrary code during unpickling (See https://github.com/pytorch/pytorch/blob/main/SECURITY.md#untrusted-models for more details). In a future release, the default value for `weights_only` will be flipped to `True`. This limits the functions that could be executed during unpickling. Arbitrary objects will no longer be allowed to be loaded via this mode unless they are explicitly allowlisted by the user via `torch.serialization.add_safe_globals`. We recommend you start setting `weights_only=True` for any use case where you don't have full control of the loaded file. Please open an issue on GitHub for any issues related to this experimental feature.\n",
      "  trained_model.load_state_dict(torch.load('mymodel_task2.pth'))\n"
     ]
    },
    {
     "data": {
      "text/plain": [
       "<All keys matched successfully>"
      ]
     },
     "execution_count": 43,
     "metadata": {},
     "output_type": "execute_result"
    }
   ],
   "execution_count": 43
  },
  {
   "metadata": {
    "ExecuteTime": {
     "end_time": "2024-12-24T13:25:59.590777Z",
     "start_time": "2024-12-24T13:25:59.583518Z"
    }
   },
   "cell_type": "code",
   "source": "trained_model.to(device)",
   "id": "cac67e2ef8c66f30",
   "outputs": [
    {
     "data": {
      "text/plain": [
       "CNNModel(\n",
       "  (conv1): Conv2d(3, 32, kernel_size=(3, 3), stride=(1, 1), padding=(1, 1))\n",
       "  (conv2): Conv2d(32, 64, kernel_size=(3, 3), stride=(1, 1), padding=(1, 1))\n",
       "  (conv3): Conv2d(64, 128, kernel_size=(3, 3), stride=(1, 1), padding=(1, 1))\n",
       "  (pool): MaxPool2d(kernel_size=2, stride=2, padding=0, dilation=1, ceil_mode=False)\n",
       "  (fc1): Linear(in_features=8192, out_features=512, bias=True)\n",
       "  (fc2): Linear(in_features=512, out_features=1, bias=True)\n",
       "  (dropout): Dropout(p=0.5, inplace=False)\n",
       ")"
      ]
     },
     "execution_count": 44,
     "metadata": {},
     "output_type": "execute_result"
    }
   ],
   "execution_count": 44
  },
  {
   "metadata": {
    "ExecuteTime": {
     "end_time": "2024-12-24T13:26:28.250101Z",
     "start_time": "2024-12-24T13:25:59.608353Z"
    }
   },
   "cell_type": "code",
   "source": [
    "device = torch.device(\"mps\") if torch.backends.mps.is_available() else torch.device(\"cpu\")\n",
    "acc = accuracy(test_loader, trained_model, device)"
   ],
   "id": "262cac0b30e227a",
   "outputs": [
    {
     "name": "stdout",
     "output_type": "stream",
     "text": [
      "Test Error: \n",
      " Accuracy: 94.0%\n"
     ]
    }
   ],
   "execution_count": 45
  },
  {
   "metadata": {
    "ExecuteTime": {
     "end_time": "2024-12-24T13:26:28.267866Z",
     "start_time": "2024-12-24T13:26:28.266377Z"
    }
   },
   "cell_type": "code",
   "source": "",
   "id": "185f853b8d6362a6",
   "outputs": [],
   "execution_count": null
  }
 ],
 "metadata": {
  "kernelspec": {
   "display_name": "Python 3",
   "language": "python",
   "name": "python3"
  },
  "language_info": {
   "codemirror_mode": {
    "name": "ipython",
    "version": 2
   },
   "file_extension": ".py",
   "mimetype": "text/x-python",
   "name": "python",
   "nbconvert_exporter": "python",
   "pygments_lexer": "ipython2",
   "version": "2.7.6"
  }
 },
 "nbformat": 4,
 "nbformat_minor": 5
}
