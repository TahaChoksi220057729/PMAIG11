{
 "cells": [
  {
   "metadata": {
    "ExecuteTime": {
     "end_time": "2024-12-24T20:05:28.331116Z",
     "start_time": "2024-12-24T20:05:28.325281Z"
    }
   },
   "cell_type": "code",
   "source": [
    "import matplotlib.pyplot as plt\n",
    "import os\n",
    "import numpy as np\n",
    "\n",
    "import torch\n",
    "from torch import nn\n",
    "from torch.utils.data import DataLoader\n",
    "from torchvision import datasets, transforms\n",
    "import torch.nn.functional as F\n",
    "from torch.nn.functional import sigmoid\n",
    "\n",
    "base_path = \"./../Dataset/cifake\"\n",
    "train_path = os.path.join(base_path, \"train\")\n",
    "test_path = os.path.join(base_path, \"test\")"
   ],
   "id": "9b68e11c66549f2a",
   "outputs": [],
   "execution_count": 29
  },
  {
   "metadata": {
    "ExecuteTime": {
     "end_time": "2024-12-24T20:05:54.375824Z",
     "start_time": "2024-12-24T20:05:28.353580Z"
    }
   },
   "cell_type": "code",
   "source": [
    "# convert to tensors and normalise pixel values to [-1, 1]\n",
    "transform = transforms.Compose([\n",
    "    transforms.ToTensor(),\n",
    "    transforms.Normalize(mean=[0.5, 0.5, 0.5], std=[0.5, 0.5, 0.5])\n",
    "])\n",
    "\n",
    "train_dataset = datasets.ImageFolder(root=train_path, transform=transform)\n",
    "test_dataset = datasets.ImageFolder(root=test_path, transform=transform)\n",
    "\n",
    "image, label = train_dataset[0] \n",
    "print(f\"Dataset Shape: {train_dataset.__len__()}\")\n",
    "print(f\"Image shape: {image.shape}\")\n",
    "print(f\"Label: {label}\")\n",
    "\n",
    "train_loader = DataLoader(train_dataset, batch_size=64, shuffle=True, num_workers=4)\n",
    "test_loader = DataLoader(test_dataset, batch_size=64, shuffle=False, num_workers=4)\n",
    "\n",
    "images, labels = next(iter(train_loader))\n",
    "print(f\"Batch image shape: {images.shape}\")  # (batch, channel, height, width)\n",
    "print(f\"Batch label shape: {labels.shape}\")  # (batch,)\n",
    "print(f\"Labels: {labels}\")\n",
    "\n",
    "print(f\"Class-to-Label Mapping: {train_dataset.class_to_idx}\")"
   ],
   "id": "a913f66eede72740",
   "outputs": [
    {
     "name": "stdout",
     "output_type": "stream",
     "text": [
      "Dataset Shape: 100000\n",
      "Image shape: torch.Size([3, 32, 32])\n",
      "Label: 0\n",
      "Batch image shape: torch.Size([64, 3, 32, 32])\n",
      "Batch label shape: torch.Size([64])\n",
      "Labels: tensor([0, 0, 1, 1, 0, 0, 0, 1, 1, 0, 0, 1, 1, 0, 0, 1, 0, 0, 0, 0, 1, 0, 0, 1,\n",
      "        0, 1, 1, 0, 1, 0, 1, 1, 1, 0, 1, 1, 0, 0, 0, 1, 1, 0, 0, 0, 0, 1, 1, 1,\n",
      "        0, 1, 0, 0, 1, 0, 1, 0, 0, 1, 0, 1, 1, 0, 0, 0])\n",
      "Class-to-Label Mapping: {'FAKE': 0, 'REAL': 1}\n"
     ]
    }
   ],
   "execution_count": 30
  },
  {
   "metadata": {
    "ExecuteTime": {
     "end_time": "2024-12-24T20:05:54.389767Z",
     "start_time": "2024-12-24T20:05:54.384674Z"
    }
   },
   "cell_type": "code",
   "source": [
    "class CNNModel(nn.Module):\n",
    "    def __init__(self):\n",
    "        super().__init__()\n",
    "\n",
    "        self.conv1 = nn.Conv2d(in_channels=3, out_channels=32, kernel_size=3, stride=1,\n",
    "                               padding=1)  # Input: (3, 32, 32) Output: (32, 32, 32)\n",
    "        self.conv2 = nn.Conv2d(in_channels=32, out_channels=64, kernel_size=3, stride=1,\n",
    "                               padding=1)  # Input: (32, 32, 32) Output: (64, 32, 32)\n",
    "        self.conv3 = nn.Conv2d(in_channels=64, out_channels=128, kernel_size=3, stride=1,\n",
    "                               padding=1)  # Input: (64, 32, 32) Output: (128, 32, 32)\n",
    "\n",
    "        self.pool = nn.MaxPool2d(kernel_size=2, stride=2)  # dimension / 2\n",
    "\n",
    "        self.fc1 = nn.Linear(in_features=128 * 8 * 8, out_features=512)  # flatten output from pool\n",
    "        self.fc2 = nn.Linear(in_features=512, out_features=1)\n",
    "\n",
    "        self.dropout = nn.Dropout(p=0.5)\n",
    "\n",
    "    def forward(self, x):\n",
    "        x = F.relu(self.conv1(x))  # Output: (32, 32, 32)\n",
    "        x = self.pool(F.relu(self.conv2(x)))  # Output: (64, 16, 16)\n",
    "        x = self.pool(F.relu(self.conv3(x)))  # Output: (128, 8, 8)\n",
    "\n",
    "        x = x.view(-1, 128 * 8 * 8)  # flatten to (batch_size, 128 * 8 * 8)\n",
    "\n",
    "        x = F.relu(self.fc1(x))\n",
    "        x = self.dropout(x) \n",
    "        x = self.fc2(x)  # no need for activation, BCELossWithLogits combines sigmoid\n",
    "\n",
    "        return x"
   ],
   "id": "eeb0621dcbd053f7",
   "outputs": [],
   "execution_count": 31
  },
  {
   "metadata": {
    "ExecuteTime": {
     "end_time": "2024-12-24T20:05:54.412198Z",
     "start_time": "2024-12-24T20:05:54.409727Z"
    }
   },
   "cell_type": "code",
   "source": [
    "device = torch.device(\"mps\") if torch.backends.mps.is_available() else torch.device(\"cpu\")\n",
    "print(device)"
   ],
   "id": "8346240f5002c8af",
   "outputs": [
    {
     "name": "stdout",
     "output_type": "stream",
     "text": [
      "mps\n"
     ]
    }
   ],
   "execution_count": 32
  },
  {
   "metadata": {
    "ExecuteTime": {
     "end_time": "2024-12-24T20:05:54.447473Z",
     "start_time": "2024-12-24T20:05:54.431700Z"
    }
   },
   "cell_type": "code",
   "source": "trained_model = CNNModel()",
   "id": "7de8adc7e7699386",
   "outputs": [],
   "execution_count": 33
  },
  {
   "metadata": {},
   "cell_type": "markdown",
   "source": "Shows misclassified images",
   "id": "7f93d6e3af023986"
  },
  {
   "metadata": {
    "ExecuteTime": {
     "end_time": "2024-12-24T20:19:57.569316Z",
     "start_time": "2024-12-24T20:19:57.562209Z"
    }
   },
   "cell_type": "code",
   "source": [
    "def show_predictions(images, labels, predictions, num_to_display=10):\n",
    "    # Identify misclassified indices\n",
    "    misclassified_idx = [i for i, (label, pred) in enumerate(zip(labels, predictions)) if label != pred]\n",
    "    \n",
    "    misclassified_idx = misclassified_idx[:num_to_display]\n",
    "    \n",
    "    plt.figure(figsize=(10, 10))\n",
    "    for i, idx in enumerate(misclassified_idx):\n",
    "        plt.subplot(1, num_to_display, i + 1)\n",
    "        img = images[idx].permute(1, 2, 0)\n",
    "        img = img.cpu().numpy()\n",
    "        img = img / 2 + 0.5  \n",
    "        plt.imshow(img, cmap='gray')\n",
    "        plt.title(f\"True: {labels[idx]}\\nPred: {predictions[idx]}\")\n",
    "        plt.axis('off')\n",
    "    \n",
    "    plt.tight_layout()\n",
    "    plt.show()"
   ],
   "id": "6e2b7e2344d8129e",
   "outputs": [],
   "execution_count": 56
  },
  {
   "metadata": {
    "ExecuteTime": {
     "end_time": "2024-12-24T20:43:50.010186Z",
     "start_time": "2024-12-24T20:43:50.004828Z"
    }
   },
   "cell_type": "code",
   "source": [
    "def accuracy(test_loader, model, device):\n",
    "    model.to(device)\n",
    "\n",
    "    model.eval()\n",
    "    pred_list = []\n",
    "    true_list = []\n",
    "    \n",
    "    total_correct = 0\n",
    "    total_samples = 0\n",
    "\n",
    "    with torch.no_grad():\n",
    "        for i, data in enumerate(iter(test_loader)):\n",
    "            inputs, labels = data\n",
    "            inputs, labels = inputs.to(device), labels.to(device)\n",
    "\n",
    "            outputs = model(inputs).squeeze(1)\n",
    "            probs = sigmoid(outputs) # apply sigmoid to convert outputs to range [0, 1]\n",
    "\n",
    "            preds = (probs >= 0.5).long()\n",
    "            corrects = preds == labels\n",
    "            pred_list.append(preds.cpu().numpy())\n",
    "            true_list.append(labels.cpu().numpy())\n",
    "            \n",
    "            total_correct += corrects.sum().item() # extracts the total correct value as a scalar value of a python number \n",
    "            total_samples += labels.size(0)\n",
    "            if i == 100:\n",
    "                print(f\"Evaluation round {i}, misclassified images: \")\n",
    "                show_predictions(inputs, labels ,preds, num_to_display=10)\n",
    "\n",
    "    acc = total_correct / total_samples\n",
    "    print(f\"Accuracy: {100 * acc:>0.1f}%\")\n",
    "    return acc, pred_list, true_list"
   ],
   "id": "1979069e0548f14",
   "outputs": [],
   "execution_count": 73
  },
  {
   "metadata": {
    "ExecuteTime": {
     "end_time": "2024-12-24T20:43:50.295733Z",
     "start_time": "2024-12-24T20:43:50.024221Z"
    }
   },
   "cell_type": "code",
   "source": [
    "trained_model.load_state_dict(torch.load('mymodel_task2.pth', weights_only=True))\n",
    "trained_model.to(device)"
   ],
   "id": "8364a8943ae376d1",
   "outputs": [
    {
     "data": {
      "text/plain": [
       "CNNModel(\n",
       "  (conv1): Conv2d(3, 32, kernel_size=(3, 3), stride=(1, 1), padding=(1, 1))\n",
       "  (conv2): Conv2d(32, 64, kernel_size=(3, 3), stride=(1, 1), padding=(1, 1))\n",
       "  (conv3): Conv2d(64, 128, kernel_size=(3, 3), stride=(1, 1), padding=(1, 1))\n",
       "  (pool): MaxPool2d(kernel_size=2, stride=2, padding=0, dilation=1, ceil_mode=False)\n",
       "  (fc1): Linear(in_features=8192, out_features=512, bias=True)\n",
       "  (fc2): Linear(in_features=512, out_features=1, bias=True)\n",
       "  (dropout): Dropout(p=0.5, inplace=False)\n",
       ")"
      ]
     },
     "execution_count": 74,
     "metadata": {},
     "output_type": "execute_result"
    }
   ],
   "execution_count": 74
  },
  {
   "metadata": {
    "ExecuteTime": {
     "end_time": "2024-12-24T20:44:19.989299Z",
     "start_time": "2024-12-24T20:43:50.427470Z"
    }
   },
   "cell_type": "code",
   "source": "acc, predicted_labels, true_labels = accuracy(test_loader, trained_model, device)",
   "id": "bbb7170726f2b82f",
   "outputs": [
    {
     "name": "stdout",
     "output_type": "stream",
     "text": [
      "Evaluation round 100, misclassified images: \n"
     ]
    },
    {
     "data": {
      "text/plain": [
       "<Figure size 1000x1000 with 5 Axes>"
      ],
      "image/png": "[encoded data removed]"
     },
     "metadata": {},
     "output_type": "display_data"
    },
    {
     "name": "stdout",
     "output_type": "stream",
     "text": [
      "Accuracy: 94.0%\n"
     ]
    }
   ],
   "execution_count": 75
  },
  {
   "metadata": {},
   "cell_type": "markdown",
   "source": "Measures the proportion of correctly predicted instances out of the total instances.",
   "id": "85f5e7466f2a4052"
  },
  {
   "metadata": {
    "ExecuteTime": {
     "end_time": "2024-12-24T20:44:20.114603Z",
     "start_time": "2024-12-24T20:44:20.070470Z"
    }
   },
   "cell_type": "code",
   "source": [
    "from sklearn.metrics import accuracy_score\n",
    "\n",
    "accuracy = accuracy_score(true_labels, predicted_labels)\n",
    "print(f\"Accuracy: {accuracy:.2f}\")\n"
   ],
   "id": "cbb81d71cbd3fdd1",
   "outputs": [
    {
     "ename": "ValueError",
     "evalue": "unknown is not supported",
     "output_type": "error",
     "traceback": [
      "\u001B[0;31m---------------------------------------------------------------------------\u001B[0m",
      "\u001B[0;31mValueError\u001B[0m                                Traceback (most recent call last)",
      "Cell \u001B[0;32mIn[76], line 3\u001B[0m\n\u001B[1;32m      1\u001B[0m \u001B[38;5;28;01mfrom\u001B[39;00m \u001B[38;5;21;01msklearn\u001B[39;00m\u001B[38;5;21;01m.\u001B[39;00m\u001B[38;5;21;01mmetrics\u001B[39;00m \u001B[38;5;28;01mimport\u001B[39;00m accuracy_score\n\u001B[0;32m----> 3\u001B[0m accuracy \u001B[38;5;241m=\u001B[39m \u001B[43maccuracy_score\u001B[49m\u001B[43m(\u001B[49m\u001B[43mtrue_labels\u001B[49m\u001B[43m,\u001B[49m\u001B[43m \u001B[49m\u001B[43mpredicted_labels\u001B[49m\u001B[43m)\u001B[49m\n\u001B[1;32m      4\u001B[0m \u001B[38;5;28mprint\u001B[39m(\u001B[38;5;124mf\u001B[39m\u001B[38;5;124m\"\u001B[39m\u001B[38;5;124mAccuracy: \u001B[39m\u001B[38;5;132;01m{\u001B[39;00maccuracy\u001B[38;5;132;01m:\u001B[39;00m\u001B[38;5;124m.2f\u001B[39m\u001B[38;5;132;01m}\u001B[39;00m\u001B[38;5;124m\"\u001B[39m)\n",
      "File \u001B[0;32m/Library/Frameworks/Python.framework/Versions/3.11/lib/python3.11/site-packages/sklearn/utils/_param_validation.py:213\u001B[0m, in \u001B[0;36mvalidate_params.<locals>.decorator.<locals>.wrapper\u001B[0;34m(*args, **kwargs)\u001B[0m\n\u001B[1;32m    207\u001B[0m \u001B[38;5;28;01mtry\u001B[39;00m:\n\u001B[1;32m    208\u001B[0m     \u001B[38;5;28;01mwith\u001B[39;00m config_context(\n\u001B[1;32m    209\u001B[0m         skip_parameter_validation\u001B[38;5;241m=\u001B[39m(\n\u001B[1;32m    210\u001B[0m             prefer_skip_nested_validation \u001B[38;5;129;01mor\u001B[39;00m global_skip_validation\n\u001B[1;32m    211\u001B[0m         )\n\u001B[1;32m    212\u001B[0m     ):\n\u001B[0;32m--> 213\u001B[0m         \u001B[38;5;28;01mreturn\u001B[39;00m \u001B[43mfunc\u001B[49m\u001B[43m(\u001B[49m\u001B[38;5;241;43m*\u001B[39;49m\u001B[43margs\u001B[49m\u001B[43m,\u001B[49m\u001B[43m \u001B[49m\u001B[38;5;241;43m*\u001B[39;49m\u001B[38;5;241;43m*\u001B[39;49m\u001B[43mkwargs\u001B[49m\u001B[43m)\u001B[49m\n\u001B[1;32m    214\u001B[0m \u001B[38;5;28;01mexcept\u001B[39;00m InvalidParameterError \u001B[38;5;28;01mas\u001B[39;00m e:\n\u001B[1;32m    215\u001B[0m     \u001B[38;5;66;03m# When the function is just a wrapper around an estimator, we allow\u001B[39;00m\n\u001B[1;32m    216\u001B[0m     \u001B[38;5;66;03m# the function to delegate validation to the estimator, but we replace\u001B[39;00m\n\u001B[1;32m    217\u001B[0m     \u001B[38;5;66;03m# the name of the estimator by the name of the function in the error\u001B[39;00m\n\u001B[1;32m    218\u001B[0m     \u001B[38;5;66;03m# message to avoid confusion.\u001B[39;00m\n\u001B[1;32m    219\u001B[0m     msg \u001B[38;5;241m=\u001B[39m re\u001B[38;5;241m.\u001B[39msub(\n\u001B[1;32m    220\u001B[0m         \u001B[38;5;124mr\u001B[39m\u001B[38;5;124m\"\u001B[39m\u001B[38;5;124mparameter of \u001B[39m\u001B[38;5;124m\\\u001B[39m\u001B[38;5;124mw+ must be\u001B[39m\u001B[38;5;124m\"\u001B[39m,\n\u001B[1;32m    221\u001B[0m         \u001B[38;5;124mf\u001B[39m\u001B[38;5;124m\"\u001B[39m\u001B[38;5;124mparameter of \u001B[39m\u001B[38;5;132;01m{\u001B[39;00mfunc\u001B[38;5;241m.\u001B[39m\u001B[38;5;18m__qualname__\u001B[39m\u001B[38;5;132;01m}\u001B[39;00m\u001B[38;5;124m must be\u001B[39m\u001B[38;5;124m\"\u001B[39m,\n\u001B[1;32m    222\u001B[0m         \u001B[38;5;28mstr\u001B[39m(e),\n\u001B[1;32m    223\u001B[0m     )\n",
      "File \u001B[0;32m/Library/Frameworks/Python.framework/Versions/3.11/lib/python3.11/site-packages/sklearn/metrics/_classification.py:231\u001B[0m, in \u001B[0;36maccuracy_score\u001B[0;34m(y_true, y_pred, normalize, sample_weight)\u001B[0m\n\u001B[1;32m    229\u001B[0m xp, _, device \u001B[38;5;241m=\u001B[39m get_namespace_and_device(y_true, y_pred, sample_weight)\n\u001B[1;32m    230\u001B[0m \u001B[38;5;66;03m# Compute accuracy for each possible representation\u001B[39;00m\n\u001B[0;32m--> 231\u001B[0m y_type, y_true, y_pred \u001B[38;5;241m=\u001B[39m \u001B[43m_check_targets\u001B[49m\u001B[43m(\u001B[49m\u001B[43my_true\u001B[49m\u001B[43m,\u001B[49m\u001B[43m \u001B[49m\u001B[43my_pred\u001B[49m\u001B[43m)\u001B[49m\n\u001B[1;32m    232\u001B[0m check_consistent_length(y_true, y_pred, sample_weight)\n\u001B[1;32m    233\u001B[0m \u001B[38;5;28;01mif\u001B[39;00m y_type\u001B[38;5;241m.\u001B[39mstartswith(\u001B[38;5;124m\"\u001B[39m\u001B[38;5;124mmultilabel\u001B[39m\u001B[38;5;124m\"\u001B[39m):\n",
      "File \u001B[0;32m/Library/Frameworks/Python.framework/Versions/3.11/lib/python3.11/site-packages/sklearn/metrics/_classification.py:123\u001B[0m, in \u001B[0;36m_check_targets\u001B[0;34m(y_true, y_pred)\u001B[0m\n\u001B[1;32m    121\u001B[0m \u001B[38;5;66;03m# No metrics support \"multiclass-multioutput\" format\u001B[39;00m\n\u001B[1;32m    122\u001B[0m \u001B[38;5;28;01mif\u001B[39;00m y_type \u001B[38;5;129;01mnot\u001B[39;00m \u001B[38;5;129;01min\u001B[39;00m [\u001B[38;5;124m\"\u001B[39m\u001B[38;5;124mbinary\u001B[39m\u001B[38;5;124m\"\u001B[39m, \u001B[38;5;124m\"\u001B[39m\u001B[38;5;124mmulticlass\u001B[39m\u001B[38;5;124m\"\u001B[39m, \u001B[38;5;124m\"\u001B[39m\u001B[38;5;124mmultilabel-indicator\u001B[39m\u001B[38;5;124m\"\u001B[39m]:\n\u001B[0;32m--> 123\u001B[0m     \u001B[38;5;28;01mraise\u001B[39;00m \u001B[38;5;167;01mValueError\u001B[39;00m(\u001B[38;5;124m\"\u001B[39m\u001B[38;5;132;01m{0}\u001B[39;00m\u001B[38;5;124m is not supported\u001B[39m\u001B[38;5;124m\"\u001B[39m\u001B[38;5;241m.\u001B[39mformat(y_type))\n\u001B[1;32m    125\u001B[0m \u001B[38;5;28;01mif\u001B[39;00m y_type \u001B[38;5;129;01min\u001B[39;00m [\u001B[38;5;124m\"\u001B[39m\u001B[38;5;124mbinary\u001B[39m\u001B[38;5;124m\"\u001B[39m, \u001B[38;5;124m\"\u001B[39m\u001B[38;5;124mmulticlass\u001B[39m\u001B[38;5;124m\"\u001B[39m]:\n\u001B[1;32m    126\u001B[0m     xp, _ \u001B[38;5;241m=\u001B[39m get_namespace(y_true, y_pred)\n",
      "\u001B[0;31mValueError\u001B[0m: unknown is not supported"
     ]
    }
   ],
   "execution_count": 76
  },
  {
   "metadata": {},
   "cell_type": "markdown",
   "source": "Measures the proportion of positive identifications that were actually correct.",
   "id": "ef7910c9152c061b"
  },
  {
   "metadata": {},
   "cell_type": "code",
   "outputs": [],
   "execution_count": null,
   "source": [
    "from sklearn.metrics import precision_score\n",
    "\n",
    "precision = precision_score(true_labels, predicted_labels, average='weighted')\n",
    "print(f\"Precision: {precision:.2f}\")"
   ],
   "id": "3924f0fd5c60c2c"
  },
  {
   "metadata": {},
   "cell_type": "markdown",
   "source": "Measures the proportion of actual positives that were correctly identified.",
   "id": "ab27147b5e2eb7b3"
  },
  {
   "metadata": {},
   "cell_type": "code",
   "outputs": [],
   "execution_count": null,
   "source": [
    "from sklearn.metrics import recall_score\n",
    "\n",
    "recall = recall_score(true_labels, predicted_labels, average='weighted')\n",
    "print(f\"Recall: {recall:.2f}\")"
   ],
   "id": "3938e285a3e74cc9"
  },
  {
   "metadata": {},
   "cell_type": "markdown",
   "source": "Harmonic mean of precision and recall. It balances the two metrics.",
   "id": "5a6e205553e7efb1"
  },
  {
   "metadata": {},
   "cell_type": "code",
   "outputs": [],
   "execution_count": null,
   "source": [
    "from sklearn.metrics import f1_score\n",
    "\n",
    "f1 = f1_score(true_labels, predicted_labels, average='weighted')\n",
    "print(f\"F1 Score: {f1:.2f}\")"
   ],
   "id": "6e66053991606f0c"
  },
  {
   "metadata": {},
   "cell_type": "markdown",
   "source": "A table used to evaluate the performance of a classification model.",
   "id": "2845a31b984caf31"
  },
  {
   "metadata": {},
   "cell_type": "code",
   "outputs": [],
   "execution_count": null,
   "source": [
    "from sklearn.metrics import confusion_matrix, ConfusionMatrixDisplay\n",
    "\n",
    "conf_matrix = confusion_matrix(true_labels, predicted_labels)\n",
    "disp = ConfusionMatrixDisplay(confusion_matrix=conf_matrix, display_labels=[\"Real\", \"Fake\"])\n",
    "disp.plot(cmap='viridis')\n",
    "plt.show()"
   ],
   "id": "d3c826780e25eccb"
  }
 ],
 "metadata": {
  "kernelspec": {
   "display_name": "Python 3",
   "language": "python",
   "name": "python3"
  },
  "language_info": {
   "codemirror_mode": {
    "name": "ipython",
    "version": 2
   },
   "file_extension": ".py",
   "mimetype": "text/x-python",
   "name": "python",
   "nbconvert_exporter": "python",
   "pygments_lexer": "ipython2",
   "version": "2.7.6"
  }
 },
 "nbformat": 4,
 "nbformat_minor": 5
}
