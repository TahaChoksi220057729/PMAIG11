{
 "cells": [
  {
   "metadata": {
    "ExecuteTime": {
     "end_time": "2024-12-25T14:22:35.176897Z",
     "start_time": "2024-12-25T14:22:35.135163Z"
    }
   },
   "cell_type": "code",
   "source": [
    "import matplotlib.pyplot as plt\n",
    "import os\n",
    "import numpy as np\n",
    "\n",
    "import torch\n",
    "from torch import nn\n",
    "from torch.utils.data import DataLoader\n",
    "from torchvision import datasets, transforms\n",
    "import torch.nn.functional as F\n",
    "from torch.nn.functional import sigmoid\n",
    "\n",
    "base_path = \"./../Dataset/cifake\"\n",
    "train_path = os.path.join(base_path, \"train\")\n",
    "test_path = os.path.join(base_path, \"test\")"
   ],
   "id": "9b68e11c66549f2a",
   "outputs": [],
   "execution_count": 40
  },
  {
   "metadata": {
    "ExecuteTime": {
     "end_time": "2024-12-25T14:22:56.338663Z",
     "start_time": "2024-12-25T14:22:35.186412Z"
    }
   },
   "cell_type": "code",
   "source": [
    "# convert to tensors and normalise pixel values to [-1, 1]\n",
    "transform = transforms.Compose([\n",
    "    transforms.ToTensor(),\n",
    "    transforms.Normalize(mean=[0.5, 0.5, 0.5], std=[0.5, 0.5, 0.5])\n",
    "])\n",
    "\n",
    "train_dataset = datasets.ImageFolder(root=train_path, transform=transform)\n",
    "test_dataset = datasets.ImageFolder(root=test_path, transform=transform)\n",
    "\n",
    "image, label = train_dataset[0] \n",
    "print(f\"Dataset Shape: {train_dataset.__len__()}\")\n",
    "print(f\"Image shape: {image.shape}\")\n",
    "print(f\"Label: {label}\")\n",
    "\n",
    "train_loader = DataLoader(train_dataset, batch_size=64, shuffle=True, num_workers=4)\n",
    "test_loader = DataLoader(test_dataset, batch_size=64, shuffle=False, num_workers=4)\n",
    "\n",
    "images, labels = next(iter(train_loader))\n",
    "print(f\"Batch image shape: {images.shape}\")  # (batch, channel, height, width)\n",
    "print(f\"Batch label shape: {labels.shape}\")  # (batch,)\n",
    "print(f\"Labels: {labels}\")\n",
    "\n",
    "print(f\"Class-to-Label Mapping: {train_dataset.class_to_idx}\")"
   ],
   "id": "a913f66eede72740",
   "outputs": [
    {
     "name": "stdout",
     "output_type": "stream",
     "text": [
      "Dataset Shape: 100000\n",
      "Image shape: torch.Size([3, 32, 32])\n",
      "Label: 0\n",
      "Batch image shape: torch.Size([64, 3, 32, 32])\n",
      "Batch label shape: torch.Size([64])\n",
      "Labels: tensor([1, 0, 1, 0, 1, 1, 0, 0, 1, 1, 0, 0, 0, 0, 1, 1, 1, 0, 0, 1, 1, 1, 1, 0,\n",
      "        0, 1, 1, 0, 0, 0, 1, 0, 1, 1, 0, 0, 0, 1, 0, 1, 0, 0, 1, 0, 0, 1, 0, 1,\n",
      "        0, 0, 1, 1, 0, 1, 0, 0, 1, 1, 0, 0, 0, 0, 0, 1])\n",
      "Class-to-Label Mapping: {'FAKE': 0, 'REAL': 1}\n"
     ]
    }
   ],
   "execution_count": 41
  },
  {
   "metadata": {
    "ExecuteTime": {
     "end_time": "2024-12-25T14:23:46.402671Z",
     "start_time": "2024-12-25T14:23:46.398539Z"
    }
   },
   "cell_type": "code",
   "source": [
    "class CNNModel(nn.Module):\n",
    "    def __init__(self):\n",
    "        super().__init__()\n",
    "\n",
    "        self.conv1 = nn.Conv2d(in_channels=3, out_channels=32, kernel_size=3, stride=1,\n",
    "                               padding=1)  # Input: (3, 32, 32) Output: (32, 32, 32)\n",
    "        self.conv2 = nn.Conv2d(in_channels=32, out_channels=64, kernel_size=3, stride=1,\n",
    "                               padding=1)  # Input: (32, 32, 32) Output: (64, 32, 32)\n",
    "        self.conv3 = nn.Conv2d(in_channels=64, out_channels=128, kernel_size=3, stride=1,\n",
    "                               padding=1)  # Input: (64, 32, 32) Output: (128, 32, 32)\n",
    "\n",
    "        self.pool = nn.MaxPool2d(kernel_size=2, stride=2)  # dimension / 2\n",
    "\n",
    "        self.fc1 = nn.Linear(in_features=128 * 4 * 4, out_features=512)  # flatten output from pool\n",
    "        self.fc2 = nn.Linear(in_features=512, out_features=120)\n",
    "        self.fc3 = nn.Linear(in_features=120, out_features=1)\n",
    "\n",
    "        self.dropout = nn.Dropout(p=0.5)\n",
    "\n",
    "    def forward(self, x):\n",
    "        x = self.pool(F.relu(self.conv1(x)))  # Output: (32, 16, 16)\n",
    "        x = self.pool(F.relu(self.conv2(x)))  # Output: (64, 8, 8)\n",
    "        x = self.pool(F.relu(self.conv3(x)))  # Output: (128, 4, 4)\n",
    "\n",
    "        x = x.view(-1, 128 * 4 * 4)  # flatten to (batch_size, 128 * 8 * 8)\n",
    "\n",
    "        x = F.relu(self.fc1(x))\n",
    "        x = F.relu(self.fc2(x))  # no need for activation, BCELossWithLogits combines sigmoid\n",
    "        x = self.fc3(x)\n",
    "\n",
    "        return x"
   ],
   "id": "bc7c0cb6d65fd6c7",
   "outputs": [],
   "execution_count": 49
  },
  {
   "metadata": {
    "ExecuteTime": {
     "end_time": "2024-12-25T14:23:46.421210Z",
     "start_time": "2024-12-25T14:23:46.419046Z"
    }
   },
   "cell_type": "code",
   "source": [
    "device = torch.device(\"mps\") if torch.backends.mps.is_available() else torch.device(\"cpu\")\n",
    "print(device)"
   ],
   "id": "8346240f5002c8af",
   "outputs": [
    {
     "name": "stdout",
     "output_type": "stream",
     "text": [
      "mps\n"
     ]
    }
   ],
   "execution_count": 50
  },
  {
   "metadata": {
    "ExecuteTime": {
     "end_time": "2024-12-25T14:23:46.441150Z",
     "start_time": "2024-12-25T14:23:46.435135Z"
    }
   },
   "cell_type": "code",
   "source": "trained_model = CNNModel()",
   "id": "7de8adc7e7699386",
   "outputs": [],
   "execution_count": 51
  },
  {
   "metadata": {},
   "cell_type": "markdown",
   "source": "Shows misclassified images",
   "id": "7f93d6e3af023986"
  },
  {
   "metadata": {
    "ExecuteTime": {
     "end_time": "2024-12-25T14:23:46.453909Z",
     "start_time": "2024-12-25T14:23:46.451293Z"
    }
   },
   "cell_type": "code",
   "source": [
    "def show_predictions(images, labels, predictions, num_to_display=10):\n",
    "    # Identify misclassified indices\n",
    "    misclassified_idx = [i for i, (label, pred) in enumerate(zip(labels, predictions)) if label != pred]\n",
    "    \n",
    "    misclassified_idx = misclassified_idx[:num_to_display]\n",
    "    \n",
    "    plt.figure(figsize=(10, 10))\n",
    "    for i, idx in enumerate(misclassified_idx):\n",
    "        plt.subplot(1, num_to_display, i + 1)\n",
    "        img = images[idx].permute(1, 2, 0)\n",
    "        img = img.cpu().numpy()\n",
    "        img = img / 2 + 0.5  \n",
    "        plt.imshow(img, cmap='gray')\n",
    "        plt.title(f\"True: {labels[idx]}\\nPred: {predictions[idx]}\")\n",
    "        plt.axis('off')\n",
    "    \n",
    "    plt.tight_layout()\n",
    "    plt.show()"
   ],
   "id": "6e2b7e2344d8129e",
   "outputs": [],
   "execution_count": 52
  },
  {
   "metadata": {
    "ExecuteTime": {
     "end_time": "2024-12-25T14:23:46.467322Z",
     "start_time": "2024-12-25T14:23:46.464011Z"
    }
   },
   "cell_type": "code",
   "source": [
    "def accuracy(test_loader, model, device):\n",
    "    model.to(device)\n",
    "\n",
    "    model.eval()\n",
    "    pred_list = []\n",
    "    true_list = []\n",
    "    \n",
    "    total_correct = 0\n",
    "    total_samples = 0\n",
    "\n",
    "    with torch.no_grad():\n",
    "        for i, data in enumerate(iter(test_loader)):\n",
    "            inputs, labels = data\n",
    "            inputs, labels = inputs.to(device), labels.to(device)\n",
    "\n",
    "            outputs = model(inputs).squeeze(1)\n",
    "            probs = sigmoid(outputs) # apply sigmoid to convert outputs to range [0, 1]\n",
    "\n",
    "            preds = (probs >= 0.5).long()\n",
    "            corrects = preds == labels\n",
    "            pred_list.append(preds.cpu().numpy())\n",
    "            true_list.append(labels.cpu().numpy())\n",
    "            \n",
    "            total_correct += corrects.sum().item() # extracts the total correct value as a scalar value of a python number \n",
    "            total_samples += labels.size(0)\n",
    "            if i == 100:\n",
    "                print(f\"Evaluation round {i}, misclassified images: \")\n",
    "                show_predictions(inputs, labels ,preds, num_to_display=10)\n",
    "\n",
    "    acc = total_correct / total_samples\n",
    "    true_list = np.concatenate(true_list) # turn 2d true_list into 1d true_list\n",
    "    pred_list = np.concatenate(pred_list)\n",
    "    print(f\"Accuracy: {100 * acc:>0.1f}%\")\n",
    "    return acc, pred_list, true_list"
   ],
   "id": "1979069e0548f14",
   "outputs": [],
   "execution_count": 53
  },
  {
   "metadata": {
    "ExecuteTime": {
     "end_time": "2024-12-25T14:23:46.961332Z",
     "start_time": "2024-12-25T14:23:46.477344Z"
    }
   },
   "cell_type": "code",
   "source": [
    "trained_model.load_state_dict(torch.load('mymodel_task2_scheduler.pth', weights_only=True))\n",
    "trained_model.to(device)"
   ],
   "id": "8364a8943ae376d1",
   "outputs": [
    {
     "data": {
      "text/plain": [
       "CNNModel(\n",
       "  (conv1): Conv2d(3, 32, kernel_size=(3, 3), stride=(1, 1), padding=(1, 1))\n",
       "  (conv2): Conv2d(32, 64, kernel_size=(3, 3), stride=(1, 1), padding=(1, 1))\n",
       "  (conv3): Conv2d(64, 128, kernel_size=(3, 3), stride=(1, 1), padding=(1, 1))\n",
       "  (pool): MaxPool2d(kernel_size=2, stride=2, padding=0, dilation=1, ceil_mode=False)\n",
       "  (fc1): Linear(in_features=2048, out_features=512, bias=True)\n",
       "  (fc2): Linear(in_features=512, out_features=120, bias=True)\n",
       "  (fc3): Linear(in_features=120, out_features=1, bias=True)\n",
       "  (dropout): Dropout(p=0.5, inplace=False)\n",
       ")"
      ]
     },
     "execution_count": 54,
     "metadata": {},
     "output_type": "execute_result"
    }
   ],
   "execution_count": 54
  },
  {
   "metadata": {
    "ExecuteTime": {
     "end_time": "2024-12-25T14:24:15.176403Z",
     "start_time": "2024-12-25T14:23:46.989866Z"
    }
   },
   "cell_type": "code",
   "source": "acc, predicted_labels, true_labels = accuracy(test_loader, trained_model, device)",
   "id": "bbb7170726f2b82f",
   "outputs": [
    {
     "name": "stdout",
     "output_type": "stream",
     "text": [
      "Evaluation round 100, misclassified images: \n"
     ]
    },
    {
     "data": {
      "text/plain": [
       "<Figure size 1000x1000 with 3 Axes>"
      ],
      "image/png": "[encoded data removed]"
     },
     "metadata": {},
     "output_type": "display_data"
    },
    {
     "name": "stdout",
     "output_type": "stream",
     "text": [
      "Accuracy: 95.3%\n"
     ]
    }
   ],
   "execution_count": 55
  },
  {
   "metadata": {},
   "cell_type": "markdown",
   "source": "Measures the proportion of correctly predicted instances out of the total instances.",
   "id": "85f5e7466f2a4052"
  },
  {
   "metadata": {
    "ExecuteTime": {
     "end_time": "2024-12-25T14:24:15.266172Z",
     "start_time": "2024-12-25T14:24:15.255499Z"
    }
   },
   "cell_type": "code",
   "source": [
    "from sklearn.metrics import accuracy_score\n",
    "\n",
    "accuracy = accuracy_score(true_labels, predicted_labels)\n",
    "print(f\"Accuracy: {accuracy:.2f}\")\n"
   ],
   "id": "cbb81d71cbd3fdd1",
   "outputs": [
    {
     "name": "stdout",
     "output_type": "stream",
     "text": [
      "Accuracy: 0.95\n"
     ]
    }
   ],
   "execution_count": 56
  },
  {
   "metadata": {},
   "cell_type": "markdown",
   "source": "Measures the proportion of positive identifications that were actually correct.",
   "id": "ef7910c9152c061b"
  },
  {
   "metadata": {
    "ExecuteTime": {
     "end_time": "2024-12-25T14:24:15.350147Z",
     "start_time": "2024-12-25T14:24:15.340079Z"
    }
   },
   "cell_type": "code",
   "source": [
    "from sklearn.metrics import precision_score\n",
    "\n",
    "precision = precision_score(true_labels, predicted_labels, average='weighted')\n",
    "print(f\"Precision: {precision:.2f}\")"
   ],
   "id": "3924f0fd5c60c2c",
   "outputs": [
    {
     "name": "stdout",
     "output_type": "stream",
     "text": [
      "Precision: 0.95\n"
     ]
    }
   ],
   "execution_count": 57
  },
  {
   "metadata": {},
   "cell_type": "markdown",
   "source": "Measures the proportion of actual positives that were correctly identified.",
   "id": "ab27147b5e2eb7b3"
  },
  {
   "metadata": {
    "ExecuteTime": {
     "end_time": "2024-12-25T14:24:15.370502Z",
     "start_time": "2024-12-25T14:24:15.363866Z"
    }
   },
   "cell_type": "code",
   "source": [
    "from sklearn.metrics import recall_score\n",
    "\n",
    "recall = recall_score(true_labels, predicted_labels, average='weighted')\n",
    "print(f\"Recall: {recall:.2f}\")"
   ],
   "id": "3938e285a3e74cc9",
   "outputs": [
    {
     "name": "stdout",
     "output_type": "stream",
     "text": [
      "Recall: 0.95\n"
     ]
    }
   ],
   "execution_count": 58
  },
  {
   "metadata": {},
   "cell_type": "markdown",
   "source": "Harmonic mean of precision and recall. It balances the two metrics.",
   "id": "5a6e205553e7efb1"
  },
  {
   "metadata": {
    "ExecuteTime": {
     "end_time": "2024-12-25T14:24:15.394058Z",
     "start_time": "2024-12-25T14:24:15.384771Z"
    }
   },
   "cell_type": "code",
   "source": [
    "from sklearn.metrics import f1_score\n",
    "\n",
    "f1 = f1_score(true_labels, predicted_labels, average='weighted')\n",
    "print(f\"F1 Score: {f1:.2f}\")"
   ],
   "id": "6e66053991606f0c",
   "outputs": [
    {
     "name": "stdout",
     "output_type": "stream",
     "text": [
      "F1 Score: 0.95\n"
     ]
    }
   ],
   "execution_count": 59
  },
  {
   "metadata": {},
   "cell_type": "markdown",
   "source": "A table used to evaluate the performance of a classification model.",
   "id": "2845a31b984caf31"
  },
  {
   "metadata": {
    "ExecuteTime": {
     "end_time": "2024-12-25T14:24:15.768499Z",
     "start_time": "2024-12-25T14:24:15.413171Z"
    }
   },
   "cell_type": "code",
   "source": [
    "from sklearn.metrics import confusion_matrix, ConfusionMatrixDisplay\n",
    "\n",
    "conf_matrix = confusion_matrix(true_labels, predicted_labels)\n",
    "disp = ConfusionMatrixDisplay(confusion_matrix=conf_matrix, display_labels=[\"Real\", \"Fake\"])\n",
    "disp.plot(cmap='copper')\n",
    "plt.show()"
   ],
   "id": "d3c826780e25eccb",
   "outputs": [
    {
     "data": {
      "text/plain": [
       "<Figure size 640x480 with 2 Axes>"
      ],
      "image/png": "[encoded data removed]"
     },
     "metadata": {},
     "output_type": "display_data"
    }
   ],
   "execution_count": 60
  }
 ],
 "metadata": {
  "kernelspec": {
   "display_name": "Python 3",
   "language": "python",
   "name": "python3"
  },
  "language_info": {
   "codemirror_mode": {
    "name": "ipython",
    "version": 2
   },
   "file_extension": ".py",
   "mimetype": "text/x-python",
   "name": "python",
   "nbconvert_exporter": "python",
   "pygments_lexer": "ipython2",
   "version": "2.7.6"
  }
 },
 "nbformat": 4,
 "nbformat_minor": 5
}
