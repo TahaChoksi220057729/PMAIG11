{
 "cells": [
  {
   "metadata": {},
   "cell_type": "markdown",
   "source": [
    "### Download dataset from Kaggle, fashion_mnist\n",
    "\n",
    "todo: explain why we choose to use fashion_mnist"
   ],
   "id": "c175d4d6132787b7"
  },
  {
   "metadata": {
    "collapsed": true,
    "jupyter": {
     "is_executing": true
    },
    "ExecuteTime": {
     "start_time": "2024-11-30T12:42:44.925963Z"
    }
   },
   "cell_type": "code",
   "source": [
    "import pandas as pd\n",
    "import matplotlib.pyplot as plt\n",
    "import numpy as np\n",
    "\n",
    "training_set = pd.read_csv('Dataset/fashion_data/fashion-mnist_train.csv')\n",
    "test_set = pd.read_csv('Dataset/fashion_data/fashion-mnist_test.csv')\n",
    "\n",
    "print(training_set.shape)\n",
    "print(test_set.shape)"
   ],
   "id": "initial_id",
   "outputs": [],
   "execution_count": null
  },
  {
   "metadata": {},
   "cell_type": "markdown",
   "source": "perform data cleaning",
   "id": "99bd1df81b11ee9"
  },
  {
   "metadata": {
    "ExecuteTime": {
     "end_time": "2024-11-30T12:41:50.930074Z",
     "start_time": "2024-11-30T12:41:50.927427Z"
    }
   },
   "cell_type": "code",
   "source": [
    "# X is pixels, y is labels\n",
    "y_train = training_set.iloc[:, 0].to_numpy()\n",
    "X_train = training_set.iloc[:, 1:].to_numpy()\n",
    "y_test = test_set.iloc[:, 0].to_numpy()\n",
    "X_test = test_set.iloc[:, 1:].to_numpy()\n",
    "\n",
    "print(X_train.shape)\n",
    "print(y_train.shape)\n",
    "print(X_test.shape)\n",
    "print(y_test.shape)"
   ],
   "id": "e0306a4ea9e7d442",
   "outputs": [
    {
     "name": "stdout",
     "output_type": "stream",
     "text": [
      "(60000, 784)\n",
      "(60000,)\n",
      "(10000, 784)\n",
      "(10000,)\n"
     ]
    }
   ],
   "execution_count": 4
  },
  {
   "metadata": {
    "ExecuteTime": {
     "end_time": "2024-11-30T12:41:51.037761Z",
     "start_time": "2024-11-30T12:41:50.946646Z"
    }
   },
   "cell_type": "code",
   "source": [
    "#visualising one image\n",
    "\n",
    "# choosing the first image\n",
    "image_array = X_train[0]\n",
    "label = y_train[0]\n",
    "\n",
    "# reshape 784 to 28x28\n",
    "image_array = image_array.reshape(28, 28)\n",
    "\n",
    "# plotting the image\n",
    "plt.imshow(image_array, cmap='gray')\n",
    "plt.title(f\"Label: {label}\")\n",
    "plt.axis('off')\n",
    "plt.show()\n"
   ],
   "id": "c3ad543f1f410c0f",
   "outputs": [
    {
     "data": {
      "text/plain": [
       "<Figure size 640x480 with 1 Axes>"
      ],
      "image/png": "[encoded data removed]"
     },
     "metadata": {},
     "output_type": "display_data"
    }
   ],
   "execution_count": 5
  },
  {
   "metadata": {
    "ExecuteTime": {
     "end_time": "2024-11-30T12:41:51.157317Z",
     "start_time": "2024-11-30T12:41:51.049636Z"
    }
   },
   "cell_type": "code",
   "source": [
    "# rescaling the pixel values down to values between 0 - 1 for efficiency of neural network\n",
    "\n",
    "X_train = X_train / 255.0\n",
    "X_test = X_test / 255.0\n",
    "print(X_train[:5])\n",
    "print(X_test[:5])"
   ],
   "id": "e19cba663018fe9a",
   "outputs": [
    {
     "name": "stdout",
     "output_type": "stream",
     "text": [
      "[[0. 0. 0. ... 0. 0. 0.]\n",
      " [0. 0. 0. ... 0. 0. 0.]\n",
      " [0. 0. 0. ... 0. 0. 0.]\n",
      " [0. 0. 0. ... 0. 0. 0.]\n",
      " [0. 0. 0. ... 0. 0. 0.]]\n",
      "[[0.         0.         0.         ... 0.         0.         0.        ]\n",
      " [0.         0.         0.         ... 0.         0.         0.        ]\n",
      " [0.         0.         0.         ... 0.         0.         0.        ]\n",
      " [0.         0.         0.         ... 0.21960784 0.         0.        ]\n",
      " [0.         0.         0.         ... 0.         0.         0.        ]]\n"
     ]
    }
   ],
   "execution_count": 6
  },
  {
   "metadata": {
    "ExecuteTime": {
     "end_time": "2024-11-30T12:41:51.174416Z",
     "start_time": "2024-11-30T12:41:51.169309Z"
    }
   },
   "cell_type": "code",
   "source": [
    "# one hot encoding for labels\n",
    "\n",
    "y_train = pd.get_dummies(y_train)\n",
    "y_test = pd.get_dummies(y_test)\n",
    "\n",
    "print(y_train.shape)\n",
    "print(y_train[:5])\n"
   ],
   "id": "97de46df7fa7c311",
   "outputs": [
    {
     "name": "stdout",
     "output_type": "stream",
     "text": [
      "(60000, 10)\n",
      "       0      1      2      3      4      5      6      7      8      9\n",
      "0  False  False   True  False  False  False  False  False  False  False\n",
      "1  False  False  False  False  False  False  False  False  False   True\n",
      "2  False  False  False  False  False  False   True  False  False  False\n",
      "3   True  False  False  False  False  False  False  False  False  False\n",
      "4  False  False  False   True  False  False  False  False  False  False\n"
     ]
    }
   ],
   "execution_count": 7
  },
  {
   "metadata": {
    "ExecuteTime": {
     "end_time": "2024-11-30T12:41:51.189152Z",
     "start_time": "2024-11-30T12:41:51.187186Z"
    }
   },
   "cell_type": "code",
   "source": [
    "# for reproducibility\n",
    "np.random.seed(42)\n",
    "\n",
    "# architecture of the neural network\n",
    "input_nodes = X_train.shape[1]     \n",
    "hidden_nodes = 128             \n",
    "output_nodes = 10"
   ],
   "id": "c71c15c75dd284c0",
   "outputs": [],
   "execution_count": 8
  },
  {
   "metadata": {
    "ExecuteTime": {
     "end_time": "2024-11-30T12:41:51.202150Z",
     "start_time": "2024-11-30T12:41:51.200767Z"
    }
   },
   "cell_type": "code",
   "source": [
    "def create_weights(rows, cols):\n",
    "    # generate random numbers from normal distribution\n",
    "    return np.random.randn(rows, cols)"
   ],
   "id": "2a372ab7ed84b56e",
   "outputs": [],
   "execution_count": 9
  },
  {
   "metadata": {
    "ExecuteTime": {
     "end_time": "2024-11-30T12:41:51.218206Z",
     "start_time": "2024-11-30T12:41:51.214374Z"
    }
   },
   "cell_type": "code",
   "source": [
    "w1 = create_weights(input_nodes, hidden_nodes)\n",
    "b1 = np.zeros((w1.shape[0], 1))\n",
    "\n",
    "w2 = create_weights(hidden_nodes, output_nodes)\n",
    "b2 = np.zeros((w2.shape[0], 1))\n",
    "\n",
    "print(w1.shape, b1.shape, w2.shape, b2.shape)"
   ],
   "id": "c611da5a67745c68",
   "outputs": [
    {
     "name": "stdout",
     "output_type": "stream",
     "text": [
      "(784, 128) (784, 1) (128, 10) (128, 1)\n"
     ]
    }
   ],
   "execution_count": 10
  },
  {
   "metadata": {
    "ExecuteTime": {
     "end_time": "2024-11-30T12:41:51.285282Z",
     "start_time": "2024-11-30T12:41:51.282756Z"
    }
   },
   "cell_type": "code",
   "source": [
    "# activation functions and its derivatives\n",
    "def relu(x):\n",
    "    return np.maximum(x, 0)\n",
    "\n",
    "def relu_derivative(x):\n",
    "    if x > 0:\n",
    "        return 1\n",
    "    else:\n",
    "        return 0\n",
    "    \n",
    "def sigmoid(x):\n",
    "    return 1 / (1 + np.exp(-x))\n",
    "\n",
    "def sigmoid_derivative(x):\n",
    "    return x * (1 - x)\n",
    "    \n",
    "def softmax(x):\n",
    "    np.exp(x)/sum(np.exp(x))\n"
   ],
   "id": "2246ea3f1eb50fb8",
   "outputs": [],
   "execution_count": 11
  },
  {
   "metadata": {
    "ExecuteTime": {
     "end_time": "2024-11-30T12:41:36.200266Z",
     "start_time": "2024-11-30T12:41:36.195449Z"
    }
   },
   "cell_type": "code",
   "source": [
    "def forward_prop(X, w1, b1, w2, b2):\n",
    "    z1 = np.dot(X, w1) + b1\n",
    "    a1 = relu(z1)\n",
    "    \n",
    "    z2 = np.dot(a1, w2) + b2\n",
    "    a2 = softmax(z2)\n",
    "    return a2\n",
    "\n",
    "def neg_log_likelihood(y, y_hat):\n",
    "    return -1/len(y) * np.sum(np.sum(y * np.log(y_hat)))"
   ],
   "id": "d9d714fff9ba3bf1",
   "outputs": [],
   "execution_count": 1
  },
  {
   "metadata": {},
   "cell_type": "code",
   "outputs": [],
   "execution_count": null,
   "source": "",
   "id": "9a078cf45c4abbdb"
  }
 ],
 "metadata": {
  "kernelspec": {
   "display_name": "Python 3",
   "language": "python",
   "name": "python3"
  },
  "language_info": {
   "codemirror_mode": {
    "name": "ipython",
    "version": 2
   },
   "file_extension": ".py",
   "mimetype": "text/x-python",
   "name": "python",
   "nbconvert_exporter": "python",
   "pygments_lexer": "ipython2",
   "version": "2.7.6"
  }
 },
 "nbformat": 4,
 "nbformat_minor": 5
}
