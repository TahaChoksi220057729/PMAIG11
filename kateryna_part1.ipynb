{
 "cells": [
  {
   "cell_type": "code",
   "id": "initial_id",
   "metadata": {
    "collapsed": true,
    "ExecuteTime": {
     "end_time": "2024-12-12T18:54:35.414486Z",
     "start_time": "2024-12-12T18:54:33.646501Z"
    }
   },
   "source": [
    "import pandas as pd\n",
    "import matplotlib.pyplot as plt\n",
    "import numpy as np\n",
    "\n",
    "training_set = pd.read_csv('Dataset/fashion_data/fashion-mnist_train.csv')\n",
    "test_set = pd.read_csv('Dataset/fashion_data/fashion-mnist_test.csv')\n",
    "\n",
    "print(training_set.shape)\n",
    "print(test_set.shape)"
   ],
   "outputs": [
    {
     "name": "stdout",
     "output_type": "stream",
     "text": [
      "(60000, 785)\n",
      "(10000, 785)\n"
     ]
    }
   ],
   "execution_count": 143
  },
  {
   "metadata": {
    "ExecuteTime": {
     "end_time": "2024-12-12T18:54:38.085957Z",
     "start_time": "2024-12-12T18:54:38.080160Z"
    }
   },
   "cell_type": "code",
   "source": [
    "# Preprocess Dataset\n",
    "y_train = training_set.iloc[:, 0].to_numpy()\n",
    "X_train = training_set.iloc[:, 1:].to_numpy()\n",
    "y_test = test_set.iloc[:, 0].to_numpy()\n",
    "X_test = test_set.iloc[:, 1:].to_numpy()\n",
    "\n",
    "print(\"X_train shape:\", X_train.shape)\n",
    "print(\"y_train shape:\", y_train.shape)\n",
    "print(\"X_test shape:\", X_test.shape)\n",
    "print(\"y_test shape:\", y_test.shape)"
   ],
   "id": "4f6c3115612e765d",
   "outputs": [
    {
     "name": "stdout",
     "output_type": "stream",
     "text": [
      "X_train shape: (60000, 784)\n",
      "y_train shape: (60000,)\n",
      "X_test shape: (10000, 784)\n",
      "y_test shape: (10000,)\n"
     ]
    }
   ],
   "execution_count": 144
  },
  {
   "metadata": {
    "ExecuteTime": {
     "end_time": "2024-12-12T18:54:39.725249Z",
     "start_time": "2024-12-12T18:54:39.645585Z"
    }
   },
   "cell_type": "code",
   "source": [
    "# Visualize an example image\n",
    "image_array = X_train[0].reshape(28, 28)  # Reshape from 784 to 28x28\n",
    "plt.imshow(image_array, cmap='gray')\n",
    "plt.title(f\"Label: {y_train[0]}\")\n",
    "plt.axis('off')\n",
    "plt.show()"
   ],
   "id": "ad2ea608b29ad321",
   "outputs": [
    {
     "data": {
      "text/plain": [
       "<Figure size 640x480 with 1 Axes>"
      ],
      "image/png": "[encoded data removed]"
     },
     "metadata": {},
     "output_type": "display_data"
    }
   ],
   "execution_count": 145
  },
  {
   "metadata": {
    "ExecuteTime": {
     "end_time": "2024-12-12T18:54:43.216912Z",
     "start_time": "2024-12-12T18:54:42.953947Z"
    }
   },
   "cell_type": "code",
   "source": [
    "# Normalize pixel values\n",
    "X_train = X_train / 255.0\n",
    "X_test = X_test / 255.0\n",
    "# One-hot encode labels\n",
    "y_train = pd.get_dummies(y_train).to_numpy()\n",
    "y_test = pd.get_dummies(y_test).to_numpy()\n",
    "print(\"One-hot encoded y_train shape:\", y_train.shape)"
   ],
   "id": "6cfdfd6e2a4e0bc3",
   "outputs": [
    {
     "name": "stdout",
     "output_type": "stream",
     "text": [
      "One-hot encoded y_train shape: (60000, 10)\n"
     ]
    }
   ],
   "execution_count": 146
  },
  {
   "metadata": {
    "ExecuteTime": {
     "end_time": "2024-12-12T18:54:44.178479Z",
     "start_time": "2024-12-12T18:54:44.173562Z"
    }
   },
   "cell_type": "code",
   "source": [
    "# Activation functions and their derivatives\n",
    "def relu(x):\n",
    "    return np.maximum(0, x)\n",
    "\n",
    "\n",
    "def relu_derivative(x):\n",
    "    return (x > 0).astype(float)\n",
    "\n",
    "\n",
    "def sigmoid(x):\n",
    "    return 1 / (1 + np.exp(-x))\n",
    "\n",
    "\n",
    "def sigmoid_derivative(x):\n",
    "    return x * (1 - x)\n",
    "\n",
    "\n",
    "def softmax(x):\n",
    "    e_x = np.exp(x - np.max(x, axis=1, keepdims=True))\n",
    "    return e_x / np.sum(e_x, axis=1, keepdims=True)\n",
    "\n",
    "def softmax_derivative(a_out, y_true):\n",
    "    return a_out - y_true  # Gradient for softmax combined with cross-entropy"
   ],
   "id": "459b913dbe342237",
   "outputs": [],
   "execution_count": 147
  },
  {
   "metadata": {
    "ExecuteTime": {
     "end_time": "2024-12-12T18:54:45.302368Z",
     "start_time": "2024-12-12T18:54:45.298451Z"
    }
   },
   "cell_type": "code",
   "source": [
    "# Dropout function (Inverted Dropout)\n",
    "def apply_dropout(a, dropout_rate):\n",
    "    mask = (np.random.rand(*a.shape) > dropout_rate).astype(float)\n",
    "    return a * mask / (1 - dropout_rate), mask"
   ],
   "id": "5446cbc3c5ded699",
   "outputs": [],
   "execution_count": 148
  },
  {
   "metadata": {
    "ExecuteTime": {
     "end_time": "2024-12-12T18:54:45.917086Z",
     "start_time": "2024-12-12T18:54:45.913512Z"
    }
   },
   "cell_type": "code",
   "source": [
    "#Loss function\n",
    "def cross_entropy_loss(y_true, y_pred):\n",
    "    m = y_true.shape[0]\n",
    "    return -np.sum(y_true * np.log(y_pred + 1e-9)) / m"
   ],
   "id": "5ff8c2404034696b",
   "outputs": [],
   "execution_count": 149
  },
  {
   "metadata": {
    "ExecuteTime": {
     "end_time": "2024-12-12T18:54:46.461145Z",
     "start_time": "2024-12-12T18:54:46.450531Z"
    }
   },
   "cell_type": "code",
   "source": [
    "class NeuralNetwork:\n",
    "    def __init__(self, layers, activations, dropout_rates=None):\n",
    "        self.layers = layers\n",
    "        self.activations = activations\n",
    "        self.dropout_rates = dropout_rates if dropout_rates else [0] * (len(layers) - 1)\n",
    "        self.weights = []\n",
    "        self.biases = []\n",
    "\n",
    "        # Initialize weights and biases\n",
    "        for i in range(len(layers) - 1):\n",
    "            self.weights.append(np.random.randn(layers[i], layers[i + 1]) * 0.01)\n",
    "            self.biases.append(np.zeros((1, layers[i + 1])))\n",
    "\n",
    "    def activation(self, x, activation_type):\n",
    "        if activation_type == 'relu':\n",
    "            return relu(x)\n",
    "        elif activation_type == 'sigmoid':\n",
    "            return sigmoid(x)\n",
    "        elif activation_type == 'softmax':\n",
    "            return softmax(x)\n",
    "        else:\n",
    "            raise ValueError(\"Unsupported activation function\")\n",
    "\n",
    "    def activation_derivative(self, x, activation_type):\n",
    "        if activation_type == 'relu':\n",
    "            return relu_derivative(x)\n",
    "        elif activation_type == 'sigmoid':\n",
    "            return sigmoid_derivative(x)\n",
    "        else:\n",
    "            raise ValueError(\"Unsupported activation function\")\n",
    "    def forward(self, X):\n",
    "        a = X\n",
    "        cache = {'a0': a}\n",
    "\n",
    "        for i in range(len(self.weights)):\n",
    "            z = np.dot(a, self.weights[i]) + self.biases[i]\n",
    "            a = self.activation(z, self.activations[i])\n",
    "            if self.dropout_rates[i] > 0:\n",
    "                a, mask = apply_dropout(a, self.dropout_rates[i])\n",
    "                cache[f'mask{i}'] = mask\n",
    "            cache[f'z{i + 1}'] = z\n",
    "            cache[f'a{i + 1}'] = a\n",
    "\n",
    "        return a, cache\n",
    "    def backward(self, X, y, cache):\n",
    "        m = y.shape[0]\n",
    "        gradients = {}\n",
    "\n",
    "        # Output layer\n",
    "        a_out = cache[f'a{len(self.weights)}']\n",
    "        dz = a_out - y\n",
    "\n",
    "        for i in reversed(range(len(self.weights))):\n",
    "            gradients[f'dw{i + 1}'] = np.dot(cache[f'a{i}'].T, dz) / m\n",
    "            gradients[f'db{i + 1}'] = np.sum(dz, axis=0, keepdims=True) / m\n",
    "\n",
    "            if i > 0:\n",
    "                da = np.dot(dz, self.weights[i].T)\n",
    "                dz = da * self.activation_derivative(cache[f'z{i}'], self.activations[i - 1])\n",
    "                if self.dropout_rates[i - 1] > 0:\n",
    "                    dz *= cache[f'mask{i - 1}'] / (1 - self.dropout_rates[i - 1])\n",
    "\n",
    "        return gradients\n",
    "\n",
    "    def update_weights(self, gradients, learning_rate):\n",
    "        for i in range(len(self.weights)):\n",
    "            self.weights[i] -= learning_rate * gradients[f'dw{i + 1}']\n",
    "            self.biases[i] -= learning_rate * gradients[f'db{i + 1}']"
   ],
   "id": "970a73fcaa37b03c",
   "outputs": [],
   "execution_count": 150
  },
  {
   "metadata": {
    "ExecuteTime": {
     "end_time": "2024-12-12T18:54:47.526613Z",
     "start_time": "2024-12-12T18:54:47.519494Z"
    }
   },
   "cell_type": "code",
   "source": [
    "# SGD Optimizer\n",
    "def sgd(nn, X, y, epochs, batch_size, learning_rate):\n",
    "    training_losses = []\n",
    "    validation_losses = []\n",
    "\n",
    "    for epoch in range(epochs):\n",
    "        permutation = np.random.permutation(X.shape[0])\n",
    "        X_shuffled = X[permutation]\n",
    "        y_shuffled = y[permutation]\n",
    "\n",
    "        epoch_loss = 0\n",
    "        for i in range(0, X.shape[0], batch_size):\n",
    "            X_batch = X_shuffled[i:i + batch_size]\n",
    "            y_batch = y_shuffled[i:i + batch_size]\n",
    "\n",
    "            # Forward and backward pass\n",
    "            y_pred, cache = nn.forward(X_batch)\n",
    "            gradients = nn.backward(X_batch, y_batch, cache)\n",
    "\n",
    "            # Update weights\n",
    "            nn.update_weights(gradients, learning_rate)\n",
    "\n",
    "            # Calculate batch loss\n",
    "            batch_loss = cross_entropy_loss(y_batch, y_pred)\n",
    "            epoch_loss += batch_loss\n",
    "\n",
    "        # Store average loss for the epoch\n",
    "        training_losses.append(epoch_loss / (X.shape[0] // batch_size))\n",
    "\n",
    "        # Compute validation loss\n",
    "        val_pred, _ = nn.forward(X_test)\n",
    "        val_loss = cross_entropy_loss(y_test, val_pred)\n",
    "        validation_losses.append(val_loss)\n",
    "\n",
    "    return training_losses, validation_losses"
   ],
   "id": "b341fe6f429d0ce9",
   "outputs": [],
   "execution_count": 151
  },
  {
   "metadata": {
    "ExecuteTime": {
     "end_time": "2024-12-12T18:54:48.435951Z",
     "start_time": "2024-12-12T18:54:48.426250Z"
    }
   },
   "cell_type": "code",
   "source": [
    "# SGD with Momentum\n",
    "def sgd_with_momentum_early_stopping(nn, X, y, epochs, batch_size, learning_rate, momentum=0.9, patience=10):\n",
    "    velocity_w = [np.zeros_like(w) for w in nn.weights]\n",
    "    velocity_b = [np.zeros_like(b) for b in nn.biases]\n",
    "    training_losses = []\n",
    "    validation_losses = []\n",
    "    best_val_loss = float('inf')\n",
    "    patience_counter = 0\n",
    "\n",
    "    for epoch in range(epochs):\n",
    "        permutation = np.random.permutation(X.shape[0])\n",
    "        X_shuffled = X[permutation]\n",
    "        y_shuffled = y[permutation]\n",
    "\n",
    "        epoch_loss = 0\n",
    "        for i in range(0, X.shape[0], batch_size):\n",
    "            X_batch = X_shuffled[i:i + batch_size]\n",
    "            y_batch = y_shuffled[i:i + batch_size]\n",
    "\n",
    "            # Forward and backward pass\n",
    "            y_pred, cache = nn.forward(X_batch)\n",
    "            gradients = nn.backward(X_batch, y_batch, cache)\n",
    "\n",
    "            for j in range(len(nn.weights)):\n",
    "                velocity_w[j] = momentum * velocity_w[j] - learning_rate * gradients[f'dw{j + 1}']\n",
    "                velocity_b[j] = momentum * velocity_b[j] - learning_rate * gradients[f'db{j + 1}']\n",
    "                nn.weights[j] += velocity_w[j]\n",
    "                nn.biases[j] += velocity_b[j]\n",
    "\n",
    "            # Calculate batch loss\n",
    "            batch_loss = cross_entropy_loss(y_batch, y_pred)\n",
    "            epoch_loss += batch_loss\n",
    "\n",
    "        # Store average loss for the epoch\n",
    "        training_losses.append(epoch_loss / (X.shape[0] // batch_size))\n",
    "\n",
    "        # Compute validation loss\n",
    "        val_pred, _ = nn.forward(X_test)\n",
    "        val_loss = cross_entropy_loss(y_test, val_pred)\n",
    "        validation_losses.append(val_loss)\n",
    "        # Early Stopping Check\n",
    "        if val_loss < best_val_loss:\n",
    "            best_val_loss = val_loss\n",
    "            patience_counter = 0\n",
    "        else:\n",
    "            patience_counter += 1\n",
    "            if patience_counter >= patience:\n",
    "                print(f\"Early stopping triggered at epoch {epoch + 1}\")\n",
    "                break\n",
    "\n",
    "    return training_losses, validation_losses\n"
   ],
   "id": "e7e29309d2ce5510",
   "outputs": [],
   "execution_count": 152
  },
  {
   "metadata": {
    "ExecuteTime": {
     "end_time": "2024-12-12T18:54:49.329373Z",
     "start_time": "2024-12-12T18:54:49.305922Z"
    }
   },
   "cell_type": "code",
   "source": [
    "# Define the architecture and activation functions\n",
    "layers = [X_train.shape[1], 600, 300, 100, 50, 10]\n",
    "activations = ['relu', 'relu', 'relu', 'relu', 'softmax']\n",
    "dropout_rates = [0.2, 0.2, 0.2, 0, 0]  # Optional dropout\n",
    "nn = NeuralNetwork(layers, activations, dropout_rates)"
   ],
   "id": "2bb20581ce9631db",
   "outputs": [],
   "execution_count": 153
  },
  {
   "metadata": {
    "ExecuteTime": {
     "end_time": "2024-12-12T18:54:50.811273Z",
     "start_time": "2024-12-12T18:54:50.808853Z"
    }
   },
   "cell_type": "code",
   "source": [
    "# Train the model using SGD\n",
    "#sgd(nn, X_train, y_train, epochs=10, batch_size=64, learning_rate=0.01)"
   ],
   "id": "bf7bd1b9e9877b8",
   "outputs": [],
   "execution_count": 154
  },
  {
   "metadata": {
    "ExecuteTime": {
     "end_time": "2024-12-12T19:02:42.710740Z",
     "start_time": "2024-12-12T18:59:52.248784Z"
    }
   },
   "cell_type": "code",
   "source": [
    "# Train the model using SGD with Momentum and Early Stopping\n",
    "training_losses, validation_losses = sgd_with_momentum_early_stopping(nn, X_train, y_train, epochs=100, batch_size=64, learning_rate=0.01, momentum=0.9, patience=10)\n"
   ],
   "id": "ea8b419555d1c2d5",
   "outputs": [
    {
     "name": "stdout",
     "output_type": "stream",
     "text": [
      "Early stopping triggered at epoch 32\n"
     ]
    }
   ],
   "execution_count": 156
  },
  {
   "metadata": {
    "ExecuteTime": {
     "end_time": "2024-12-12T19:03:05.258558Z",
     "start_time": "2024-12-12T19:03:05.170554Z"
    }
   },
   "cell_type": "code",
   "source": [
    "# Plot Training and Validation Loss\n",
    "plt.plot(range(1, len(training_losses) + 1), training_losses, label=\"Training Loss\")\n",
    "plt.plot(range(1, len(validation_losses) + 1), validation_losses, label=\"Validation Loss\")\n",
    "plt.title(\"Training and Validation Loss Over Epochs\")\n",
    "plt.xlabel(\"Epochs\")\n",
    "plt.ylabel(\"Loss\")\n",
    "plt.legend()\n",
    "plt.show()"
   ],
   "id": "48da769717f61f5e",
   "outputs": [
    {
     "data": {
      "text/plain": [
       "<Figure size 640x480 with 1 Axes>"
      ],
      "image/png": "[encoded data removed]"
     },
     "metadata": {},
     "output_type": "display_data"
    }
   ],
   "execution_count": 157
  },
  {
   "metadata": {
    "ExecuteTime": {
     "end_time": "2024-12-12T19:03:14.443402Z",
     "start_time": "2024-12-12T19:03:14.251285Z"
    }
   },
   "cell_type": "code",
   "source": [
    "# Evaluate performance on test set\n",
    "y_pred, _ = nn.forward(X_test)\n",
    "accuracy = np.mean(np.argmax(y_pred, axis=1) == np.argmax(y_test, axis=1))\n",
    "print(\"Test Accuracy:\", accuracy)\n"
   ],
   "id": "92e25a9c3d028eb9",
   "outputs": [
    {
     "name": "stdout",
     "output_type": "stream",
     "text": [
      "Test Accuracy: 0.8893\n"
     ]
    }
   ],
   "execution_count": 158
  },
  {
   "metadata": {},
   "cell_type": "code",
   "outputs": [],
   "execution_count": null,
   "source": "",
   "id": "2c4cefea6103fc12"
  }
 ],
 "metadata": {
  "kernelspec": {
   "display_name": "Python 3",
   "language": "python",
   "name": "python3"
  },
  "language_info": {
   "codemirror_mode": {
    "name": "ipython",
    "version": 2
   },
   "file_extension": ".py",
   "mimetype": "text/x-python",
   "name": "python",
   "nbconvert_exporter": "python",
   "pygments_lexer": "ipython2",
   "version": "2.7.6"
  }
 },
 "nbformat": 4,
 "nbformat_minor": 5
}
