{
 "cells": [
  {
   "metadata": {},
   "cell_type": "markdown",
   "source": "## Task 2",
   "id": "31761c6b44403184"
  },
  {
   "metadata": {},
   "cell_type": "markdown",
   "source": "### Import modules and path",
   "id": "35d1e7e653f73e70"
  },
  {
   "cell_type": "code",
   "id": "initial_id",
   "metadata": {
    "collapsed": true,
    "ExecuteTime": {
     "end_time": "2024-12-29T15:58:11.896505Z",
     "start_time": "2024-12-29T15:58:10.120927Z"
    }
   },
   "source": [
    "import matplotlib.pyplot as plt\n",
    "import os\n",
    "import numpy as np\n",
    "\n",
    "import torch\n",
    "from torch import nn\n",
    "from torch.utils.data import DataLoader, random_split\n",
    "from torchvision import datasets, transforms\n",
    "import torch.nn.functional as F\n",
    "\n",
    "base_path = \"./../Dataset/cifake\"\n",
    "train_path = os.path.join(base_path, \"train\")"
   ],
   "outputs": [],
   "execution_count": 1
  },
  {
   "metadata": {},
   "cell_type": "markdown",
   "source": [
    "### Loading datasets using ImageFolder and DataLoaders\n",
    "\n",
    "transform: convert pixel values to tensors and normalising it to range [0, 1].\n",
    "There are 100,000 images for training (50k per class), we extract 20% of these as validation class."
   ],
   "id": "5be31ddd2f4a1ecb"
  },
  {
   "metadata": {
    "ExecuteTime": {
     "end_time": "2024-12-29T15:58:11.932220Z",
     "start_time": "2024-12-29T15:58:11.901943Z"
    }
   },
   "cell_type": "code",
   "source": [
    "device = (\n",
    "    torch.device(\"mps\") if torch.backends.mps.is_available() else \n",
    "    torch.device(\"cuda\") if torch.cuda.is_available() else \n",
    "    torch.device(\"cpu\")\n",
    ")\n",
    "\n",
    "print(f\"device: {device}\")"
   ],
   "id": "e1fedc9faa6841a0",
   "outputs": [
    {
     "name": "stdout",
     "output_type": "stream",
     "text": [
      "device: mps\n"
     ]
    }
   ],
   "execution_count": 2
  },
  {
   "metadata": {
    "ExecuteTime": {
     "end_time": "2024-12-29T15:58:12.406018Z",
     "start_time": "2024-12-29T15:58:12.034211Z"
    }
   },
   "cell_type": "code",
   "source": [
    "# convert to tensors and normalise pixel values to [0, 1]\n",
    "transform = transforms.Compose([\n",
    "    transforms.RandomHorizontalFlip(p=0.5),\n",
    "    transforms.RandomRotation(degrees=10),\n",
    "    transforms.RandomCrop(size=32, padding=4),\n",
    "    transforms.ToTensor(),\n",
    "    transforms.Normalize(mean=[0.0, 0.0, 0.0], std=[1.0, 1.0, 1.0])\n",
    "])\n",
    "\n",
    "train_dataset = datasets.ImageFolder(root=train_path, transform=transform)"
   ],
   "id": "5544d1c8e74bb37b",
   "outputs": [],
   "execution_count": 3
  },
  {
   "metadata": {},
   "cell_type": "markdown",
   "source": "Splitting validation set",
   "id": "63b80cef33d471a5"
  },
  {
   "metadata": {
    "ExecuteTime": {
     "end_time": "2024-12-29T15:58:12.416181Z",
     "start_time": "2024-12-29T15:58:12.410801Z"
    }
   },
   "cell_type": "code",
   "source": [
    "val_ratio = 0.2\n",
    "val_size = int(val_ratio * len(train_dataset))\n",
    "train_size = len(train_dataset) - val_size\n",
    "train_dataset, val_dataset = random_split(train_dataset, [train_size, val_size])\n",
    "print(f\"Validation Dataset Shape: {val_dataset.__len__()}\")\n",
    "print(f\"Training Dataset Shape: {train_dataset.__len__()}\")"
   ],
   "id": "f610a7b53c52fd38",
   "outputs": [
    {
     "name": "stdout",
     "output_type": "stream",
     "text": [
      "Validation Dataset Shape: 20000\n",
      "Training Dataset Shape: 80000\n"
     ]
    }
   ],
   "execution_count": 4
  },
  {
   "metadata": {
    "ExecuteTime": {
     "end_time": "2024-12-29T15:58:38.093565Z",
     "start_time": "2024-12-29T15:58:12.436461Z"
    }
   },
   "cell_type": "code",
   "source": [
    "batch_size = 32\n",
    "\n",
    "train_loader = DataLoader(train_dataset, batch_size=batch_size, shuffle=True, num_workers=4)\n",
    "val_loader = DataLoader(val_dataset, batch_size=batch_size, shuffle=True, num_workers=4)\n",
    "\n",
    "images, labels = next(iter(train_loader))\n",
    "print(f\"Batch image shape: {images.shape}\")  # (batch, channel, height, width)\n",
    "print(f\"Batch label shape: {labels.shape}\")  # (batch,)\n",
    "print(f\"Labels: {labels}\")"
   ],
   "id": "7890ec6711427dc5",
   "outputs": [
    {
     "name": "stdout",
     "output_type": "stream",
     "text": [
      "Batch image shape: torch.Size([32, 3, 32, 32])\n",
      "Batch label shape: torch.Size([32])\n",
      "Labels: tensor([0, 1, 0, 0, 0, 0, 1, 0, 0, 1, 0, 1, 0, 1, 0, 0, 0, 0, 1, 0, 0, 0, 0, 0,\n",
      "        0, 1, 0, 1, 0, 0, 0, 1])\n"
     ]
    }
   ],
   "execution_count": 5
  },
  {
   "metadata": {},
   "cell_type": "markdown",
   "source": [
    "### Real CIFAR-10 vs. Computer Generated CIFAR-10\n",
    "Top row shows the real images whilst bottom row shows the fake images"
   ],
   "id": "ccf3342315193a9e"
  },
  {
   "metadata": {
    "ExecuteTime": {
     "end_time": "2024-12-29T15:58:38.162065Z",
     "start_time": "2024-12-29T15:58:38.157623Z"
    }
   },
   "cell_type": "code",
   "source": [
    "def show_real_vs_fake_images(data_loader, class_names):\n",
    "    real_images = []\n",
    "    fake_images = []\n",
    "\n",
    "    for features, labels in data_loader:\n",
    "        features, labels = features.to(device), labels.to(device)\n",
    "        for i in range(len(labels)):\n",
    "            if len(real_images) < 2 and labels[i].item() == 1:  # real images\n",
    "                real_images.append(features[i])\n",
    "            elif len(fake_images) < 2 and labels[i].item() == 0:  # fake images\n",
    "                fake_images.append(features[i])\n",
    "            if len(real_images) == 2 and len(fake_images) == 2:\n",
    "                break\n",
    "        if len(real_images) == 2 and len(fake_images) == 2:\n",
    "            break\n",
    "\n",
    "    fig, axes = plt.subplots(2, 2, figsize=(12, 6))\n",
    "    fig.suptitle(\"Top Row: Real CIFAR-10 | Bottom Row: AI-Generated\", fontsize=14)\n",
    "\n",
    "    for i, img in enumerate(real_images):\n",
    "        img = img.permute(1, 2, 0)  # convert (C, H, W) to (H, W, C)\n",
    "        img = img.cpu().numpy()\n",
    "        axes[0, i].imshow(img)\n",
    "        axes[0, i].set_title(f\"Label: {class_names[1]}\")\n",
    "        axes[0, i].axis(\"off\")\n",
    "\n",
    "    for i, img in enumerate(fake_images):\n",
    "        img = img.permute(1, 2, 0)\n",
    "        img = img.cpu().numpy()\n",
    "        axes[1, i].imshow(img)\n",
    "        axes[1, i].set_title(f\"Label: {class_names[0]}\")\n",
    "        axes[1, i].axis(\"off\")\n",
    "\n",
    "    plt.tight_layout(rect=[0, 0, 1, 0.95])\n",
    "    plt.show()"
   ],
   "id": "ca4341fb9a2b79ae",
   "outputs": [],
   "execution_count": 6
  },
  {
   "metadata": {
    "ExecuteTime": {
     "end_time": "2024-12-29T16:01:38.116252Z",
     "start_time": "2024-12-29T16:01:17.066418Z"
    }
   },
   "cell_type": "code",
   "source": [
    "class_names = [\"FAKE (0)\", \"REAL (1)\"]\n",
    "show_real_vs_fake_images(train_loader, class_names)"
   ],
   "id": "9804c2dabd8cb770",
   "outputs": [
    {
     "name": "stdout",
     "output_type": "stream",
     "text": [
      "Unexpected exception formatting exception. Falling back to standard exception\n"
     ]
    },
    {
     "name": "stderr",
     "output_type": "stream",
     "text": [
      "Traceback (most recent call last):\n",
      "  File \"/Library/Frameworks/Python.framework/Versions/3.11/lib/python3.11/site-packages/IPython/core/interactiveshell.py\", line 3550, in run_code\n",
      "    exec(code_obj, self.user_global_ns, self.user_ns)\n",
      "  File \"/var/folders/qp/bxzl_3617sn9cpjhhk8myhbc0000gn/T/ipykernel_19342/4102895620.py\", line 2, in <module>\n",
      "    show_real_vs_fake_images(train_loader, class_names)\n",
      "  File \"/var/folders/qp/bxzl_3617sn9cpjhhk8myhbc0000gn/T/ipykernel_19342/2991602483.py\", line 17, in show_real_vs_fake_images\n",
      "    fig, axes = plt.subplots(2, 2, figsize=(12, 6))\n",
      "                ^^^^^^^^^^^^^^^^^^^^^^^^^^^^^^^^^^^\n",
      "  File \"/Library/Frameworks/Python.framework/Versions/3.11/lib/python3.11/site-packages/matplotlib/pyplot.py\", line 1759, in subplots\n",
      "    plt.subplots(2, 2, sharex='col')\n",
      "      ^^^^^^^^^^^^^^^^\n",
      "  File \"/Library/Frameworks/Python.framework/Versions/3.11/lib/python3.11/site-packages/matplotlib/pyplot.py\", line 1027, in figure\n",
      "  File \"/Library/Frameworks/Python.framework/Versions/3.11/lib/python3.11/site-packages/matplotlib/pyplot.py\", line 549, in new_figure_manager\n",
      "    def new_figure_manager(*args, **kwargs):\n",
      "        ^^^^^^^^^^^^^^^^^^^^^^^^^^^^^^^^^\n",
      "  File \"/Library/Frameworks/Python.framework/Versions/3.11/lib/python3.11/site-packages/matplotlib/pyplot.py\", line 526, in _warn_if_gui_out_of_main_thread\n",
      "    def _warn_if_gui_out_of_main_thread() -> None:\n",
      "                                                   \n",
      "  File \"/Library/Frameworks/Python.framework/Versions/3.11/lib/python3.11/site-packages/matplotlib/pyplot.py\", line 358, in _get_backend_mod\n",
      "  File \"/Library/Frameworks/Python.framework/Versions/3.11/lib/python3.11/site-packages/matplotlib/pyplot.py\", line 415, in switch_backend\n",
      "    rcParamsOrig['backend'] = candidate\n",
      "  File \"/Library/Frameworks/Python.framework/Versions/3.11/lib/python3.11/site-packages/matplotlib/backends/registry.py\", line 323, in load_backend_module\n",
      "    If the GUI framework is not yet known then it will be determined by loading the\n",
      "           ^^^^^^^^^^^^^^^^^^^^^^^^^^^^^^^^^^^^\n",
      "  File \"/Library/Frameworks/Python.framework/Versions/3.11/lib/python3.11/importlib/__init__.py\", line 126, in import_module\n",
      "    return _bootstrap._gcd_import(name[level:], package, level)\n",
      "           ^^^^^^^^^^^^^^^^^^^^^^^^^^^^^^^^^^^^^^^^^^^^^^^^^^^^\n",
      "  File \"<frozen importlib._bootstrap>\", line 1204, in _gcd_import\n",
      "  File \"<frozen importlib._bootstrap>\", line 1176, in _find_and_load\n",
      "  File \"<frozen importlib._bootstrap>\", line 1126, in _find_and_load_unlocked\n",
      "  File \"<frozen importlib._bootstrap>\", line 241, in _call_with_frames_removed\n",
      "  File \"<frozen importlib._bootstrap>\", line 1204, in _gcd_import\n",
      "  File \"<frozen importlib._bootstrap>\", line 1176, in _find_and_load\n",
      "  File \"<frozen importlib._bootstrap>\", line 1147, in _find_and_load_unlocked\n",
      "  File \"<frozen importlib._bootstrap>\", line 690, in _load_unlocked\n",
      "  File \"<frozen importlib._bootstrap_external>\", line 940, in exec_module\n",
      "  File \"<frozen importlib._bootstrap>\", line 241, in _call_with_frames_removed\n",
      "  File \"/Library/Frameworks/Python.framework/Versions/3.11/lib/python3.11/site-packages/matplotlib_inline/__init__.py\", line 1, in <module>\n",
      "    from . import backend_inline, config  # noqa\n",
      "    ^^^^^^^^^^^^^^^^^^^^^^^^^^^^^^^^^^^^\n",
      "  File \"/Library/Frameworks/Python.framework/Versions/3.11/lib/python3.11/site-packages/matplotlib_inline/backend_inline.py\", line 8, in <module>\n",
      "    from matplotlib.backends import backend_agg\n",
      "  File \"/Library/Frameworks/Python.framework/Versions/3.11/lib/python3.11/site-packages/matplotlib/backends/backend_agg.py\", line 34, in <module>\n",
      "    from matplotlib.ft2font import LoadFlags\n",
      "ImportError: cannot import name 'LoadFlags' from 'matplotlib.ft2font' (/Library/Frameworks/Python.framework/Versions/3.11/lib/python3.11/site-packages/matplotlib/ft2font.cpython-311-darwin.so)\n",
      "\n",
      "During handling of the above exception, another exception occurred:\n",
      "\n",
      "Traceback (most recent call last):\n",
      "  File \"/Library/Frameworks/Python.framework/Versions/3.11/lib/python3.11/site-packages/IPython/core/interactiveshell.py\", line 2144, in showtraceback\n",
      "    stb = self.InteractiveTB.structured_traceback(\n",
      "          ^^^^^^^^^^^^^^^^^^^^^^^^^^^^^^^^^^^^^^^^\n",
      "  File \"/Library/Frameworks/Python.framework/Versions/3.11/lib/python3.11/site-packages/IPython/core/ultratb.py\", line 1435, in structured_traceback\n",
      "    return FormattedTB.structured_traceback(\n",
      "           ^^^^^^^^^^^^^^^^^^^^^^^^^^^^^^^^^\n",
      "  File \"/Library/Frameworks/Python.framework/Versions/3.11/lib/python3.11/site-packages/IPython/core/ultratb.py\", line 1326, in structured_traceback\n",
      "    return VerboseTB.structured_traceback(\n",
      "           ^^^^^^^^^^^^^^^^^^^^^^^^^^^^^^^\n",
      "  File \"/Library/Frameworks/Python.framework/Versions/3.11/lib/python3.11/site-packages/IPython/core/ultratb.py\", line 1173, in structured_traceback\n",
      "    formatted_exception = self.format_exception_as_a_whole(etype, evalue, etb, number_of_lines_of_context,\n",
      "                          ^^^^^^^^^^^^^^^^^^^^^^^^^^^^^^^^^^^^^^^^^^^^^^^^^^^^^^^^^^^^^^^^^^^^^^^^^^^^^^^^\n",
      "  File \"/Library/Frameworks/Python.framework/Versions/3.11/lib/python3.11/site-packages/IPython/core/ultratb.py\", line 1088, in format_exception_as_a_whole\n",
      "    frames.append(self.format_record(record))\n",
      "                  ^^^^^^^^^^^^^^^^^^^^^^^^^^\n",
      "  File \"/Library/Frameworks/Python.framework/Versions/3.11/lib/python3.11/site-packages/IPython/core/ultratb.py\", line 970, in format_record\n",
      "    frame_info.lines, Colors, self.has_colors, lvals\n",
      "    ^^^^^^^^^^^^^^^^\n",
      "  File \"/Library/Frameworks/Python.framework/Versions/3.11/lib/python3.11/site-packages/IPython/core/ultratb.py\", line 792, in lines\n",
      "    return self._sd.lines\n",
      "           ^^^^^^^^^^^^^^\n",
      "  File \"/Library/Frameworks/Python.framework/Versions/3.11/lib/python3.11/site-packages/stack_data/utils.py\", line 145, in cached_property_wrapper\n",
      "    value = obj.__dict__[self.func.__name__] = self.func(obj)\n",
      "                                               ^^^^^^^^^^^^^^\n",
      "  File \"/Library/Frameworks/Python.framework/Versions/3.11/lib/python3.11/site-packages/stack_data/core.py\", line 734, in lines\n",
      "    pieces = self.included_pieces\n",
      "             ^^^^^^^^^^^^^^^^^^^^\n",
      "  File \"/Library/Frameworks/Python.framework/Versions/3.11/lib/python3.11/site-packages/stack_data/utils.py\", line 145, in cached_property_wrapper\n",
      "    value = obj.__dict__[self.func.__name__] = self.func(obj)\n",
      "                                               ^^^^^^^^^^^^^^\n",
      "  File \"/Library/Frameworks/Python.framework/Versions/3.11/lib/python3.11/site-packages/stack_data/core.py\", line 681, in included_pieces\n",
      "    pos = scope_pieces.index(self.executing_piece)\n",
      "                             ^^^^^^^^^^^^^^^^^^^^\n",
      "  File \"/Library/Frameworks/Python.framework/Versions/3.11/lib/python3.11/site-packages/stack_data/utils.py\", line 145, in cached_property_wrapper\n",
      "    value = obj.__dict__[self.func.__name__] = self.func(obj)\n",
      "                                               ^^^^^^^^^^^^^^\n",
      "  File \"/Library/Frameworks/Python.framework/Versions/3.11/lib/python3.11/site-packages/stack_data/core.py\", line 660, in executing_piece\n",
      "    return only(\n",
      "           ^^^^^\n",
      "  File \"/Library/Frameworks/Python.framework/Versions/3.11/lib/python3.11/site-packages/executing/executing.py\", line 116, in only\n",
      "    raise NotOneValueFound('Expected one value, found 0')\n",
      "executing.executing.NotOneValueFound: Expected one value, found 0\n"
     ]
    }
   ],
   "execution_count": 8
  },
  {
   "metadata": {},
   "cell_type": "markdown",
   "source": [
    "### Creating our CNN model\n",
    "\n",
    "We're creating a model... \n",
    "\n",
    "For the last layer, we don't have to pass the output of fc2 into Sigmoid because the BCEWithLogitsLoss automatically passes incoming values through Sigmoid before calculating loss."
   ],
   "id": "642645709df7be86"
  },
  {
   "metadata": {
    "ExecuteTime": {
     "end_time": "2024-12-29T15:58:55.625241Z",
     "start_time": "2024-12-28T17:21:34.042797Z"
    }
   },
   "cell_type": "code",
   "source": [
    "class CNNModel(nn.Module):\n",
    "    def __init__(self):\n",
    "        super().__init__()\n",
    "\n",
    "        self.conv1 = nn.Conv2d(in_channels=3, out_channels=15, kernel_size=3, stride=1,\n",
    "                               padding=1)  # Input: (3, 32, 32) Output: (15, 32, 32)\n",
    "        self.conv2 = nn.Conv2d(in_channels=15, out_channels=8, kernel_size=3, stride=1,\n",
    "                               padding=1)  # Input: (32, 32, 32) Output: (8, 32, 32)\n",
    "\n",
    "        self.pool = nn.MaxPool2d(kernel_size=2, stride=2)  # dimension / 2\n",
    "\n",
    "        self.fc1 = nn.Linear(in_features=8 * 8 * 8, out_features=128)  # flatten output from pool\n",
    "        self.fc2 = nn.Linear(in_features=128, out_features=1)\n",
    "\n",
    "        self.dropout = nn.Dropout(p=0.3)\n",
    "\n",
    "    def forward(self, x):\n",
    "        x = self.pool(F.relu(self.conv1(x)))  # Output: (15, 16, 16)\n",
    "        x = self.pool(F.relu(self.conv2(x)))  # Output: (8, 8, 8)\n",
    "\n",
    "        x = x.view(-1, 8 * 8 * 8)  # flatten to (batch_size, 8 * 8 * 8)\n",
    "\n",
    "        x = self.fc1(x)\n",
    "        x = F.relu(x)\n",
    "        x = self.dropout(x)\n",
    "        x = self.fc2(x) # no need for activation, BCELossWithLogits combines sigmoid\n",
    "\n",
    "        return x"
   ],
   "id": "26aca836eda216d",
   "outputs": [],
   "execution_count": 116
  },
  {
   "metadata": {
    "ExecuteTime": {
     "end_time": "2024-12-29T15:58:55.625523Z",
     "start_time": "2024-12-28T17:21:34.094677Z"
    }
   },
   "cell_type": "code",
   "source": [
    "from torchsummary import summary\n",
    "\n",
    "model = CNNModel()\n",
    "summary(model, input_size=(3, 32, 32))"
   ],
   "id": "b1fcc7e77f0c3c00",
   "outputs": [
    {
     "name": "stdout",
     "output_type": "stream",
     "text": [
      "----------------------------------------------------------------\n",
      "        Layer (type)               Output Shape         Param #\n",
      "================================================================\n",
      "            Conv2d-1           [-1, 15, 32, 32]             420\n",
      "         MaxPool2d-2           [-1, 15, 16, 16]               0\n",
      "            Conv2d-3            [-1, 8, 16, 16]           1,088\n",
      "         MaxPool2d-4              [-1, 8, 8, 8]               0\n",
      "            Linear-5                  [-1, 128]          65,664\n",
      "           Dropout-6                  [-1, 128]               0\n",
      "            Linear-7                    [-1, 1]             129\n",
      "================================================================\n",
      "Total params: 67,301\n",
      "Trainable params: 67,301\n",
      "Non-trainable params: 0\n",
      "----------------------------------------------------------------\n",
      "Input size (MB): 0.01\n",
      "Forward/backward pass size (MB): 0.17\n",
      "Params size (MB): 0.26\n",
      "Estimated Total Size (MB): 0.44\n",
      "----------------------------------------------------------------\n"
     ]
    }
   ],
   "execution_count": 117
  },
  {
   "metadata": {},
   "cell_type": "markdown",
   "source": [
    "### Hyperparameters\n",
    "\n",
    "Set epochs, learning rate scheduler, L1 & L2 regulariser and optimiser."
   ],
   "id": "c42d4b9b5e10b5d6"
  },
  {
   "metadata": {
    "ExecuteTime": {
     "end_time": "2024-12-29T15:58:55.625623Z",
     "start_time": "2024-12-28T17:21:34.130058Z"
    }
   },
   "cell_type": "code",
   "source": [
    "model.to(device)\n",
    "epochs = 20\n",
    "lambda_L1 = 0\n",
    "lambda_L2 = 1e-3\n",
    "loss_fn = nn.BCEWithLogitsLoss()\n",
    "optimizer = torch.optim.adam(model.parameters(), lr=1e-3)\n",
    "scheduler = torch.optim.lr_scheduler.StepLR(optimizer, step_size=5, gamma=0.5) #learning rate"
   ],
   "id": "f45a5c08311cd8b5",
   "outputs": [],
   "execution_count": 118
  },
  {
   "metadata": {},
   "cell_type": "markdown",
   "source": [
    "### A full process of training one single batch.\n",
    "First we set model to train mode, this will enable dropout. Move data to device to speed up training. After getting the output from forwarding through model, calculate L1 or L2 regularization before calculating loss for single batch.\n",
    "\n",
    "Compute gradients and update the weights for each parameters. Clear gradients, then return the scalar value of loss.  "
   ],
   "id": "5cb20adb99064259"
  },
  {
   "metadata": {
    "ExecuteTime": {
     "end_time": "2024-12-29T15:58:55.625701Z",
     "start_time": "2024-12-28T17:21:34.147964Z"
    }
   },
   "cell_type": "code",
   "source": [
    "def batch_train(inputs, labels):\n",
    "    model.train()\n",
    "    inputs, labels = inputs.to(device), labels.to(device)\n",
    "\n",
    "    # Forward pass, receive raw outputs\n",
    "    outputs = model(inputs)\n",
    "\n",
    "    # Required by the loss function, turn shape from [batch_size] to [batch_size, 1]\n",
    "    labels = labels.unsqueeze(1).float()\n",
    "\n",
    "    # L1 penalty\n",
    "    l1_regularization = 0\n",
    "    if lambda_L1 > 0.0:\n",
    "        for param in model.parameters():\n",
    "            l1_regularization += torch.norm(param,1)\n",
    "        \n",
    "    # L2 euclidean penalty\n",
    "    l2_regularization = 0\n",
    "    if lambda_L2 > 0.0:\n",
    "        for param in model.parameters():\n",
    "            l2_regularization += torch.norm(param,2)\n",
    "    \n",
    "    batch_loss = loss_fn(outputs, labels) + lambda_L1 * l1_regularization + lambda_L2 * l2_regularization\n",
    "\n",
    "    # computes the gradients of the loss using backpropagation\n",
    "    batch_loss.backward()\n",
    "    # updates the model parameters\n",
    "    optimizer.step()\n",
    "    # avoid gradient accumulation across batches\n",
    "    optimizer.zero_grad()\n",
    "    \n",
    "    return batch_loss.item()"
   ],
   "id": "f3ec7992a85db4f9",
   "outputs": [],
   "execution_count": 119
  },
  {
   "metadata": {},
   "cell_type": "markdown",
   "source": [
    "### Implements Early Stopping\n",
    "Stops training if val_loss is not improving or val_loss is no longer smaller than training_loss"
   ],
   "id": "916ba9fd69f8802b"
  },
  {
   "metadata": {
    "ExecuteTime": {
     "end_time": "2024-12-29T15:58:55.625811Z",
     "start_time": "2024-12-28T17:21:34.161312Z"
    }
   },
   "cell_type": "code",
   "source": [
    "class EarlyStopping:\n",
    "    def __init__(self, patience=5, delta=0.02):\n",
    "        self.patience = patience\n",
    "        self.delta = delta\n",
    "        self.counter = 0\n",
    "        self.early_stop = False\n",
    "        self.best_loss = None\n",
    "\n",
    "    def __call__(self, val_loss, training_loss):\n",
    "        if val_loss > training_loss:\n",
    "            self.early_stop = True\n",
    "            print(f\"Val_loss no longer higher than training loss\")\n",
    "        elif self.best_loss is None:\n",
    "            self.best_loss = val_loss\n",
    "        elif val_loss > self.best_loss - self.delta:\n",
    "            self.counter += 1\n",
    "            if self.counter >= self.patience:\n",
    "                self.early_stop = True\n",
    "                print(\"Val_loss no longer improving\")\n",
    "        else:\n",
    "            self.best_loss = val_loss\n",
    "            self.counter = 0"
   ],
   "id": "7330066d640c736f",
   "outputs": [],
   "execution_count": 120
  },
  {
   "metadata": {},
   "cell_type": "markdown",
   "source": "calculates validation loss for a batch",
   "id": "5daefb7a4afc413b"
  },
  {
   "metadata": {
    "ExecuteTime": {
     "end_time": "2024-12-29T15:58:55.625883Z",
     "start_time": "2024-12-28T17:21:34.174385Z"
    }
   },
   "cell_type": "code",
   "source": [
    "@torch.no_grad()\n",
    "def batch_val(inputs, labels):\n",
    "    model.eval()\n",
    "    inputs, labels = inputs.to(device), labels.to(device)\n",
    "    \n",
    "    outputs = model(inputs)\n",
    "    labels = labels.unsqueeze(1).float()\n",
    "    val_loss = loss_fn(outputs, labels)\n",
    "    return val_loss.item()"
   ],
   "id": "3f58b3e26c523553",
   "outputs": [],
   "execution_count": 121
  },
  {
   "metadata": {},
   "cell_type": "markdown",
   "source": [
    "### Train model\n",
    "Looping through train_loader and val_loader and calculate loss"
   ],
   "id": "a1f66a8f9cab8bc0"
  },
  {
   "metadata": {
    "ExecuteTime": {
     "end_time": "2024-12-29T15:58:55.625948Z",
     "start_time": "2024-12-28T17:21:34.186635Z"
    }
   },
   "cell_type": "code",
   "source": [
    "def train_model():\n",
    "    early_stopping = EarlyStopping(patience=5, delta=0.02)\n",
    "    final_epoch = 0\n",
    "    \n",
    "    loss_hist = []\n",
    "    val_loss_hist = []\n",
    "\n",
    "    for epoch in range(epochs):\n",
    "        batch_losses = []\n",
    "        batch_val_losses = []\n",
    "        \n",
    "        for i, data in enumerate(iter(train_loader)):\n",
    "            inputs, labels = data\n",
    "            batch_loss = batch_train(inputs, labels)\n",
    "            batch_losses.append(batch_loss) # track loss for every batch\n",
    "            \n",
    "        for i, data in enumerate(iter(val_loader)):\n",
    "            inputs, labels = data\n",
    "            val_loss = batch_val(inputs, labels)\n",
    "            batch_val_losses.append(val_loss)\n",
    "\n",
    "        one_epoch_loss = np.array(batch_losses).mean() # calculate loss for one epoch\n",
    "        one_epoch_val_loss = np.array(batch_val_losses).mean()\n",
    "        early_stopping(one_epoch_val_loss, one_epoch_loss)\n",
    "        \n",
    "        loss_hist.append(one_epoch_loss) # track loss for every epoch\n",
    "        val_loss_hist.append(one_epoch_val_loss)\n",
    "        final_epoch = epoch\n",
    "        \n",
    "        if early_stopping.early_stop:\n",
    "            print(f\"Early stopping at epoch {epoch}, training loss: {one_epoch_loss:.4f}, validation loss: {one_epoch_val_loss:.4f}\")\n",
    "            break\n",
    "\n",
    "        scheduler.step()\n",
    "        if (epoch + 1) % 5 == 0:\n",
    "            print(f\"Epoch {epoch + 1}/{epochs}, training loss: {one_epoch_loss:.4f}, validation loss: {one_epoch_val_loss:.4f}\")\n",
    "\n",
    "    return loss_hist, val_loss_hist, final_epoch"
   ],
   "id": "2bb2d792b9399d18",
   "outputs": [],
   "execution_count": 122
  },
  {
   "metadata": {
    "ExecuteTime": {
     "end_time": "2024-12-29T15:58:55.626018Z",
     "start_time": "2024-12-28T17:21:34.201647Z"
    }
   },
   "cell_type": "code",
   "source": "loss_history, val_loss_history, final_epoch = train_model()",
   "id": "f6ae832c2e506d45",
   "outputs": [
    {
     "name": "stdout",
     "output_type": "stream",
     "text": [
      "Epoch 5/20, training loss: 0.7029, validation loss: 0.6904\n",
      "Val_loss no longer improving\n",
      "Early stopping at epoch 5, training loss: 0.7020, validation loss: 0.6897\n"
     ]
    }
   ],
   "execution_count": 123
  },
  {
   "metadata": {},
   "cell_type": "markdown",
   "source": "### Saving model",
   "id": "c96cc236da1d3463"
  },
  {
   "metadata": {
    "ExecuteTime": {
     "end_time": "2024-12-29T15:58:55.626103Z",
     "start_time": "2024-12-28T17:29:09.398162Z"
    }
   },
   "cell_type": "code",
   "source": "# torch.save(model.to('cpu').state_dict(), 'latest_model.pth')",
   "id": "40f8aa369e1bb2e3",
   "outputs": [],
   "execution_count": 124
  },
  {
   "metadata": {},
   "cell_type": "markdown",
   "source": "### Plotting training loss and validation loss",
   "id": "8dabb8f90781c90c"
  },
  {
   "metadata": {
    "ExecuteTime": {
     "end_time": "2024-12-29T15:58:55.626169Z",
     "start_time": "2024-12-28T17:29:09.721945Z"
    }
   },
   "cell_type": "code",
   "source": [
    "y_arr = np.arange(final_epoch + 1)\n",
    "plt.plot(y_arr, loss_history, 'g', label='Training loss')\n",
    "plt.plot(y_arr, val_loss_history, 'r', label='Validation loss')\n",
    "plt.xlabel(\"Epoch\")\n",
    "plt.ylabel(\"Loss\")\n",
    "plt.title(\"Training and Validation Loss\")\n",
    "plt.legend()\n",
    "plt.show()"
   ],
   "id": "debe06d83c86886e",
   "outputs": [
    {
     "data": {
      "text/plain": [
       "<Figure size 640x480 with 1 Axes>"
      ],
      "image/png": "[encoded data removed]"
     },
     "metadata": {},
     "output_type": "display_data"
    }
   ],
   "execution_count": 125
  },
  {
   "metadata": {},
   "cell_type": "markdown",
   "source": [
    "### Evaluation code\n",
    "This part of code evaluates the performance of our trained model. Create a new object of the CNN model class, then load the saved parameters weights. Evaluate the model by using the test sets and calculate accuracy."
   ],
   "id": "a6e03cf2de966e9"
  },
  {
   "metadata": {
    "ExecuteTime": {
     "end_time": "2024-12-29T15:58:55.626293Z",
     "start_time": "2024-12-28T18:10:41.446897Z"
    }
   },
   "cell_type": "code",
   "outputs": [],
   "execution_count": 127,
   "source": [
    "from torch.nn.functional import sigmoid\n",
    "\n",
    "base_path = \"./../Dataset/cifake\"\n",
    "test_path = os.path.join(base_path, \"test\")"
   ],
   "id": "4f7be70950d41dda"
  },
  {
   "metadata": {},
   "cell_type": "markdown",
   "source": "We only load test sets here",
   "id": "9bd9755511f4eddd"
  },
  {
   "metadata": {
    "ExecuteTime": {
     "end_time": "2024-12-29T15:58:55.626362Z",
     "start_time": "2024-12-28T18:10:41.464371Z"
    }
   },
   "cell_type": "code",
   "outputs": [],
   "execution_count": 128,
   "source": [
    "test_dataset = datasets.ImageFolder(root=test_path, transform=transform)\n",
    "\n",
    "test_loader = DataLoader(test_dataset, batch_size=64, shuffle=False, num_workers=4)"
   ],
   "id": "85dd808cf525e774"
  },
  {
   "metadata": {},
   "cell_type": "markdown",
   "source": "Shows misclassified images",
   "id": "9915fc5a93b83957"
  },
  {
   "metadata": {
    "ExecuteTime": {
     "end_time": "2024-12-29T15:58:55.626426Z",
     "start_time": "2024-12-28T18:10:41.555187Z"
    }
   },
   "cell_type": "code",
   "outputs": [],
   "execution_count": 132,
   "source": [
    "def show_predictions(images, labels, predictions, num_to_display=10):\n",
    "    # Identify misclassified indices\n",
    "    misclassified_idx = [i for i, (label, pred) in enumerate(zip(labels, predictions)) if label != pred]\n",
    "    \n",
    "    misclassified_idx = misclassified_idx[:num_to_display]\n",
    "    \n",
    "    plt.figure(figsize=(10, 10))\n",
    "    for i, idx in enumerate(misclassified_idx):\n",
    "        plt.subplot(1, num_to_display, i + 1)\n",
    "        img = images[idx].permute(1, 2, 0)\n",
    "        img = img.cpu().numpy()\n",
    "        plt.imshow(img, cmap='gray')\n",
    "        plt.title(f\"True: {labels[idx]}\\nPred: {predictions[idx]}\")\n",
    "        plt.axis('off')\n",
    "    \n",
    "    plt.tight_layout()\n",
    "    plt.show()"
   ],
   "id": "74f8071245778ce7"
  },
  {
   "metadata": {
    "ExecuteTime": {
     "end_time": "2024-12-29T15:58:55.626492Z",
     "start_time": "2024-12-28T18:10:41.568944Z"
    }
   },
   "cell_type": "code",
   "outputs": [],
   "execution_count": 133,
   "source": [
    "def accuracy(test_loader, model, device, threshold=0.5):\n",
    "    model.to(device)\n",
    "\n",
    "    model.eval()\n",
    "    pred_list = []\n",
    "    true_list = []\n",
    "    \n",
    "    total_correct = 0\n",
    "    total_samples = 0\n",
    "\n",
    "    with torch.no_grad():\n",
    "        for i, data in enumerate(iter(test_loader)):\n",
    "            inputs, labels = data\n",
    "            inputs, labels = inputs.to(device), labels.to(device)\n",
    "\n",
    "            outputs = model(inputs).squeeze(1)\n",
    "            probs = sigmoid(outputs) # apply sigmoid to convert outputs to range [0, 1]\n",
    "\n",
    "            preds = (probs >= threshold).long()\n",
    "\n",
    "            corrects = preds == labels\n",
    "            pred_list.append(preds.cpu().numpy())\n",
    "            true_list.append(labels.cpu().numpy())\n",
    "            \n",
    "            total_correct += corrects.sum().item() # extracts the total correct value as a scalar value of a python number \n",
    "            total_samples += labels.size(0)\n",
    "            if i == 100:\n",
    "                print(f\"Evaluation round {i}, misclassified images: \")\n",
    "                show_predictions(inputs, labels ,preds, num_to_display=10)\n",
    "\n",
    "    true_list = np.concatenate(true_list) # turn 2d true_list into 1d true_list\n",
    "    pred_list = np.concatenate(pred_list)\n",
    "    return pred_list, true_list"
   ],
   "id": "f6c243141ba148b2"
  },
  {
   "metadata": {
    "ExecuteTime": {
     "end_time": "2024-12-29T15:58:55.626574Z",
     "start_time": "2024-12-28T18:10:41.669184Z"
    }
   },
   "cell_type": "code",
   "outputs": [
    {
     "name": "stdout",
     "output_type": "stream",
     "text": [
      "Evaluation round 100, misclassified images: \n"
     ]
    },
    {
     "data": {
      "text/plain": [
       "<Figure size 1000x1000 with 4 Axes>"
      ],
      "image/png": "[encoded data removed]"
     },
     "metadata": {},
     "output_type": "display_data"
    }
   ],
   "execution_count": 135,
   "source": "predicted_labels, true_labels = accuracy(test_loader, model, device, threshold=0.6)",
   "id": "b8966af2716f93f2"
  },
  {
   "metadata": {
    "ExecuteTime": {
     "end_time": "2024-12-29T15:58:55.626665Z",
     "start_time": "2024-12-28T18:11:08.717916Z"
    }
   },
   "cell_type": "code",
   "outputs": [
    {
     "name": "stdout",
     "output_type": "stream",
     "text": [
      "Accuracy: 93.81%\n",
      "Precision: 93.82%\n",
      "Recall: 93.81%\n",
      "F1 Score: 93.81%\n"
     ]
    }
   ],
   "execution_count": 136,
   "source": [
    "from sklearn.metrics import f1_score\n",
    "from sklearn.metrics import recall_score\n",
    "from sklearn.metrics import precision_score\n",
    "from sklearn.metrics import accuracy_score\n",
    "\n",
    "# Accuracy: measures the proportion of correctly predicted instances out of the total instances.\n",
    "accuracy = accuracy_score(true_labels, predicted_labels)\n",
    "\n",
    "# Precision: measures the proportion of positive identifications that were actually correct.\n",
    "precision = precision_score(true_labels, predicted_labels, average='weighted')\n",
    "\n",
    "# Recall: measures the proportion of actual positives that were correctly identified.\n",
    "recall = recall_score(true_labels, predicted_labels, average='weighted')\n",
    "\n",
    "# F1 score: harmonic mean of precision and recall. It balances the two metrics.\n",
    "f1 = f1_score(true_labels, predicted_labels, average='weighted')\n",
    "print(f\"Accuracy: {accuracy * 100:.2f}%\")\n",
    "print(f\"Precision: {precision * 100:.2f}%\")\n",
    "print(f\"Recall: {recall * 100:.2f}%\")\n",
    "print(f\"F1 Score: {f1 * 100:.2f}%\")"
   ],
   "id": "df41598b052474cb"
  },
  {
   "metadata": {},
   "cell_type": "markdown",
   "source": "A table used to evaluate the performance of a classification model.",
   "id": "dfdb79b06d39e813"
  },
  {
   "metadata": {
    "ExecuteTime": {
     "end_time": "2024-12-29T15:58:55.626743Z",
     "start_time": "2024-12-28T18:11:08.744021Z"
    }
   },
   "cell_type": "code",
   "outputs": [
    {
     "data": {
      "text/plain": [
       "<Figure size 640x480 with 2 Axes>"
      ],
      "image/png": "[encoded data removed]"
     },
     "metadata": {},
     "output_type": "display_data"
    }
   ],
   "execution_count": 137,
   "source": [
    "from sklearn.metrics import confusion_matrix, ConfusionMatrixDisplay\n",
    "\n",
    "conf_matrix = confusion_matrix(true_labels, predicted_labels)\n",
    "disp = ConfusionMatrixDisplay(confusion_matrix=conf_matrix, display_labels=[\"Real\", \"Fake\"])\n",
    "disp.plot(cmap='copper')\n",
    "plt.show()"
   ],
   "id": "f72f9050c2cbd8c6"
  }
 ],
 "metadata": {
  "kernelspec": {
   "display_name": "Python 3",
   "language": "python",
   "name": "python3"
  },
  "language_info": {
   "codemirror_mode": {
    "name": "ipython",
    "version": 2
   },
   "file_extension": ".py",
   "mimetype": "text/x-python",
   "name": "python",
   "nbconvert_exporter": "python",
   "pygments_lexer": "ipython2",
   "version": "2.7.6"
  }
 },
 "nbformat": 4,
 "nbformat_minor": 5
}
