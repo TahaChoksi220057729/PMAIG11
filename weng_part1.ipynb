{
 "cells": [
  {
   "metadata": {},
   "cell_type": "markdown",
   "source": [
    "### Download dataset from Kaggle, fashion_mnist\n",
    "\n",
    "todo: explain why we choose to use fashion_mnist"
   ],
   "id": "c175d4d6132787b7"
  },
  {
   "metadata": {
    "collapsed": true,
    "ExecuteTime": {
     "end_time": "2024-12-06T13:19:34.146723Z",
     "start_time": "2024-12-06T13:19:32.184928Z"
    }
   },
   "cell_type": "code",
   "source": [
    "import pandas as pd\n",
    "import matplotlib.pyplot as plt\n",
    "import numpy as np\n",
    "\n",
    "training_set = pd.read_csv('Dataset/fashion_data/fashion-mnist_train.csv')\n",
    "test_set = pd.read_csv('Dataset/fashion_data/fashion-mnist_test.csv')\n",
    "\n",
    "print(training_set.shape)\n",
    "print(test_set.shape)"
   ],
   "id": "initial_id",
   "outputs": [
    {
     "name": "stdout",
     "output_type": "stream",
     "text": [
      "(60000, 785)\n",
      "(10000, 785)\n"
     ]
    }
   ],
   "execution_count": 166
  },
  {
   "metadata": {},
   "cell_type": "markdown",
   "source": "perform data cleaning",
   "id": "99bd1df81b11ee9"
  },
  {
   "metadata": {
    "ExecuteTime": {
     "end_time": "2024-12-06T13:19:34.158621Z",
     "start_time": "2024-12-06T13:19:34.155953Z"
    }
   },
   "cell_type": "code",
   "source": [
    "# X is pixels, y is labels\n",
    "y_train = training_set.iloc[:, 0].to_numpy()\n",
    "X_train = training_set.iloc[:, 1:].to_numpy()\n",
    "y_test = test_set.iloc[:, 0].to_numpy()\n",
    "X_test = test_set.iloc[:, 1:].to_numpy()\n",
    "\n",
    "print(X_train.shape)\n",
    "print(y_train.shape)\n",
    "print(X_test.shape)\n",
    "print(y_test.shape)"
   ],
   "id": "e0306a4ea9e7d442",
   "outputs": [
    {
     "name": "stdout",
     "output_type": "stream",
     "text": [
      "(60000, 784)\n",
      "(60000,)\n",
      "(10000, 784)\n",
      "(10000,)\n"
     ]
    }
   ],
   "execution_count": 167
  },
  {
   "metadata": {
    "ExecuteTime": {
     "end_time": "2024-12-06T13:19:34.217706Z",
     "start_time": "2024-12-06T13:19:34.173461Z"
    }
   },
   "cell_type": "code",
   "source": [
    "#visualising one image\n",
    "\n",
    "# choosing the first image\n",
    "image_array = X_train[0]\n",
    "label = y_train[0]\n",
    "\n",
    "# reshape 784 to 28x28\n",
    "image_array = image_array.reshape(28, 28)\n",
    "\n",
    "# plotting the image\n",
    "plt.imshow(image_array, cmap='gray')\n",
    "plt.title(f\"Label: {label}\")\n",
    "plt.axis('off')\n",
    "plt.show()\n"
   ],
   "id": "c3ad543f1f410c0f",
   "outputs": [
    {
     "data": {
      "text/plain": [
       "<Figure size 640x480 with 1 Axes>"
      ],
      "image/png": "[encoded data removed]"
     },
     "metadata": {},
     "output_type": "display_data"
    }
   ],
   "execution_count": 168
  },
  {
   "metadata": {
    "ExecuteTime": {
     "end_time": "2024-12-06T13:19:34.345262Z",
     "start_time": "2024-12-06T13:19:34.231140Z"
    }
   },
   "cell_type": "code",
   "source": [
    "# rescaling the pixel values down to values between 0 - 1 for efficiency of neural network\n",
    "\n",
    "X_train = X_train / 255.0\n",
    "X_test = X_test / 255.0"
   ],
   "id": "e19cba663018fe9a",
   "outputs": [],
   "execution_count": 169
  },
  {
   "metadata": {
    "ExecuteTime": {
     "end_time": "2024-12-06T13:19:34.363875Z",
     "start_time": "2024-12-06T13:19:34.359116Z"
    }
   },
   "cell_type": "code",
   "source": [
    "# one hot encoding for labels\n",
    "\n",
    "y_train = pd.get_dummies(y_train)\n",
    "y_test = pd.get_dummies(y_test)\n",
    "\n",
    "print(y_train.shape)\n"
   ],
   "id": "97de46df7fa7c311",
   "outputs": [
    {
     "name": "stdout",
     "output_type": "stream",
     "text": [
      "(60000, 10)\n"
     ]
    }
   ],
   "execution_count": 170
  },
  {
   "metadata": {
    "ExecuteTime": {
     "end_time": "2024-12-06T13:19:34.391600Z",
     "start_time": "2024-12-06T13:19:34.389628Z"
    }
   },
   "cell_type": "code",
   "source": [
    "# for reproducibility\n",
    "np.random.seed(42)\n",
    "\n",
    "# architecture of the neural network\n",
    "input_nodes = X_train.shape[1]\n",
    "hidden_nodes = 128\n",
    "output_nodes = 10"
   ],
   "id": "c71c15c75dd284c0",
   "outputs": [],
   "execution_count": 171
  },
  {
   "metadata": {
    "ExecuteTime": {
     "end_time": "2024-12-06T13:19:34.400530Z",
     "start_time": "2024-12-06T13:19:34.393707Z"
    }
   },
   "cell_type": "code",
   "source": [
    "# activation functions and its derivatives\n",
    "class ReLU:\n",
    "    def __init__(self):\n",
    "        self.x_copy = None\n",
    "\n",
    "    def forward(self, x):\n",
    "        self.x_copy = x\n",
    "        return np.maximum(0, x)\n",
    "\n",
    "    def backward(self, dout):\n",
    "        return dout * (self.x_copy > 0)\n",
    "\n",
    "\n",
    "class Sigmoid:\n",
    "    def __init__(self):\n",
    "        self.x_copy = None\n",
    "\n",
    "    def sigmoid(self, x):\n",
    "        x = np.clip(x, -500, 500)\n",
    "        return 1 / (1 + np.exp(-x))\n",
    "\n",
    "    def forward(self, x):\n",
    "        self.x_copy = x\n",
    "        return self.sigmoid(x)\n",
    "\n",
    "    def backward(self, dout):\n",
    "        return self.sigmoid(self.x_copy) * (1 - self.sigmoid(self.x_copy)) * dout\n",
    "\n",
    "\n",
    "class Softmax:\n",
    "    def __init__(self, crossEntropy=False):\n",
    "        self.x_copy = None\n",
    "        self.cross_entropy = crossEntropy\n",
    "\n",
    "    def softmax(self, x):\n",
    "        stable_exp_x = np.exp(x - np.max(x, axis=1, keepdims=True))\n",
    "        return stable_exp_x / np.sum(stable_exp_x, axis=1, keepdims=True)\n",
    "\n",
    "    def forward(self, x):\n",
    "        self.x_copy = x\n",
    "        return self.softmax(x)\n",
    "\n",
    "    def backward(self, dout):\n",
    "        if self.cross_entropy:\n",
    "            return dout\n",
    "        else:\n",
    "            softmax_output = self.softmax(self.x_copy)\n",
    "            return softmax_output * (dout - (dout * softmax_output).sum(axis=1, keepdims=True))\n",
    "\n",
    "            # reshaping shape (m,) to (m,1) by doing [:, None] to allow broadcasting\n",
    "            # return self.softmax(self.x_copy) * (dout - (dout * self.softmax(self.x_copy)).sum(axis=1)[:, None])\n",
    "\n",
    "\n",
    "class Linear:\n",
    "    def __init__(self, input_num, output_num):\n",
    "        self.db = None\n",
    "        self.dw = None\n",
    "        self.rng = np.random.default_rng(42)\n",
    "        # initialise weights with Xavier initialisation\n",
    "        self.weights = self.rng.normal(size=(input_num, output_num)) * np.sqrt(2 / input_num)\n",
    "        self.bias = np.zeros((1, output_num))\n",
    "        self.X_copy = None\n",
    "\n",
    "    def forward(self, X):\n",
    "        self.X_copy = X\n",
    "        return np.dot(X, self.weights) + self.bias\n",
    "\n",
    "    def backward(self, dout):\n",
    "        # Gradient with respect to weights\n",
    "        dw = np.dot(self.X_copy.T, dout)  # Shape: (input_num, output_num)\n",
    "\n",
    "        # Gradient with respect to biases\n",
    "        db = np.sum(dout, axis=0)  # Shape: (1, output_num)\n",
    "\n",
    "        # Gradient with respect to inputs\n",
    "        dx = np.dot(dout, self.weights.T)  # Shape: (batch_size, input_num)\n",
    "\n",
    "        # Save gradients for weight and bias updates\n",
    "        self.dw = dw\n",
    "        self.db = db\n",
    "\n",
    "        return dx\n",
    "\n",
    "    def update_weights(self, learning_rate):\n",
    "        if self.dw is not None and self.db is not None:\n",
    "            self.weights -= learning_rate * self.dw\n",
    "            self.bias -= learning_rate * self.db\n",
    "        else:\n",
    "            print(\"Error: gradients not detected.\")\n",
    "\n",
    "\n",
    "class CrossEntropy:\n",
    "    def __init__(self, softmax=False):\n",
    "        self.y_pred_copy = None\n",
    "        self.softmax = softmax\n",
    "\n",
    "    def forward(self, y, y_pred):\n",
    "        self.y_pred_copy = np.clip(y_pred, 1e-8, 1)\n",
    "        return -np.mean(np.sum(y * np.log(self.y_pred_copy), axis=1))  # axis = 1 to sum across classes\n",
    "\n",
    "    def backward(self, y):\n",
    "        if self.softmax:\n",
    "            return self.y_pred_copy - y\n",
    "        # -y / y_pred / y.shape[0]\n",
    "        return np.where(y == 1, - y / (self.y_pred_copy + 1e-15) / y.shape[0], 0)"
   ],
   "id": "2246ea3f1eb50fb8",
   "outputs": [],
   "execution_count": 172
  },
  {
   "metadata": {
    "ExecuteTime": {
     "end_time": "2024-12-06T13:19:34.415781Z",
     "start_time": "2024-12-06T13:19:34.412189Z"
    }
   },
   "cell_type": "code",
   "source": [
    "class NeuralNetwork:\n",
    "    def __init__(self, layers, loss_fn, learning_rate):\n",
    "        self.layers = layers\n",
    "        self.loss_fn = loss_fn\n",
    "        self.learning_rate = learning_rate\n",
    "        return\n",
    "\n",
    "    def forward(self, x):\n",
    "        for layer in self.layers:\n",
    "            x = layer.forward(x)\n",
    "        return x\n",
    "\n",
    "    def loss(self, y, y_pred):\n",
    "        return self.loss_fn.forward(y, y_pred)\n",
    "\n",
    "    def backward(self, loss):\n",
    "        grad = self.loss_fn.backward(loss)\n",
    "        for i in range(len(self.layers) - 1, -1, -1):\n",
    "            grad = self.layers[i].backward(grad)\n",
    "\n",
    "    def update(self):\n",
    "        for layer in self.layers:\n",
    "            if isinstance(layer, Linear):\n",
    "                layer.update_weights(self.learning_rate)\n",
    "\n",
    "    def predict(self, X):\n",
    "        return self.forward(X)\n",
    "\n",
    "    def evaluate(self, X_test, y_test):\n",
    "        y_pred = self.predict(X_test)\n",
    "        correct_predictions = np.argmax(y_pred, axis=1) == np.argmax(y_test, axis=1)\n",
    "        accuracy = np.mean(correct_predictions)\n",
    "        return accuracy\n",
    "\n",
    "    def train(self, X_train, y_train, epochs=10):\n",
    "        loss_hist = []\n",
    "        for epoch in range(epochs):\n",
    "            y_pred = self.forward(X_train)\n",
    "            loss = self.loss(y_train, y_pred)\n",
    "            loss_hist.append(loss)\n",
    "            self.backward(loss)\n",
    "            self.update()\n",
    "        return loss_hist"
   ],
   "id": "9a078cf45c4abbdb",
   "outputs": [],
   "execution_count": 173
  },
  {
   "metadata": {
    "ExecuteTime": {
     "end_time": "2024-12-06T13:19:34.430159Z",
     "start_time": "2024-12-06T13:19:34.428031Z"
    }
   },
   "cell_type": "code",
   "source": [
    "def plot_loss(loss_hist):\n",
    "    plt.plot(loss_hist)\n",
    "    plt.xlabel('Epochs')\n",
    "    plt.ylabel('Loss')\n",
    "    plt.title('Training Loss Over Epochs')\n",
    "    plt.grid(True)\n",
    "    plt.show()"
   ],
   "id": "3dbf0b8ed880df79",
   "outputs": [],
   "execution_count": 174
  },
  {
   "metadata": {
    "ExecuteTime": {
     "end_time": "2024-12-06T13:21:26.451531Z",
     "start_time": "2024-12-06T13:21:17.652929Z"
    }
   },
   "cell_type": "code",
   "source": [
    "model = NeuralNetwork(\n",
    "    [Linear(X_train.shape[1], 8),\n",
    "     ReLU(),\n",
    "     Linear(8, 10),\n",
    "     Softmax(crossEntropy=True)],\n",
    "    CrossEntropy(softmax=True), 0.01)\n",
    "\n",
    "loss_hist = model.train(X_train, y_train, epochs=100)\n",
    "plot_loss(loss_hist)"
   ],
   "id": "cd4faca7dc18eb51",
   "outputs": [
    {
     "name": "stderr",
     "output_type": "stream",
     "text": [
      "/var/folders/qp/bxzl_3617sn9cpjhhk8myhbc0000gn/T/ipykernel_38708/3317837948.py:36: RuntimeWarning: invalid value encountered in subtract\n",
      "  stable_exp_x = np.exp(x - np.max(x, axis=1, keepdims=True))\n"
     ]
    },
    {
     "data": {
      "text/plain": [
       "<Figure size 640x480 with 1 Axes>"
      ],
      "image/png": "[encoded data removed]"
     },
     "metadata": {},
     "output_type": "display_data"
    }
   ],
   "execution_count": 178
  },
  {
   "metadata": {
    "ExecuteTime": {
     "end_time": "2024-12-06T13:21:30.512486Z",
     "start_time": "2024-12-06T13:21:30.484676Z"
    }
   },
   "cell_type": "code",
   "source": [
    "acc = model.evaluate(X_test, y_test)\n",
    "print(acc)"
   ],
   "id": "ef2a8599ae3473dd",
   "outputs": [
    {
     "name": "stdout",
     "output_type": "stream",
     "text": [
      "0.1\n"
     ]
    }
   ],
   "execution_count": 179
  },
  {
   "metadata": {
    "ExecuteTime": {
     "end_time": "2024-12-06T13:19:35.551005Z",
     "start_time": "2024-12-06T13:19:35.549826Z"
    }
   },
   "cell_type": "code",
   "source": "",
   "id": "5c7636553c68faea",
   "outputs": [],
   "execution_count": null
  }
 ],
 "metadata": {
  "kernelspec": {
   "display_name": "Python 3",
   "language": "python",
   "name": "python3"
  },
  "language_info": {
   "codemirror_mode": {
    "name": "ipython",
    "version": 2
   },
   "file_extension": ".py",
   "mimetype": "text/x-python",
   "name": "python",
   "nbconvert_exporter": "python",
   "pygments_lexer": "ipython2",
   "version": "2.7.6"
  }
 },
 "nbformat": 4,
 "nbformat_minor": 5
}
