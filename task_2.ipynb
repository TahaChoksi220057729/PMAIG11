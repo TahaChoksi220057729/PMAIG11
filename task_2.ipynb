{
 "cells": [
  {
   "metadata": {},
   "cell_type": "markdown",
   "source": "Import modules",
   "id": "35d1e7e653f73e70"
  },
  {
   "cell_type": "code",
   "id": "initial_id",
   "metadata": {
    "collapsed": true,
    "ExecuteTime": {
     "end_time": "2024-12-18T10:14:04.573433Z",
     "start_time": "2024-12-18T10:13:58.614128Z"
    }
   },
   "source": [
    "import matplotlib.pyplot as plt\n",
    "from sklearn.model_selection import train_test_split\n",
    "import os\n",
    "\n",
    "import torch\n",
    "from torch import nn\n",
    "from torch.utils.data import DataLoader\n",
    "from torchvision import datasets, transforms\n",
    "import torch.nn.functional as F\n",
    "\n",
    "base_path = \"Dataset/cifake\"\n",
    "train_path = os.path.join(base_path, \"train\")\n",
    "test_path = os.path.join(base_path, \"test\")\n"
   ],
   "outputs": [],
   "execution_count": 1
  },
  {
   "metadata": {},
   "cell_type": "markdown",
   "source": "Loading datasets using ImageFolder and DataLoaders",
   "id": "5be31ddd2f4a1ecb"
  },
  {
   "metadata": {
    "ExecuteTime": {
     "end_time": "2024-12-18T10:14:20.156559Z",
     "start_time": "2024-12-18T10:14:04.580319Z"
    }
   },
   "cell_type": "code",
   "source": [
    "# convert to tensors and normalise pixel values to [-1, 1]\n",
    "transform = transforms.Compose([\n",
    "    transforms.ToTensor(),\n",
    "    transforms.Normalize(mean=[0.5, 0.5, 0.5], std=[0.5, 0.5, 0.5])\n",
    "])\n",
    "\n",
    "train_dataset = datasets.ImageFolder(root=train_path, transform=transform)\n",
    "test_dataset = datasets.ImageFolder(root=test_path, transform=transform)\n",
    "\n",
    "image, label = train_dataset[0] \n",
    "print(f\"Dataset Shape: {train_dataset.__len__()}\")\n",
    "print(f\"Image shape: {image.shape}\")\n",
    "print(f\"Label: {label}\")\n",
    "\n",
    "train_loader = DataLoader(train_dataset, batch_size=64, shuffle=True, num_workers=4)\n",
    "test_loader = DataLoader(test_dataset, batch_size=64, shuffle=False, num_workers=4)\n",
    "\n",
    "images, labels = next(iter(train_loader))\n",
    "print(f\"Batch image shape: {images.shape}\")  # (batch, channel, height, width)\n",
    "print(f\"Batch label shape: {labels.shape}\")  # (batch,)\n",
    "print(f\"Labels: {labels}\")\n",
    "\n",
    "print(f\"Class-to-Label Mapping: {train_dataset.class_to_idx}\")"
   ],
   "id": "5544d1c8e74bb37b",
   "outputs": [
    {
     "name": "stdout",
     "output_type": "stream",
     "text": [
      "Dataset Shape: 100000\n",
      "Image shape: torch.Size([3, 32, 32])\n",
      "Label: 0\n",
      "Batch image shape: torch.Size([64, 3, 32, 32])\n",
      "Batch label shape: torch.Size([64])\n",
      "Labels: tensor([0, 1, 0, 0, 1, 1, 1, 0, 1, 0, 1, 0, 1, 0, 0, 0, 0, 1, 0, 1, 0, 0, 1, 1,\n",
      "        0, 1, 0, 1, 1, 1, 1, 0, 0, 0, 1, 0, 1, 1, 0, 1, 0, 0, 0, 1, 0, 1, 0, 1,\n",
      "        0, 0, 1, 1, 0, 1, 1, 0, 1, 1, 0, 1, 1, 0, 1, 1])\n",
      "Class-to-Label Mapping: {'FAKE': 0, 'REAL': 1}\n"
     ]
    }
   ],
   "execution_count": 2
  },
  {
   "metadata": {},
   "cell_type": "markdown",
   "source": "showing image samples",
   "id": "ccf3342315193a9e"
  },
  {
   "metadata": {
    "ExecuteTime": {
     "end_time": "2024-12-18T10:14:20.371976Z",
     "start_time": "2024-12-18T10:14:20.367472Z"
    }
   },
   "cell_type": "code",
   "source": [
    "import matplotlib.pyplot as plt\n",
    "import torch\n",
    "\n",
    "\n",
    "def show_real_vs_fake_images(data_loader, class_names):\n",
    "    \"\"\"\n",
    "    Displays 2 real CIFAR-10 images (label 1) and 2 AI-generated images (label 0) side by side.\n",
    "\n",
    "    Args:\n",
    "        data_loader: DataLoader object containing the images and labels.\n",
    "        class_names: List of class names corresponding to the dataset.\n",
    "    \"\"\"\n",
    "    real_images = []\n",
    "    fake_images = []\n",
    "\n",
    "    for features, labels in data_loader:\n",
    "        for i in range(len(labels)):\n",
    "            if len(real_images) < 2 and labels[i].item() == 1:  # real images\n",
    "                real_images.append(features[i])\n",
    "            elif len(fake_images) < 2 and labels[i].item() == 0:  # fake images\n",
    "                fake_images.append(features[i])\n",
    "            if len(real_images) == 2 and len(fake_images) == 2:\n",
    "                break\n",
    "        if len(real_images) == 4 and len(fake_images) == 4:\n",
    "            break\n",
    "\n",
    "    fig, axes = plt.subplots(2, 2, figsize=(12, 6))\n",
    "    fig.suptitle(\"Top Row: Real CIFAR-10 | Bottom Row: AI-Generated\", fontsize=14)\n",
    "\n",
    "    for i, img in enumerate(real_images):\n",
    "        img = img.permute(1, 2, 0)  # convert (C, H, W) to (H, W, C)\n",
    "        img = img / 2 + 0.5  # pixel values from [-1, 1] to [0, 1]\n",
    "        axes[0, i].imshow(img)\n",
    "        axes[0, i].set_title(f\"Label: {class_names[1]}\")\n",
    "        axes[0, i].axis(\"off\")\n",
    "\n",
    "    for i, img in enumerate(fake_images):\n",
    "        img = img.permute(1, 2, 0)\n",
    "        img = img / 2 + 0.5  \n",
    "        axes[1, i].imshow(img)\n",
    "        axes[1, i].set_title(f\"Label: {class_names[0]}\")\n",
    "        axes[1, i].axis(\"off\")\n",
    "\n",
    "    plt.tight_layout(rect=[0, 0, 1, 0.95])\n",
    "    plt.show()"
   ],
   "id": "ca4341fb9a2b79ae",
   "outputs": [],
   "execution_count": 3
  },
  {
   "metadata": {
    "ExecuteTime": {
     "end_time": "2024-12-18T10:14:52.019347Z",
     "start_time": "2024-12-18T10:14:20.381872Z"
    }
   },
   "cell_type": "code",
   "source": [
    "class_names = [\"FAKE (0)\", \"REAL (1)\"]\n",
    "show_real_vs_fake_images(train_loader, class_names)"
   ],
   "id": "9804c2dabd8cb770",
   "outputs": [
    {
     "data": {
      "text/plain": [
       "<Figure size 1200x600 with 4 Axes>"
      ],
      "image/png": "[encoded data removed]"
     },
     "metadata": {},
     "output_type": "display_data"
    }
   ],
   "execution_count": 4
  },
  {
   "metadata": {},
   "cell_type": "markdown",
   "source": "Creating model",
   "id": "642645709df7be86"
  },
  {
   "metadata": {
    "ExecuteTime": {
     "end_time": "2024-12-18T10:14:52.035653Z",
     "start_time": "2024-12-18T10:14:52.031830Z"
    }
   },
   "cell_type": "code",
   "source": [
    "class CNNModel(nn.Module):\n",
    "    def __init__(self):\n",
    "        super().__init__()\n",
    "\n",
    "        self.conv1 = nn.Conv2d(in_channels=3, out_channels=32, kernel_size=3, stride=1,\n",
    "                               padding=1)  # Input: (3, 32, 32) Output: (32, 32, 32)\n",
    "        self.conv2 = nn.Conv2d(in_channels=32, out_channels=64, kernel_size=3, stride=1,\n",
    "                               padding=1)  # Input: (32, 32, 32) Output: (64, 32, 32)\n",
    "        self.conv3 = nn.Conv2d(in_channels=64, out_channels=128, kernel_size=3, stride=1,\n",
    "                               padding=1)  # Input: (64, 32, 32) Output: (128, 32, 32)\n",
    "\n",
    "        self.pool = nn.MaxPool2d(kernel_size=2, stride=2)  # dimension / 2\n",
    "\n",
    "        self.fc1 = nn.Linear(in_features=128 * 8 * 8, out_features=512)  # flatten output from pool\n",
    "        self.fc2 = nn.Linear(in_features=512, out_features=1)\n",
    "\n",
    "        self.dropout = nn.Dropout(p=0.5)\n",
    "\n",
    "    def forward(self, x):\n",
    "        x = F.relu(self.conv1(x))  # Output: (32, 32, 32)\n",
    "        x = self.pool(F.relu(self.conv2(x)))  # Output: (64, 16, 16)\n",
    "        x = self.pool(F.relu(self.conv3(x)))  # Output: (128, 8, 8)\n",
    "\n",
    "        x = x.view(-1, 128 * 8 * 8)  # flatten to (batch_size, 128 * 8 * 8)\n",
    "\n",
    "        x = F.relu(self.fc1(x))\n",
    "        x = self.dropout(x) \n",
    "        x = self.fc2(x)  # no need for activation, BCELossWithLogits combines sigmoid\n",
    "\n",
    "        return x"
   ],
   "id": "d2bd763fe7e1ab53",
   "outputs": [],
   "execution_count": 5
  },
  {
   "metadata": {
    "ExecuteTime": {
     "end_time": "2024-12-18T10:14:52.083824Z",
     "start_time": "2024-12-18T10:14:52.065772Z"
    }
   },
   "cell_type": "code",
   "source": [
    "model = CNNModel()\n",
    "\n",
    "print(model)"
   ],
   "id": "b1fcc7e77f0c3c00",
   "outputs": [
    {
     "name": "stdout",
     "output_type": "stream",
     "text": [
      "CNNModel(\n",
      "  (conv1): Conv2d(3, 32, kernel_size=(3, 3), stride=(1, 1), padding=(1, 1))\n",
      "  (conv2): Conv2d(32, 64, kernel_size=(3, 3), stride=(1, 1), padding=(1, 1))\n",
      "  (conv3): Conv2d(64, 128, kernel_size=(3, 3), stride=(1, 1), padding=(1, 1))\n",
      "  (pool): MaxPool2d(kernel_size=2, stride=2, padding=0, dilation=1, ceil_mode=False)\n",
      "  (fc1): Linear(in_features=8192, out_features=512, bias=True)\n",
      "  (fc2): Linear(in_features=512, out_features=1, bias=True)\n",
      "  (dropout): Dropout(p=0.5, inplace=False)\n",
      ")\n"
     ]
    }
   ],
   "execution_count": 6
  },
  {
   "metadata": {
    "ExecuteTime": {
     "end_time": "2024-12-18T10:14:52.094464Z",
     "start_time": "2024-12-18T10:14:52.089866Z"
    }
   },
   "cell_type": "code",
   "source": [
    "def train_model(model, device, train_loader, optimizer, loss_fn, epochs, lambda_L1=0.0):\n",
    "    loss_hist = []\n",
    "    \n",
    "    model.to(device)\n",
    "    \n",
    "    for epoch in range(epochs):\n",
    "        model.train()\n",
    "        epoch_loss = 0.0\n",
    "\n",
    "        for i, data in enumerate(train_loader, 0):\n",
    "            inputs, labels = data\n",
    "            inputs, labels = inputs.to(device), labels.to(device)\n",
    "\n",
    "            optimizer.zero_grad()\n",
    "\n",
    "            # Forward pass\n",
    "            outputs = model(inputs)\n",
    "\n",
    "            labels = labels.unsqueeze(1).float()\n",
    "\n",
    "            # compute loss\n",
    "            loss = loss_fn(outputs, labels)\n",
    "\n",
    "            # L1 penalty\n",
    "            if lambda_L1 > 0.0:\n",
    "                L1_loss = sum(p.abs().sum() for p in model.parameters())\n",
    "                loss = loss + lambda_L1 * L1_loss\n",
    "\n",
    "            # Backward pass\n",
    "            loss.backward()\n",
    "            optimizer.step()\n",
    "\n",
    "            epoch_loss += loss.item() * inputs.size(0)\n",
    "\n",
    "        avg_epoch_loss = epoch_loss / len(train_loader.dataset)\n",
    "        loss_hist.append(avg_epoch_loss)\n",
    "\n",
    "        if epoch % 10 == 0 or epoch == epochs - 1:\n",
    "            print(f\"Epoch {epoch}/{epochs}, Loss: {avg_epoch_loss:.4f}\")\n",
    "\n",
    "    return loss_hist"
   ],
   "id": "2bb2d792b9399d18",
   "outputs": [],
   "execution_count": 7
  },
  {
   "metadata": {
    "ExecuteTime": {
     "end_time": "2024-12-18T10:14:52.108099Z",
     "start_time": "2024-12-18T10:14:52.105631Z"
    }
   },
   "cell_type": "code",
   "source": [
    "device = torch.device(\"cuda\" if torch.cuda.is_available() else \"cpu\")\n",
    "epochs = 50\n",
    "lambda_L1 = 1e-4\n",
    "loss_fn = nn.BCEWithLogitsLoss()\n",
    "optimizer = torch.optim.Adam(model.parameters(), lr=0.001)"
   ],
   "id": "f45a5c08311cd8b5",
   "outputs": [],
   "execution_count": 8
  },
  {
   "metadata": {
    "ExecuteTime": {
     "end_time": "2024-12-18T10:30:01.023905Z",
     "start_time": "2024-12-18T10:14:52.118714Z"
    }
   },
   "cell_type": "code",
   "source": "loss_history = train_model(model, device, train_loader, optimizer, loss_fn, epochs, lambda_L1)",
   "id": "f6ae832c2e506d45",
   "outputs": [
    {
     "name": "stdout",
     "output_type": "stream",
     "text": [
      "Epoch 0/50, Loss: 0.5101\n"
     ]
    },
    {
     "name": "stderr",
     "output_type": "stream",
     "text": [
      "Exception ignored in: <function _MultiProcessingDataLoaderIter.__del__ at 0x176de2340>\n",
      "Traceback (most recent call last):\n",
      "  File \"/Library/Frameworks/Python.framework/Versions/3.11/lib/python3.11/site-packages/torch/utils/data/dataloader.py\", line 1604, in __del__\n",
      "    self._shutdown_workers()\n",
      "  File \"/Library/Frameworks/Python.framework/Versions/3.11/lib/python3.11/site-packages/torch/utils/data/dataloader.py\", line 1568, in _shutdown_workers\n",
      "    w.join(timeout=_utils.MP_STATUS_CHECK_INTERVAL)\n",
      "  File \"/Library/Frameworks/Python.framework/Versions/3.11/lib/python3.11/multiprocessing/process.py\", line 149, in join\n",
      "    res = self._popen.wait(timeout)\n",
      "          ^^^^^^^^^^^^^^^^^^^^^^^^^\n",
      "  File \"/Library/Frameworks/Python.framework/Versions/3.11/lib/python3.11/multiprocessing/popen_fork.py\", line 40, in wait\n",
      "    if not wait([self.sentinel], timeout):\n",
      "           ^^^^^^^^^^^^^^^^^^^^^^^^^^^^^^\n",
      "  File \"/Library/Frameworks/Python.framework/Versions/3.11/lib/python3.11/multiprocessing/connection.py\", line 930, in wait\n",
      "    ready = selector.select(timeout)\n",
      "            ^^^^^^^^^^^^^^^^^^^^^^^^\n",
      "  File \"/Library/Frameworks/Python.framework/Versions/3.11/lib/python3.11/selectors.py\", line 415, in select\n",
      "    fd_event_list = self._selector.poll(timeout)\n",
      "                    ^^^^^^^^^^^^^^^^^^^^^^^^^^^^\n",
      "KeyboardInterrupt: \n"
     ]
    },
    {
     "ename": "KeyboardInterrupt",
     "evalue": "",
     "output_type": "error",
     "traceback": [
      "\u001B[0;31m---------------------------------------------------------------------------\u001B[0m",
      "\u001B[0;31mKeyboardInterrupt\u001B[0m                         Traceback (most recent call last)",
      "Cell \u001B[0;32mIn[9], line 1\u001B[0m\n\u001B[0;32m----> 1\u001B[0m loss_history \u001B[38;5;241m=\u001B[39m \u001B[43mtrain_model\u001B[49m\u001B[43m(\u001B[49m\u001B[43mmodel\u001B[49m\u001B[43m,\u001B[49m\u001B[43m \u001B[49m\u001B[43mdevice\u001B[49m\u001B[43m,\u001B[49m\u001B[43m \u001B[49m\u001B[43mtrain_loader\u001B[49m\u001B[43m,\u001B[49m\u001B[43m \u001B[49m\u001B[43moptimizer\u001B[49m\u001B[43m,\u001B[49m\u001B[43m \u001B[49m\u001B[43mloss_fn\u001B[49m\u001B[43m,\u001B[49m\u001B[43m \u001B[49m\u001B[43mepochs\u001B[49m\u001B[43m,\u001B[49m\u001B[43m \u001B[49m\u001B[43mlambda_L1\u001B[49m\u001B[43m)\u001B[49m\n",
      "Cell \u001B[0;32mIn[7], line 48\u001B[0m, in \u001B[0;36mtrain_model\u001B[0;34m(model, device, train_loader, optimizer, loss_fn, epochs, lambda_L1)\u001B[0m\n\u001B[1;32m     45\u001B[0m     loss \u001B[38;5;241m=\u001B[39m loss \u001B[38;5;241m+\u001B[39m lambda_L1 \u001B[38;5;241m*\u001B[39m L1_loss\n\u001B[1;32m     47\u001B[0m \u001B[38;5;66;03m# Backward pass\u001B[39;00m\n\u001B[0;32m---> 48\u001B[0m \u001B[43mloss\u001B[49m\u001B[38;5;241;43m.\u001B[39;49m\u001B[43mbackward\u001B[49m\u001B[43m(\u001B[49m\u001B[43m)\u001B[49m\n\u001B[1;32m     49\u001B[0m optimizer\u001B[38;5;241m.\u001B[39mstep()\n\u001B[1;32m     51\u001B[0m \u001B[38;5;66;03m# Accumulate epoch loss\u001B[39;00m\n",
      "File \u001B[0;32m/Library/Frameworks/Python.framework/Versions/3.11/lib/python3.11/site-packages/torch/_tensor.py:581\u001B[0m, in \u001B[0;36mTensor.backward\u001B[0;34m(self, gradient, retain_graph, create_graph, inputs)\u001B[0m\n\u001B[1;32m    571\u001B[0m \u001B[38;5;28;01mif\u001B[39;00m has_torch_function_unary(\u001B[38;5;28mself\u001B[39m):\n\u001B[1;32m    572\u001B[0m     \u001B[38;5;28;01mreturn\u001B[39;00m handle_torch_function(\n\u001B[1;32m    573\u001B[0m         Tensor\u001B[38;5;241m.\u001B[39mbackward,\n\u001B[1;32m    574\u001B[0m         (\u001B[38;5;28mself\u001B[39m,),\n\u001B[0;32m   (...)\u001B[0m\n\u001B[1;32m    579\u001B[0m         inputs\u001B[38;5;241m=\u001B[39minputs,\n\u001B[1;32m    580\u001B[0m     )\n\u001B[0;32m--> 581\u001B[0m \u001B[43mtorch\u001B[49m\u001B[38;5;241;43m.\u001B[39;49m\u001B[43mautograd\u001B[49m\u001B[38;5;241;43m.\u001B[39;49m\u001B[43mbackward\u001B[49m\u001B[43m(\u001B[49m\n\u001B[1;32m    582\u001B[0m \u001B[43m    \u001B[49m\u001B[38;5;28;43mself\u001B[39;49m\u001B[43m,\u001B[49m\u001B[43m \u001B[49m\u001B[43mgradient\u001B[49m\u001B[43m,\u001B[49m\u001B[43m \u001B[49m\u001B[43mretain_graph\u001B[49m\u001B[43m,\u001B[49m\u001B[43m \u001B[49m\u001B[43mcreate_graph\u001B[49m\u001B[43m,\u001B[49m\u001B[43m \u001B[49m\u001B[43minputs\u001B[49m\u001B[38;5;241;43m=\u001B[39;49m\u001B[43minputs\u001B[49m\n\u001B[1;32m    583\u001B[0m \u001B[43m\u001B[49m\u001B[43m)\u001B[49m\n",
      "File \u001B[0;32m/Library/Frameworks/Python.framework/Versions/3.11/lib/python3.11/site-packages/torch/autograd/__init__.py:347\u001B[0m, in \u001B[0;36mbackward\u001B[0;34m(tensors, grad_tensors, retain_graph, create_graph, grad_variables, inputs)\u001B[0m\n\u001B[1;32m    342\u001B[0m     retain_graph \u001B[38;5;241m=\u001B[39m create_graph\n\u001B[1;32m    344\u001B[0m \u001B[38;5;66;03m# The reason we repeat the same comment below is that\u001B[39;00m\n\u001B[1;32m    345\u001B[0m \u001B[38;5;66;03m# some Python versions print out the first line of a multi-line function\u001B[39;00m\n\u001B[1;32m    346\u001B[0m \u001B[38;5;66;03m# calls in the traceback and some print out the last line\u001B[39;00m\n\u001B[0;32m--> 347\u001B[0m \u001B[43m_engine_run_backward\u001B[49m\u001B[43m(\u001B[49m\n\u001B[1;32m    348\u001B[0m \u001B[43m    \u001B[49m\u001B[43mtensors\u001B[49m\u001B[43m,\u001B[49m\n\u001B[1;32m    349\u001B[0m \u001B[43m    \u001B[49m\u001B[43mgrad_tensors_\u001B[49m\u001B[43m,\u001B[49m\n\u001B[1;32m    350\u001B[0m \u001B[43m    \u001B[49m\u001B[43mretain_graph\u001B[49m\u001B[43m,\u001B[49m\n\u001B[1;32m    351\u001B[0m \u001B[43m    \u001B[49m\u001B[43mcreate_graph\u001B[49m\u001B[43m,\u001B[49m\n\u001B[1;32m    352\u001B[0m \u001B[43m    \u001B[49m\u001B[43minputs\u001B[49m\u001B[43m,\u001B[49m\n\u001B[1;32m    353\u001B[0m \u001B[43m    \u001B[49m\u001B[43mallow_unreachable\u001B[49m\u001B[38;5;241;43m=\u001B[39;49m\u001B[38;5;28;43;01mTrue\u001B[39;49;00m\u001B[43m,\u001B[49m\n\u001B[1;32m    354\u001B[0m \u001B[43m    \u001B[49m\u001B[43maccumulate_grad\u001B[49m\u001B[38;5;241;43m=\u001B[39;49m\u001B[38;5;28;43;01mTrue\u001B[39;49;00m\u001B[43m,\u001B[49m\n\u001B[1;32m    355\u001B[0m \u001B[43m\u001B[49m\u001B[43m)\u001B[49m\n",
      "File \u001B[0;32m/Library/Frameworks/Python.framework/Versions/3.11/lib/python3.11/site-packages/torch/autograd/graph.py:825\u001B[0m, in \u001B[0;36m_engine_run_backward\u001B[0;34m(t_outputs, *args, **kwargs)\u001B[0m\n\u001B[1;32m    823\u001B[0m     unregister_hooks \u001B[38;5;241m=\u001B[39m _register_logging_hooks_on_whole_graph(t_outputs)\n\u001B[1;32m    824\u001B[0m \u001B[38;5;28;01mtry\u001B[39;00m:\n\u001B[0;32m--> 825\u001B[0m     \u001B[38;5;28;01mreturn\u001B[39;00m \u001B[43mVariable\u001B[49m\u001B[38;5;241;43m.\u001B[39;49m\u001B[43m_execution_engine\u001B[49m\u001B[38;5;241;43m.\u001B[39;49m\u001B[43mrun_backward\u001B[49m\u001B[43m(\u001B[49m\u001B[43m  \u001B[49m\u001B[38;5;66;43;03m# Calls into the C++ engine to run the backward pass\u001B[39;49;00m\n\u001B[1;32m    826\u001B[0m \u001B[43m        \u001B[49m\u001B[43mt_outputs\u001B[49m\u001B[43m,\u001B[49m\u001B[43m \u001B[49m\u001B[38;5;241;43m*\u001B[39;49m\u001B[43margs\u001B[49m\u001B[43m,\u001B[49m\u001B[43m \u001B[49m\u001B[38;5;241;43m*\u001B[39;49m\u001B[38;5;241;43m*\u001B[39;49m\u001B[43mkwargs\u001B[49m\n\u001B[1;32m    827\u001B[0m \u001B[43m    \u001B[49m\u001B[43m)\u001B[49m  \u001B[38;5;66;03m# Calls into the C++ engine to run the backward pass\u001B[39;00m\n\u001B[1;32m    828\u001B[0m \u001B[38;5;28;01mfinally\u001B[39;00m:\n\u001B[1;32m    829\u001B[0m     \u001B[38;5;28;01mif\u001B[39;00m attach_logging_hooks:\n",
      "\u001B[0;31mKeyboardInterrupt\u001B[0m: "
     ]
    }
   ],
   "execution_count": 9
  },
  {
   "metadata": {},
   "cell_type": "markdown",
   "source": "Plotting loss",
   "id": "8dabb8f90781c90c"
  },
  {
   "metadata": {},
   "cell_type": "code",
   "outputs": [],
   "execution_count": null,
   "source": [
    "plt.plot(range(len(loss_history)), loss_history)\n",
    "plt.xlabel(\"Epoch\")\n",
    "plt.ylabel(\"Loss\")\n",
    "plt.title(\"Training Loss\")\n",
    "plt.show()"
   ],
   "id": "debe06d83c86886e"
  },
  {
   "metadata": {},
   "cell_type": "markdown",
   "source": "Saving model",
   "id": "c96cc236da1d3463"
  },
  {
   "metadata": {
    "ExecuteTime": {
     "end_time": "2024-12-18T10:30:01.093116Z",
     "start_time": "2024-12-16T12:05:36.640358Z"
    }
   },
   "cell_type": "code",
   "source": [
    "# PATH = './cifar_net.pth'\n",
    "# torch.save(model.state_dict(), PATH)"
   ],
   "id": "4df6ccaaab1ec373",
   "outputs": [],
   "execution_count": 66
  },
  {
   "metadata": {},
   "cell_type": "markdown",
   "source": "Evaluating the model",
   "id": "846c4837bdc119d1"
  },
  {
   "metadata": {},
   "cell_type": "code",
   "outputs": [],
   "execution_count": null,
   "source": "",
   "id": "c00022503fd1fa97"
  }
 ],
 "metadata": {
  "kernelspec": {
   "display_name": "Python 3",
   "language": "python",
   "name": "python3"
  },
  "language_info": {
   "codemirror_mode": {
    "name": "ipython",
    "version": 2
   },
   "file_extension": ".py",
   "mimetype": "text/x-python",
   "name": "python",
   "nbconvert_exporter": "python",
   "pygments_lexer": "ipython2",
   "version": "2.7.6"
  }
 },
 "nbformat": 4,
 "nbformat_minor": 5
}
